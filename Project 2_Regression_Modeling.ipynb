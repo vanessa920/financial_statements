{
 "cells": [
  {
   "cell_type": "markdown",
   "metadata": {},
   "source": [
    "# Project 2: Regression Modeling 2 of 2\n",
    "\n",
    "Name: Vanessa Hu \n",
    "Date: October 3, 2020\n",
    "\n",
    "Weeks 2 and 3\n",
    "Backstory:\n",
    "Using information we scrape from the web, build linear regression models from which we can learn about movies, sports, or categories.\n",
    "\n",
    "Data:\n",
    "acquisition: web scraping\n",
    "storage: flat files\n",
    "sources: (as listed below or any other publicly available information)\n",
    "movie: boxofficemojo.com, imdb.com\n",
    "sports: sports-reference.com\n",
    "Skills:\n",
    "basics of the web (requests, HTML, CSS, JavaScript)\n",
    "\n",
    "web scraping\n",
    "numpy and pandas\n",
    "statsmodels, scikit-learn\n",
    "Analysis:\n",
    "linear regression is required, other regression methods are optional\n",
    "Deliverable/communication:\n",
    "organized project repository\n",
    "slide presentation\n",
    "visual and oral communication in presentations\n",
    "write-up of process and results\n",
    "\n",
    "\n",
    "Design:\n",
    "iterative design process\n",
    "\"MVP\"s and building outward\n",
    "stand-ups/scrums (1 minute progress updates to the class)\n",
    "\n",
    "More information:\n",
    "We'll learn about web scraping using two popular tools - BeautifulSoup and Selenium. You must know the very basics of HTML. We can also evolve the way we use Jupyter notebooks; during this project, we begin to use the notebook as a development scratchpad, where we test things out through interactive scripting, but then solidify our work in python modules with reusable functions and classes.\n",
    "\n",
    "We'll practice using linear regression. We'll have a first taste of feature selection, this time based on our intuition and some trial and error, and we'll build and refine our models.\n",
    "\n",
    "This project will give you the freedom to challenge yourself, no matter your skill level. Find your boundaries and push them a little further. We are very excited to see what you will learn and do for Project Luther!"
   ]
  },
  {
   "cell_type": "markdown",
   "metadata": {},
   "source": [
    "# Explore Dataset"
   ]
  },
  {
   "cell_type": "markdown",
   "metadata": {},
   "source": [
    "## Survey Data"
   ]
  },
  {
   "cell_type": "code",
   "execution_count": 1,
   "metadata": {},
   "outputs": [],
   "source": [
    "import pandas as pd\n",
    "import numpy as np\n",
    "from sklearn.model_selection import train_test_split\n",
    "from sklearn.linear_model import LinearRegression, Lasso, LassoCV, Ridge, RidgeCV\n",
    "from sklearn.metrics import r2_score\n",
    "\n",
    "import matplotlib.pyplot as plt\n",
    "import seaborn as sns\n",
    "%matplotlib inline\n",
    "\n",
    "sns.set(context='notebook', style='whitegrid', font_scale=1.2)"
   ]
  },
  {
   "cell_type": "code",
   "execution_count": 2,
   "metadata": {},
   "outputs": [],
   "source": [
    "df_raw = pd.read_csv(\"data/financial_statement_raw.csv\") # Import the scraped raw data "
   ]
  },
  {
   "cell_type": "code",
   "execution_count": 3,
   "metadata": {
    "ExecuteTime": {
     "end_time": "2020-10-04T02:25:06.528682Z",
     "start_time": "2020-10-04T02:25:06.513763Z"
    }
   },
   "outputs": [
    {
     "data": {
      "text/plain": [
       "(1206, 77)"
      ]
     },
     "execution_count": 3,
     "metadata": {},
     "output_type": "execute_result"
    }
   ],
   "source": [
    "df_raw.shape"
   ]
  },
  {
   "cell_type": "code",
   "execution_count": 4,
   "metadata": {
    "ExecuteTime": {
     "end_time": "2020-10-06T05:26:09.363423Z",
     "start_time": "2020-10-06T05:26:09.278325Z"
    }
   },
   "outputs": [
    {
     "data": {
      "text/plain": [
       "Index(['Symbol', 'Date', 'Total Assets',\n",
       "       'Total Liabilities Net Minority Interest',\n",
       "       'Total Equity Gross Minority Interest', 'Total Capitalization',\n",
       "       'Common Stock Equity', 'Invested Capital', 'Tangible Book Value',\n",
       "       'Total Revenue', 'Cost of Revenue', 'Gross Profit', 'Operating Expense',\n",
       "       'Operating Income', 'Diluted EPS', 'Diluted Average Shares',\n",
       "       'Total Expenses', 'Normalized EBITDA', 'Operating Cash Flow',\n",
       "       'Investing Cash Flow', 'Financing Cash Flow', 'End Cash Position',\n",
       "       'Issuance of Capital Stock', 'EBITDA', 'index',\n",
       "       'Capital Lease Obligations', 'Net Tangible Assets', 'Working Capital',\n",
       "       'Total Debt', 'Share Issued', 'Ordinary Shares Number',\n",
       "       'Treasury Shares Number', 'Net Non Operating Interest Income Expense',\n",
       "       'Other Income Expense', 'Pretax Income', 'Tax Provision',\n",
       "       'Net Income Common Stockholders',\n",
       "       'Diluted NI Available to Com Stockholders', 'Basic EPS',\n",
       "       'Basic Average Shares', 'Total Operating Income as Reported',\n",
       "       'Net Income from Continuing & Discontinued Operation',\n",
       "       'Normalized Income', 'Interest Income', 'Interest Expense',\n",
       "       'Net Interest Income', 'EBIT', 'Reconciled Cost of Revenue',\n",
       "       'Reconciled Depreciation',\n",
       "       'Net Income from Continuing Operation Net Minority Interest',\n",
       "       'Total Unusual Items', 'Tax Rate for Calcs',\n",
       "       'Tax Effect of Unusual Items', 'Income Tax Paid Supplemental Data',\n",
       "       'Interest Paid Supplemental Data', 'Capital Expenditure',\n",
       "       'Issuance of Debt', 'Repayment of Debt', 'Repurchase of Capital Stock',\n",
       "       'Free Cash Flow', 'Total Unusual Items Excluding Goodwill', 'Net Debt',\n",
       "       'Preferred Stock Equity', 'Preferred Shares Number',\n",
       "       'Earnings from Equity Interest Net of Tax', 'Average Dilution Earnings',\n",
       "       'Other Cash Adjustment Inside Change in Cash',\n",
       "       'Rent Expense Supplemental', 'Cash Flow from Discontinued Operation',\n",
       "       'Cash Flows from Used in Operating Activities Direct',\n",
       "       'Credit Losses Provision', 'Non Interest Expense',\n",
       "       'Special Income Charges',\n",
       "       'INTEREST_INCOME_AFTER_PROVISION_FOR_LOAN_LOSS',\n",
       "       'Other Non Operating Income Expenses', 'Total Money Market Investments',\n",
       "       'Income from Associates & Other Participating Interests'],\n",
       "      dtype='object')"
      ]
     },
     "execution_count": 4,
     "metadata": {},
     "output_type": "execute_result"
    }
   ],
   "source": [
    "df_raw.columns"
   ]
  },
  {
   "cell_type": "code",
   "execution_count": 6,
   "metadata": {
    "ExecuteTime": {
     "end_time": "2020-10-06T05:26:15.022693Z",
     "start_time": "2020-10-06T05:26:14.768101Z"
    }
   },
   "outputs": [],
   "source": [
    "df_index=df_raw.reset_index()"
   ]
  },
  {
   "cell_type": "code",
   "execution_count": 8,
   "metadata": {
    "ExecuteTime": {
     "end_time": "2020-10-06T05:26:17.881837Z",
     "start_time": "2020-10-06T05:26:17.715720Z"
    }
   },
   "outputs": [],
   "source": [
    "# Keep the features with less than 5% of Null values\n",
    "\n",
    "features_dict=dict((df_raw.isnull().sum().sort_values())[0:30])"
   ]
  },
  {
   "cell_type": "code",
   "execution_count": 9,
   "metadata": {
    "ExecuteTime": {
     "end_time": "2020-10-06T05:28:28.647568Z",
     "start_time": "2020-10-06T05:28:28.608050Z"
    }
   },
   "outputs": [
    {
     "data": {
      "text/plain": [
       "{'Symbol': 0,\n",
       " 'Date': 0,\n",
       " 'Total Assets': 0,\n",
       " 'Total Liabilities Net Minority Interest': 0,\n",
       " 'Total Equity Gross Minority Interest': 0,\n",
       " 'Common Stock Equity': 0,\n",
       " 'Tangible Book Value': 0,\n",
       " 'Invested Capital': 2,\n",
       " 'Total Capitalization': 5,\n",
       " 'Net Tangible Assets': 10,\n",
       " 'index': 10,\n",
       " 'Ordinary Shares Number': 10,\n",
       " 'Share Issued': 10,\n",
       " 'End Cash Position': 30,\n",
       " 'Financing Cash Flow': 30,\n",
       " 'Operating Cash Flow': 30,\n",
       " 'Total Revenue': 31,\n",
       " 'Diluted EPS': 34,\n",
       " 'Diluted Average Shares': 34,\n",
       " 'Investing Cash Flow': 36,\n",
       " 'Free Cash Flow': 40,\n",
       " 'Normalized Income': 41,\n",
       " 'Tax Rate for Calcs': 41,\n",
       " 'Diluted NI Available to Com Stockholders': 41,\n",
       " 'Net Income Common Stockholders': 41,\n",
       " 'Tax Effect of Unusual Items': 41,\n",
       " 'Pretax Income': 41,\n",
       " 'Net Income from Continuing & Discontinued Operation': 41,\n",
       " 'Net Income from Continuing Operation Net Minority Interest': 41,\n",
       " 'Basic Average Shares': 44}"
      ]
     },
     "execution_count": 9,
     "metadata": {},
     "output_type": "execute_result"
    }
   ],
   "source": [
    "features_dict"
   ]
  },
  {
   "cell_type": "code",
   "execution_count": 14,
   "metadata": {
    "ExecuteTime": {
     "end_time": "2020-10-06T05:31:48.992387Z",
     "start_time": "2020-10-06T05:31:48.976189Z"
    }
   },
   "outputs": [],
   "source": [
    "columns_keep=list(features_dict.keys())"
   ]
  },
  {
   "cell_type": "code",
   "execution_count": 15,
   "metadata": {
    "ExecuteTime": {
     "end_time": "2020-10-06T05:36:15.659045Z",
     "start_time": "2020-10-06T05:36:15.649150Z"
    }
   },
   "outputs": [],
   "source": [
    "df_index=df_index[columns_keep]"
   ]
  },
  {
   "cell_type": "code",
   "execution_count": 16,
   "metadata": {
    "ExecuteTime": {
     "end_time": "2020-10-06T05:36:25.318998Z",
     "start_time": "2020-10-06T05:36:25.308734Z"
    }
   },
   "outputs": [
    {
     "data": {
      "text/plain": [
       "(1206, 30)"
      ]
     },
     "execution_count": 16,
     "metadata": {},
     "output_type": "execute_result"
    }
   ],
   "source": [
    "df_index.shape"
   ]
  },
  {
   "cell_type": "code",
   "execution_count": 18,
   "metadata": {
    "ExecuteTime": {
     "end_time": "2020-10-04T06:43:45.245190Z",
     "start_time": "2020-10-04T06:43:45.233189Z"
    }
   },
   "outputs": [
    {
     "name": "stdout",
     "output_type": "stream",
     "text": [
      "<class 'pandas.core.frame.DataFrame'>\n",
      "RangeIndex: 1206 entries, 0 to 1205\n",
      "Data columns (total 30 columns):\n",
      " #   Column                                                      Non-Null Count  Dtype  \n",
      "---  ------                                                      --------------  -----  \n",
      " 0   Symbol                                                      1206 non-null   object \n",
      " 1   Date                                                        1206 non-null   object \n",
      " 2   Total Assets                                                1206 non-null   float64\n",
      " 3   Total Liabilities Net Minority Interest                     1206 non-null   float64\n",
      " 4   Total Equity Gross Minority Interest                        1206 non-null   float64\n",
      " 5   Common Stock Equity                                         1206 non-null   float64\n",
      " 6   Tangible Book Value                                         1206 non-null   float64\n",
      " 7   Invested Capital                                            1204 non-null   float64\n",
      " 8   Total Capitalization                                        1201 non-null   float64\n",
      " 9   Net Tangible Assets                                         1196 non-null   float64\n",
      " 10  index                                                       1196 non-null   object \n",
      " 11  Ordinary Shares Number                                      1196 non-null   float64\n",
      " 12  Share Issued                                                1196 non-null   float64\n",
      " 13  End Cash Position                                           1176 non-null   float64\n",
      " 14  Financing Cash Flow                                         1176 non-null   float64\n",
      " 15  Operating Cash Flow                                         1176 non-null   float64\n",
      " 16  Total Revenue                                               1175 non-null   float64\n",
      " 17  Diluted EPS                                                 1172 non-null   float64\n",
      " 18  Diluted Average Shares                                      1172 non-null   float64\n",
      " 19  Investing Cash Flow                                         1170 non-null   float64\n",
      " 20  Free Cash Flow                                              1166 non-null   float64\n",
      " 21  Normalized Income                                           1165 non-null   float64\n",
      " 22  Tax Rate for Calcs                                          1165 non-null   float64\n",
      " 23  Diluted NI Available to Com Stockholders                    1165 non-null   float64\n",
      " 24  Net Income Common Stockholders                              1165 non-null   float64\n",
      " 25  Tax Effect of Unusual Items                                 1165 non-null   float64\n",
      " 26  Pretax Income                                               1165 non-null   float64\n",
      " 27  Net Income from Continuing & Discontinued Operation         1165 non-null   float64\n",
      " 28  Net Income from Continuing Operation Net Minority Interest  1165 non-null   float64\n",
      " 29  Basic Average Shares                                        1162 non-null   float64\n",
      "dtypes: float64(27), object(3)\n",
      "memory usage: 282.8+ KB\n"
     ]
    }
   ],
   "source": [
    "df_index.info()"
   ]
  },
  {
   "cell_type": "markdown",
   "metadata": {},
   "source": [
    "## Visulization"
   ]
  },
  {
   "cell_type": "code",
   "execution_count": 19,
   "metadata": {
    "ExecuteTime": {
     "end_time": "2020-10-04T20:07:32.329928Z",
     "start_time": "2020-10-04T20:07:32.308211Z"
    }
   },
   "outputs": [],
   "source": [
    "# Reordered list\n",
    "columns_pick = ['Symbol','Date', 'Diluted EPS','Total Assets','Total Liabilities Net Minority Interest','Total Equity Gross Minority Interest','Common Stock Equity',\n",
    "'Tangible Book Value','Invested Capital','Total Capitalization','Net Tangible Assets','End Cash Position', 'Financing Cash Flow',\n",
    "'Operating Cash Flow', 'Total Revenue', 'Basic Average Shares', 'Diluted Average Shares', 'Investing Cash Flow', 'Free Cash Flow', 'Normalized Income', 'Tax Effect of Unusual Items',\n",
    "'Diluted NI Available to Com Stockholders','Net Income Common Stockholders', 'Pretax Income',\n",
    "'Net Income from Continuing & Discontinued Operation', 'Net Income from Continuing Operation Net Minority Interest']\n"
   ]
  },
  {
   "cell_type": "code",
   "execution_count": 20,
   "metadata": {
    "ExecuteTime": {
     "end_time": "2020-10-04T20:23:45.800362Z",
     "start_time": "2020-10-04T20:23:45.783215Z"
    }
   },
   "outputs": [
    {
     "data": {
      "text/plain": [
       "24"
      ]
     },
     "execution_count": 20,
     "metadata": {},
     "output_type": "execute_result"
    }
   ],
   "source": [
    "len(columns_pick)-2 # Number of features to explore"
   ]
  },
  {
   "cell_type": "code",
   "execution_count": 21,
   "metadata": {
    "ExecuteTime": {
     "end_time": "2020-10-04T20:08:11.009844Z",
     "start_time": "2020-10-04T20:08:10.994876Z"
    }
   },
   "outputs": [],
   "source": [
    "df_pick=df_index[columns_pick]"
   ]
  },
  {
   "cell_type": "code",
   "execution_count": 1032,
   "metadata": {
    "ExecuteTime": {
     "end_time": "2020-10-05T05:24:34.971333Z",
     "start_time": "2020-10-05T05:24:34.428324Z"
    }
   },
   "outputs": [],
   "source": [
    "df_pick.to_csv('data/financial_statement_pick.csv') # EPS moved to the top and got rid of basic eps, issued shares and average shares"
   ]
  },
  {
   "cell_type": "code",
   "execution_count": 1023,
   "metadata": {
    "ExecuteTime": {
     "end_time": "2020-10-05T04:45:59.649669Z",
     "start_time": "2020-10-05T04:45:38.390282Z"
    },
    "scrolled": true
   },
   "outputs": [
    {
     "data": {
      "image/png": "[encoded data removed]",
      "text/plain": [
       "<Figure size 1440x720 with 2 Axes>"
      ]
     },
     "metadata": {
      "needs_background": "light"
     },
     "output_type": "display_data"
    }
   ],
   "source": [
    "fig, ax = plt.subplots(figsize=(20,10))  \n",
    "\n",
    "g=sns.heatmap(df_pick.corr(), cmap=\"magma\", annot=True, vmin=-1, vmax=1);\n",
    "\n",
    "fig = g.get_figure()\n",
    "#fig.savefig(\"corr_heatmap.svg\") "
   ]
  },
  {
   "cell_type": "code",
   "execution_count": 1028,
   "metadata": {
    "ExecuteTime": {
     "end_time": "2020-10-05T05:08:10.991679Z",
     "start_time": "2020-10-05T05:08:10.814994Z"
    }
   },
   "outputs": [
    {
     "data": {
      "text/html": [
       "<div>\n",
       "<style scoped>\n",
       "    .dataframe tbody tr th:only-of-type {\n",
       "        vertical-align: middle;\n",
       "    }\n",
       "\n",
       "    .dataframe tbody tr th {\n",
       "        vertical-align: top;\n",
       "    }\n",
       "\n",
       "    .dataframe thead th {\n",
       "        text-align: right;\n",
       "    }\n",
       "</style>\n",
       "<table border=\"1\" class=\"dataframe\">\n",
       "  <thead>\n",
       "    <tr style=\"text-align: right;\">\n",
       "      <th></th>\n",
       "      <th>Symbol</th>\n",
       "      <th>Date</th>\n",
       "      <th>Diluted EPS</th>\n",
       "      <th>Total Assets</th>\n",
       "      <th>Total Liabilities Net Minority Interest</th>\n",
       "      <th>Total Equity Gross Minority Interest</th>\n",
       "      <th>Common Stock Equity</th>\n",
       "      <th>Tangible Book Value</th>\n",
       "      <th>Invested Capital</th>\n",
       "      <th>Total Capitalization</th>\n",
       "      <th>Net Tangible Assets</th>\n",
       "      <th>End Cash Position</th>\n",
       "      <th>Financing Cash Flow</th>\n",
       "      <th>Operating Cash Flow</th>\n",
       "      <th>Total Revenue</th>\n",
       "      <th>Basic Average Shares</th>\n",
       "      <th>Diluted Average Shares</th>\n",
       "      <th>Investing Cash Flow</th>\n",
       "      <th>Free Cash Flow</th>\n",
       "      <th>Normalized Income</th>\n",
       "      <th>Tax Effect of Unusual Items</th>\n",
       "      <th>Diluted NI Available to Com Stockholders</th>\n",
       "      <th>Net Income Common Stockholders</th>\n",
       "      <th>Pretax Income</th>\n",
       "      <th>Net Income from Continuing &amp; Discontinued Operation</th>\n",
       "      <th>Net Income from Continuing Operation Net Minority Interest</th>\n",
       "    </tr>\n",
       "  </thead>\n",
       "  <tbody>\n",
       "    <tr>\n",
       "      <th>0</th>\n",
       "      <td>ACIA</td>\n",
       "      <td>12/31/2019</td>\n",
       "      <td>0.000</td>\n",
       "      <td>721415.0</td>\n",
       "      <td>142992.0</td>\n",
       "      <td>578423.0</td>\n",
       "      <td>578423.0</td>\n",
       "      <td>578423.0</td>\n",
       "      <td>578423.0</td>\n",
       "      <td>578423.0</td>\n",
       "      <td>NaN</td>\n",
       "      <td>36617.0</td>\n",
       "      <td>6933.000</td>\n",
       "      <td>72819.000</td>\n",
       "      <td>464663.00</td>\n",
       "      <td>NaN</td>\n",
       "      <td>42554.0</td>\n",
       "      <td>-103579.0</td>\n",
       "      <td>NaN</td>\n",
       "      <td>NaN</td>\n",
       "      <td>NaN</td>\n",
       "      <td>NaN</td>\n",
       "      <td>NaN</td>\n",
       "      <td>NaN</td>\n",
       "      <td>NaN</td>\n",
       "      <td>NaN</td>\n",
       "    </tr>\n",
       "    <tr>\n",
       "      <th>1</th>\n",
       "      <td>ACMR</td>\n",
       "      <td>12/31/2019</td>\n",
       "      <td>0.000</td>\n",
       "      <td>217703.0</td>\n",
       "      <td>120382.0</td>\n",
       "      <td>97321.0</td>\n",
       "      <td>97321.0</td>\n",
       "      <td>96977.0</td>\n",
       "      <td>111074.0</td>\n",
       "      <td>97321.0</td>\n",
       "      <td>NaN</td>\n",
       "      <td>117859.0</td>\n",
       "      <td>87445.000</td>\n",
       "      <td>9403.000</td>\n",
       "      <td>107524.00</td>\n",
       "      <td>NaN</td>\n",
       "      <td>19135.0</td>\n",
       "      <td>-5531.0</td>\n",
       "      <td>NaN</td>\n",
       "      <td>NaN</td>\n",
       "      <td>NaN</td>\n",
       "      <td>NaN</td>\n",
       "      <td>NaN</td>\n",
       "      <td>NaN</td>\n",
       "      <td>NaN</td>\n",
       "      <td>NaN</td>\n",
       "    </tr>\n",
       "    <tr>\n",
       "      <th>2</th>\n",
       "      <td>ADBE</td>\n",
       "      <td>11/30/2019</td>\n",
       "      <td>0.006</td>\n",
       "      <td>20762400.0</td>\n",
       "      <td>10232245.0</td>\n",
       "      <td>10530155.0</td>\n",
       "      <td>10530155.0</td>\n",
       "      <td>-1881609.0</td>\n",
       "      <td>14668422.0</td>\n",
       "      <td>11519079.0</td>\n",
       "      <td>NaN</td>\n",
       "      <td>2650221.0</td>\n",
       "      <td>-2946044.000</td>\n",
       "      <td>4421813.000</td>\n",
       "      <td>11171297.00</td>\n",
       "      <td>NaN</td>\n",
       "      <td>491572.0</td>\n",
       "      <td>-455584.0</td>\n",
       "      <td>NaN</td>\n",
       "      <td>NaN</td>\n",
       "      <td>NaN</td>\n",
       "      <td>NaN</td>\n",
       "      <td>NaN</td>\n",
       "      <td>NaN</td>\n",
       "      <td>NaN</td>\n",
       "      <td>NaN</td>\n",
       "    </tr>\n",
       "    <tr>\n",
       "      <th>3</th>\n",
       "      <td>AGMH</td>\n",
       "      <td>12/31/2019</td>\n",
       "      <td>0.000</td>\n",
       "      <td>14514.0</td>\n",
       "      <td>2663.0</td>\n",
       "      <td>11851.0</td>\n",
       "      <td>11851.0</td>\n",
       "      <td>4718.0</td>\n",
       "      <td>11851.0</td>\n",
       "      <td>11851.0</td>\n",
       "      <td>NaN</td>\n",
       "      <td>2077.0</td>\n",
       "      <td>-526.329</td>\n",
       "      <td>-196.393</td>\n",
       "      <td>709.63</td>\n",
       "      <td>NaN</td>\n",
       "      <td>20951.0</td>\n",
       "      <td>-5010.0</td>\n",
       "      <td>NaN</td>\n",
       "      <td>NaN</td>\n",
       "      <td>NaN</td>\n",
       "      <td>NaN</td>\n",
       "      <td>NaN</td>\n",
       "      <td>NaN</td>\n",
       "      <td>NaN</td>\n",
       "      <td>NaN</td>\n",
       "    </tr>\n",
       "    <tr>\n",
       "      <th>4</th>\n",
       "      <td>AIRG</td>\n",
       "      <td>12/31/2019</td>\n",
       "      <td>0.000</td>\n",
       "      <td>54726.0</td>\n",
       "      <td>6822.0</td>\n",
       "      <td>47904.0</td>\n",
       "      <td>47904.0</td>\n",
       "      <td>40407.0</td>\n",
       "      <td>47904.0</td>\n",
       "      <td>47904.0</td>\n",
       "      <td>NaN</td>\n",
       "      <td>13197.0</td>\n",
       "      <td>-392.000</td>\n",
       "      <td>2350.000</td>\n",
       "      <td>55739.00</td>\n",
       "      <td>NaN</td>\n",
       "      <td>10097.0</td>\n",
       "      <td>-2382.0</td>\n",
       "      <td>NaN</td>\n",
       "      <td>NaN</td>\n",
       "      <td>NaN</td>\n",
       "      <td>NaN</td>\n",
       "      <td>NaN</td>\n",
       "      <td>NaN</td>\n",
       "      <td>NaN</td>\n",
       "      <td>NaN</td>\n",
       "    </tr>\n",
       "  </tbody>\n",
       "</table>\n",
       "</div>"
      ],
      "text/plain": [
       "  Symbol        Date  Diluted EPS  Total Assets  \\\n",
       "0   ACIA  12/31/2019        0.000      721415.0   \n",
       "1   ACMR  12/31/2019        0.000      217703.0   \n",
       "2   ADBE  11/30/2019        0.006    20762400.0   \n",
       "3   AGMH  12/31/2019        0.000       14514.0   \n",
       "4   AIRG  12/31/2019        0.000       54726.0   \n",
       "\n",
       "   Total Liabilities Net Minority Interest  \\\n",
       "0                                 142992.0   \n",
       "1                                 120382.0   \n",
       "2                               10232245.0   \n",
       "3                                   2663.0   \n",
       "4                                   6822.0   \n",
       "\n",
       "   Total Equity Gross Minority Interest  Common Stock Equity  \\\n",
       "0                              578423.0             578423.0   \n",
       "1                               97321.0              97321.0   \n",
       "2                            10530155.0           10530155.0   \n",
       "3                               11851.0              11851.0   \n",
       "4                               47904.0              47904.0   \n",
       "\n",
       "   Tangible Book Value  Invested Capital  Total Capitalization  \\\n",
       "0             578423.0          578423.0              578423.0   \n",
       "1              96977.0          111074.0               97321.0   \n",
       "2           -1881609.0        14668422.0            11519079.0   \n",
       "3               4718.0           11851.0               11851.0   \n",
       "4              40407.0           47904.0               47904.0   \n",
       "\n",
       "   Net Tangible Assets  End Cash Position  Financing Cash Flow  \\\n",
       "0                  NaN            36617.0             6933.000   \n",
       "1                  NaN           117859.0            87445.000   \n",
       "2                  NaN          2650221.0         -2946044.000   \n",
       "3                  NaN             2077.0             -526.329   \n",
       "4                  NaN            13197.0             -392.000   \n",
       "\n",
       "   Operating Cash Flow  Total Revenue  Basic Average Shares  \\\n",
       "0            72819.000      464663.00                   NaN   \n",
       "1             9403.000      107524.00                   NaN   \n",
       "2          4421813.000    11171297.00                   NaN   \n",
       "3             -196.393         709.63                   NaN   \n",
       "4             2350.000       55739.00                   NaN   \n",
       "\n",
       "   Diluted Average Shares  Investing Cash Flow  Free Cash Flow  \\\n",
       "0                 42554.0            -103579.0             NaN   \n",
       "1                 19135.0              -5531.0             NaN   \n",
       "2                491572.0            -455584.0             NaN   \n",
       "3                 20951.0              -5010.0             NaN   \n",
       "4                 10097.0              -2382.0             NaN   \n",
       "\n",
       "   Normalized Income  Tax Effect of Unusual Items  \\\n",
       "0                NaN                          NaN   \n",
       "1                NaN                          NaN   \n",
       "2                NaN                          NaN   \n",
       "3                NaN                          NaN   \n",
       "4                NaN                          NaN   \n",
       "\n",
       "   Diluted NI Available to Com Stockholders  Net Income Common Stockholders  \\\n",
       "0                                       NaN                             NaN   \n",
       "1                                       NaN                             NaN   \n",
       "2                                       NaN                             NaN   \n",
       "3                                       NaN                             NaN   \n",
       "4                                       NaN                             NaN   \n",
       "\n",
       "   Pretax Income  Net Income from Continuing & Discontinued Operation  \\\n",
       "0            NaN                                                NaN     \n",
       "1            NaN                                                NaN     \n",
       "2            NaN                                                NaN     \n",
       "3            NaN                                                NaN     \n",
       "4            NaN                                                NaN     \n",
       "\n",
       "   Net Income from Continuing Operation Net Minority Interest  \n",
       "0                                                NaN           \n",
       "1                                                NaN           \n",
       "2                                                NaN           \n",
       "3                                                NaN           \n",
       "4                                                NaN           "
      ]
     },
     "execution_count": 1028,
     "metadata": {},
     "output_type": "execute_result"
    }
   ],
   "source": [
    "df_pick.head()"
   ]
  },
  {
   "cell_type": "code",
   "execution_count": null,
   "metadata": {},
   "outputs": [],
   "source": [
    "# Reviewing correlation chart and identify groups of colinearity.\n",
    "# Using domain knowledge and number of null values to decide which ones to keep.\n",
    "\n",
    "# Keep 'Invested Capital', drop 'Total Capitalization'.\n",
    "# Keep 'Tangible Book Value', drop ‘Net Tangible Assets'.\n",
    "# Keep 'Normalized Income', drop 'Free Cash Flow'.\n",
    "# Keep 'Diluted Average Shares', drop 'Basic Average Shares'.\n",
    "# Keep 'Pretax Income', drop 'Diluted NI Available to Com Stockholders','Net Income Common Stockholders',\n",
    "#'Net Income from Continuing & Discontinued Operation','Net Income from Continuing Operation Net Minority Interest'.\n",
    "# Drop'Basic EPS', as it's identical as the target.\n"
   ]
  },
  {
   "cell_type": "code",
   "execution_count": 1131,
   "metadata": {
    "ExecuteTime": {
     "end_time": "2020-10-06T05:45:55.837694Z",
     "start_time": "2020-10-06T05:45:55.751194Z"
    }
   },
   "outputs": [
    {
     "data": {
      "text/plain": [
       "Index(['Symbol', 'Date', 'Diluted EPS', 'Total Assets',\n",
       "       'Total Liabilities Net Minority Interest',\n",
       "       'Total Equity Gross Minority Interest', 'Common Stock Equity',\n",
       "       'Tangible Book Value', 'Invested Capital', 'Total Capitalization',\n",
       "       'Net Tangible Assets', 'End Cash Position', 'Financing Cash Flow',\n",
       "       'Operating Cash Flow', 'Total Revenue', 'Basic Average Shares',\n",
       "       'Diluted Average Shares', 'Investing Cash Flow', 'Free Cash Flow',\n",
       "       'Normalized Income', 'Tax Effect of Unusual Items',\n",
       "       'Diluted NI Available to Com Stockholders',\n",
       "       'Net Income Common Stockholders', 'Pretax Income',\n",
       "       'Net Income from Continuing & Discontinued Operation',\n",
       "       'Net Income from Continuing Operation Net Minority Interest'],\n",
       "      dtype='object')"
      ]
     },
     "execution_count": 1131,
     "metadata": {},
     "output_type": "execute_result"
    }
   ],
   "source": [
    "df_pick.columns"
   ]
  },
  {
   "cell_type": "code",
   "execution_count": 1132,
   "metadata": {
    "ExecuteTime": {
     "end_time": "2020-10-06T07:01:48.286490Z",
     "start_time": "2020-10-06T07:01:48.150038Z"
    }
   },
   "outputs": [],
   "source": [
    "columns_pick_corr = ['Symbol','Date', 'Diluted EPS','Total Assets',\n",
    "       'Total Liabilities Net Minority Interest',\n",
    "       'Total Equity Gross Minority Interest', 'Common Stock Equity',\n",
    "       'Tangible Book Value', 'Invested Capital',\n",
    "       'End Cash Position', 'Financing Cash Flow',\n",
    "       'Operating Cash Flow', 'Total Revenue',\n",
    "       'Diluted Average Shares', 'Investing Cash Flow', \n",
    "       'Normalized Income', 'Tax Effect of Unusual Items',\n",
    "       'Pretax Income']\n"
   ]
  },
  {
   "cell_type": "code",
   "execution_count": 1133,
   "metadata": {
    "ExecuteTime": {
     "end_time": "2020-10-06T07:01:57.078842Z",
     "start_time": "2020-10-06T07:01:56.897705Z"
    }
   },
   "outputs": [],
   "source": [
    "df_pick_corr=df_keep[columns_pick_corr]"
   ]
  },
  {
   "cell_type": "code",
   "execution_count": 1134,
   "metadata": {
    "ExecuteTime": {
     "end_time": "2020-10-06T07:02:01.904648Z",
     "start_time": "2020-10-06T07:02:01.860584Z"
    }
   },
   "outputs": [
    {
     "data": {
      "text/plain": [
       "18"
      ]
     },
     "execution_count": 1134,
     "metadata": {},
     "output_type": "execute_result"
    }
   ],
   "source": [
    "len(df_pick_corr.columns)"
   ]
  },
  {
   "cell_type": "code",
   "execution_count": 1135,
   "metadata": {
    "ExecuteTime": {
     "end_time": "2020-10-06T07:02:10.300138Z",
     "start_time": "2020-10-06T07:02:10.088205Z"
    }
   },
   "outputs": [
    {
     "data": {
      "text/html": [
       "<div>\n",
       "<style scoped>\n",
       "    .dataframe tbody tr th:only-of-type {\n",
       "        vertical-align: middle;\n",
       "    }\n",
       "\n",
       "    .dataframe tbody tr th {\n",
       "        vertical-align: top;\n",
       "    }\n",
       "\n",
       "    .dataframe thead th {\n",
       "        text-align: right;\n",
       "    }\n",
       "</style>\n",
       "<table border=\"1\" class=\"dataframe\">\n",
       "  <thead>\n",
       "    <tr style=\"text-align: right;\">\n",
       "      <th></th>\n",
       "      <th>Diluted EPS</th>\n",
       "      <th>Total Assets</th>\n",
       "      <th>Total Liabilities Net Minority Interest</th>\n",
       "      <th>Total Equity Gross Minority Interest</th>\n",
       "      <th>Common Stock Equity</th>\n",
       "      <th>Tangible Book Value</th>\n",
       "      <th>Invested Capital</th>\n",
       "      <th>End Cash Position</th>\n",
       "      <th>Financing Cash Flow</th>\n",
       "      <th>Operating Cash Flow</th>\n",
       "      <th>Total Revenue</th>\n",
       "      <th>Diluted Average Shares</th>\n",
       "      <th>Investing Cash Flow</th>\n",
       "      <th>Normalized Income</th>\n",
       "      <th>Tax Effect of Unusual Items</th>\n",
       "      <th>Pretax Income</th>\n",
       "    </tr>\n",
       "  </thead>\n",
       "  <tbody>\n",
       "    <tr>\n",
       "      <th>Diluted EPS</th>\n",
       "      <td>1.000000</td>\n",
       "      <td>-0.328850</td>\n",
       "      <td>-0.466840</td>\n",
       "      <td>-0.022551</td>\n",
       "      <td>0.133562</td>\n",
       "      <td>0.154003</td>\n",
       "      <td>-0.386032</td>\n",
       "      <td>-0.319315</td>\n",
       "      <td>0.092476</td>\n",
       "      <td>0.029250</td>\n",
       "      <td>0.014405</td>\n",
       "      <td>0.038417</td>\n",
       "      <td>-0.211272</td>\n",
       "      <td>0.198945</td>\n",
       "      <td>0.881965</td>\n",
       "      <td>0.356777</td>\n",
       "    </tr>\n",
       "    <tr>\n",
       "      <th>Total Assets</th>\n",
       "      <td>-0.328850</td>\n",
       "      <td>1.000000</td>\n",
       "      <td>0.943621</td>\n",
       "      <td>0.842729</td>\n",
       "      <td>0.775466</td>\n",
       "      <td>0.687755</td>\n",
       "      <td>0.940388</td>\n",
       "      <td>0.890036</td>\n",
       "      <td>-0.541560</td>\n",
       "      <td>0.827881</td>\n",
       "      <td>0.706674</td>\n",
       "      <td>0.509295</td>\n",
       "      <td>-0.364075</td>\n",
       "      <td>0.610539</td>\n",
       "      <td>-0.437234</td>\n",
       "      <td>0.516395</td>\n",
       "    </tr>\n",
       "    <tr>\n",
       "      <th>Total Liabilities Net Minority Interest</th>\n",
       "      <td>-0.466840</td>\n",
       "      <td>0.943621</td>\n",
       "      <td>1.000000</td>\n",
       "      <td>0.617012</td>\n",
       "      <td>0.528407</td>\n",
       "      <td>0.444300</td>\n",
       "      <td>0.828442</td>\n",
       "      <td>0.806640</td>\n",
       "      <td>-0.515759</td>\n",
       "      <td>0.672456</td>\n",
       "      <td>0.622903</td>\n",
       "      <td>0.497785</td>\n",
       "      <td>-0.163723</td>\n",
       "      <td>0.483379</td>\n",
       "      <td>-0.535255</td>\n",
       "      <td>0.368755</td>\n",
       "    </tr>\n",
       "    <tr>\n",
       "      <th>Total Equity Gross Minority Interest</th>\n",
       "      <td>-0.022551</td>\n",
       "      <td>0.842729</td>\n",
       "      <td>0.617012</td>\n",
       "      <td>1.000000</td>\n",
       "      <td>0.984192</td>\n",
       "      <td>0.912456</td>\n",
       "      <td>0.888354</td>\n",
       "      <td>0.803951</td>\n",
       "      <td>-0.448621</td>\n",
       "      <td>0.874405</td>\n",
       "      <td>0.666870</td>\n",
       "      <td>0.401143</td>\n",
       "      <td>-0.599166</td>\n",
       "      <td>0.665304</td>\n",
       "      <td>-0.168864</td>\n",
       "      <td>0.627926</td>\n",
       "    </tr>\n",
       "    <tr>\n",
       "      <th>Common Stock Equity</th>\n",
       "      <td>0.133562</td>\n",
       "      <td>0.775466</td>\n",
       "      <td>0.528407</td>\n",
       "      <td>0.984192</td>\n",
       "      <td>1.000000</td>\n",
       "      <td>0.936704</td>\n",
       "      <td>0.811203</td>\n",
       "      <td>0.730543</td>\n",
       "      <td>-0.448103</td>\n",
       "      <td>0.881350</td>\n",
       "      <td>0.667848</td>\n",
       "      <td>0.424096</td>\n",
       "      <td>-0.614296</td>\n",
       "      <td>0.710368</td>\n",
       "      <td>0.000935</td>\n",
       "      <td>0.700425</td>\n",
       "    </tr>\n",
       "    <tr>\n",
       "      <th>Tangible Book Value</th>\n",
       "      <td>0.154003</td>\n",
       "      <td>0.687755</td>\n",
       "      <td>0.444300</td>\n",
       "      <td>0.912456</td>\n",
       "      <td>0.936704</td>\n",
       "      <td>1.000000</td>\n",
       "      <td>0.715719</td>\n",
       "      <td>0.667458</td>\n",
       "      <td>-0.461714</td>\n",
       "      <td>0.825774</td>\n",
       "      <td>0.645627</td>\n",
       "      <td>0.403904</td>\n",
       "      <td>-0.501039</td>\n",
       "      <td>0.684982</td>\n",
       "      <td>0.049622</td>\n",
       "      <td>0.679501</td>\n",
       "    </tr>\n",
       "    <tr>\n",
       "      <th>Invested Capital</th>\n",
       "      <td>-0.386032</td>\n",
       "      <td>0.940388</td>\n",
       "      <td>0.828442</td>\n",
       "      <td>0.888354</td>\n",
       "      <td>0.811203</td>\n",
       "      <td>0.715719</td>\n",
       "      <td>1.000000</td>\n",
       "      <td>0.886542</td>\n",
       "      <td>-0.561482</td>\n",
       "      <td>0.829007</td>\n",
       "      <td>0.620313</td>\n",
       "      <td>0.485200</td>\n",
       "      <td>-0.343494</td>\n",
       "      <td>0.606593</td>\n",
       "      <td>-0.520866</td>\n",
       "      <td>0.492891</td>\n",
       "    </tr>\n",
       "    <tr>\n",
       "      <th>End Cash Position</th>\n",
       "      <td>-0.319315</td>\n",
       "      <td>0.890036</td>\n",
       "      <td>0.806640</td>\n",
       "      <td>0.803951</td>\n",
       "      <td>0.730543</td>\n",
       "      <td>0.667458</td>\n",
       "      <td>0.886542</td>\n",
       "      <td>1.000000</td>\n",
       "      <td>-0.508275</td>\n",
       "      <td>0.785563</td>\n",
       "      <td>0.750989</td>\n",
       "      <td>0.492168</td>\n",
       "      <td>-0.322598</td>\n",
       "      <td>0.538813</td>\n",
       "      <td>-0.444556</td>\n",
       "      <td>0.460481</td>\n",
       "    </tr>\n",
       "    <tr>\n",
       "      <th>Financing Cash Flow</th>\n",
       "      <td>0.092476</td>\n",
       "      <td>-0.541560</td>\n",
       "      <td>-0.515759</td>\n",
       "      <td>-0.448621</td>\n",
       "      <td>-0.448103</td>\n",
       "      <td>-0.461714</td>\n",
       "      <td>-0.561482</td>\n",
       "      <td>-0.508275</td>\n",
       "      <td>1.000000</td>\n",
       "      <td>-0.754118</td>\n",
       "      <td>-0.439845</td>\n",
       "      <td>-0.889516</td>\n",
       "      <td>-0.338334</td>\n",
       "      <td>-0.854907</td>\n",
       "      <td>0.125004</td>\n",
       "      <td>-0.780521</td>\n",
       "    </tr>\n",
       "    <tr>\n",
       "      <th>Operating Cash Flow</th>\n",
       "      <td>0.029250</td>\n",
       "      <td>0.827881</td>\n",
       "      <td>0.672456</td>\n",
       "      <td>0.874405</td>\n",
       "      <td>0.881350</td>\n",
       "      <td>0.825774</td>\n",
       "      <td>0.829007</td>\n",
       "      <td>0.785563</td>\n",
       "      <td>-0.754118</td>\n",
       "      <td>1.000000</td>\n",
       "      <td>0.734267</td>\n",
       "      <td>0.717239</td>\n",
       "      <td>-0.331416</td>\n",
       "      <td>0.902969</td>\n",
       "      <td>-0.076219</td>\n",
       "      <td>0.862929</td>\n",
       "    </tr>\n",
       "    <tr>\n",
       "      <th>Total Revenue</th>\n",
       "      <td>0.014405</td>\n",
       "      <td>0.706674</td>\n",
       "      <td>0.622903</td>\n",
       "      <td>0.666870</td>\n",
       "      <td>0.667848</td>\n",
       "      <td>0.645627</td>\n",
       "      <td>0.620313</td>\n",
       "      <td>0.750989</td>\n",
       "      <td>-0.439845</td>\n",
       "      <td>0.734267</td>\n",
       "      <td>1.000000</td>\n",
       "      <td>0.471821</td>\n",
       "      <td>-0.386362</td>\n",
       "      <td>0.571385</td>\n",
       "      <td>0.021115</td>\n",
       "      <td>0.576010</td>\n",
       "    </tr>\n",
       "    <tr>\n",
       "      <th>Diluted Average Shares</th>\n",
       "      <td>0.038417</td>\n",
       "      <td>0.509295</td>\n",
       "      <td>0.497785</td>\n",
       "      <td>0.401143</td>\n",
       "      <td>0.424096</td>\n",
       "      <td>0.403904</td>\n",
       "      <td>0.485200</td>\n",
       "      <td>0.492168</td>\n",
       "      <td>-0.889516</td>\n",
       "      <td>0.717239</td>\n",
       "      <td>0.471821</td>\n",
       "      <td>1.000000</td>\n",
       "      <td>0.294334</td>\n",
       "      <td>0.845477</td>\n",
       "      <td>0.041989</td>\n",
       "      <td>0.810382</td>\n",
       "    </tr>\n",
       "    <tr>\n",
       "      <th>Investing Cash Flow</th>\n",
       "      <td>-0.211272</td>\n",
       "      <td>-0.364075</td>\n",
       "      <td>-0.163723</td>\n",
       "      <td>-0.599166</td>\n",
       "      <td>-0.614296</td>\n",
       "      <td>-0.501039</td>\n",
       "      <td>-0.343494</td>\n",
       "      <td>-0.322598</td>\n",
       "      <td>-0.338334</td>\n",
       "      <td>-0.331416</td>\n",
       "      <td>-0.386362</td>\n",
       "      <td>0.294334</td>\n",
       "      <td>1.000000</td>\n",
       "      <td>-0.059557</td>\n",
       "      <td>-0.104707</td>\n",
       "      <td>-0.118905</td>\n",
       "    </tr>\n",
       "    <tr>\n",
       "      <th>Normalized Income</th>\n",
       "      <td>0.198945</td>\n",
       "      <td>0.610539</td>\n",
       "      <td>0.483379</td>\n",
       "      <td>0.665304</td>\n",
       "      <td>0.710368</td>\n",
       "      <td>0.684982</td>\n",
       "      <td>0.606593</td>\n",
       "      <td>0.538813</td>\n",
       "      <td>-0.854907</td>\n",
       "      <td>0.902969</td>\n",
       "      <td>0.571385</td>\n",
       "      <td>0.845477</td>\n",
       "      <td>-0.059557</td>\n",
       "      <td>1.000000</td>\n",
       "      <td>0.127201</td>\n",
       "      <td>0.978908</td>\n",
       "    </tr>\n",
       "    <tr>\n",
       "      <th>Tax Effect of Unusual Items</th>\n",
       "      <td>0.881965</td>\n",
       "      <td>-0.437234</td>\n",
       "      <td>-0.535255</td>\n",
       "      <td>-0.168864</td>\n",
       "      <td>0.000935</td>\n",
       "      <td>0.049622</td>\n",
       "      <td>-0.520866</td>\n",
       "      <td>-0.444556</td>\n",
       "      <td>0.125004</td>\n",
       "      <td>-0.076219</td>\n",
       "      <td>0.021115</td>\n",
       "      <td>0.041989</td>\n",
       "      <td>-0.104707</td>\n",
       "      <td>0.127201</td>\n",
       "      <td>1.000000</td>\n",
       "      <td>0.305948</td>\n",
       "    </tr>\n",
       "    <tr>\n",
       "      <th>Pretax Income</th>\n",
       "      <td>0.356777</td>\n",
       "      <td>0.516395</td>\n",
       "      <td>0.368755</td>\n",
       "      <td>0.627926</td>\n",
       "      <td>0.700425</td>\n",
       "      <td>0.679501</td>\n",
       "      <td>0.492891</td>\n",
       "      <td>0.460481</td>\n",
       "      <td>-0.780521</td>\n",
       "      <td>0.862929</td>\n",
       "      <td>0.576010</td>\n",
       "      <td>0.810382</td>\n",
       "      <td>-0.118905</td>\n",
       "      <td>0.978908</td>\n",
       "      <td>0.305948</td>\n",
       "      <td>1.000000</td>\n",
       "    </tr>\n",
       "  </tbody>\n",
       "</table>\n",
       "</div>"
      ],
      "text/plain": [
       "                                         Diluted EPS  Total Assets  \\\n",
       "Diluted EPS                                 1.000000     -0.328850   \n",
       "Total Assets                               -0.328850      1.000000   \n",
       "Total Liabilities Net Minority Interest    -0.466840      0.943621   \n",
       "Total Equity Gross Minority Interest       -0.022551      0.842729   \n",
       "Common Stock Equity                         0.133562      0.775466   \n",
       "Tangible Book Value                         0.154003      0.687755   \n",
       "Invested Capital                           -0.386032      0.940388   \n",
       "End Cash Position                          -0.319315      0.890036   \n",
       "Financing Cash Flow                         0.092476     -0.541560   \n",
       "Operating Cash Flow                         0.029250      0.827881   \n",
       "Total Revenue                               0.014405      0.706674   \n",
       "Diluted Average Shares                      0.038417      0.509295   \n",
       "Investing Cash Flow                        -0.211272     -0.364075   \n",
       "Normalized Income                           0.198945      0.610539   \n",
       "Tax Effect of Unusual Items                 0.881965     -0.437234   \n",
       "Pretax Income                               0.356777      0.516395   \n",
       "\n",
       "                                         Total Liabilities Net Minority Interest  \\\n",
       "Diluted EPS                                                            -0.466840   \n",
       "Total Assets                                                            0.943621   \n",
       "Total Liabilities Net Minority Interest                                 1.000000   \n",
       "Total Equity Gross Minority Interest                                    0.617012   \n",
       "Common Stock Equity                                                     0.528407   \n",
       "Tangible Book Value                                                     0.444300   \n",
       "Invested Capital                                                        0.828442   \n",
       "End Cash Position                                                       0.806640   \n",
       "Financing Cash Flow                                                    -0.515759   \n",
       "Operating Cash Flow                                                     0.672456   \n",
       "Total Revenue                                                           0.622903   \n",
       "Diluted Average Shares                                                  0.497785   \n",
       "Investing Cash Flow                                                    -0.163723   \n",
       "Normalized Income                                                       0.483379   \n",
       "Tax Effect of Unusual Items                                            -0.535255   \n",
       "Pretax Income                                                           0.368755   \n",
       "\n",
       "                                         Total Equity Gross Minority Interest  \\\n",
       "Diluted EPS                                                         -0.022551   \n",
       "Total Assets                                                         0.842729   \n",
       "Total Liabilities Net Minority Interest                              0.617012   \n",
       "Total Equity Gross Minority Interest                                 1.000000   \n",
       "Common Stock Equity                                                  0.984192   \n",
       "Tangible Book Value                                                  0.912456   \n",
       "Invested Capital                                                     0.888354   \n",
       "End Cash Position                                                    0.803951   \n",
       "Financing Cash Flow                                                 -0.448621   \n",
       "Operating Cash Flow                                                  0.874405   \n",
       "Total Revenue                                                        0.666870   \n",
       "Diluted Average Shares                                               0.401143   \n",
       "Investing Cash Flow                                                 -0.599166   \n",
       "Normalized Income                                                    0.665304   \n",
       "Tax Effect of Unusual Items                                         -0.168864   \n",
       "Pretax Income                                                        0.627926   \n",
       "\n",
       "                                         Common Stock Equity  \\\n",
       "Diluted EPS                                         0.133562   \n",
       "Total Assets                                        0.775466   \n",
       "Total Liabilities Net Minority Interest             0.528407   \n",
       "Total Equity Gross Minority Interest                0.984192   \n",
       "Common Stock Equity                                 1.000000   \n",
       "Tangible Book Value                                 0.936704   \n",
       "Invested Capital                                    0.811203   \n",
       "End Cash Position                                   0.730543   \n",
       "Financing Cash Flow                                -0.448103   \n",
       "Operating Cash Flow                                 0.881350   \n",
       "Total Revenue                                       0.667848   \n",
       "Diluted Average Shares                              0.424096   \n",
       "Investing Cash Flow                                -0.614296   \n",
       "Normalized Income                                   0.710368   \n",
       "Tax Effect of Unusual Items                         0.000935   \n",
       "Pretax Income                                       0.700425   \n",
       "\n",
       "                                         Tangible Book Value  \\\n",
       "Diluted EPS                                         0.154003   \n",
       "Total Assets                                        0.687755   \n",
       "Total Liabilities Net Minority Interest             0.444300   \n",
       "Total Equity Gross Minority Interest                0.912456   \n",
       "Common Stock Equity                                 0.936704   \n",
       "Tangible Book Value                                 1.000000   \n",
       "Invested Capital                                    0.715719   \n",
       "End Cash Position                                   0.667458   \n",
       "Financing Cash Flow                                -0.461714   \n",
       "Operating Cash Flow                                 0.825774   \n",
       "Total Revenue                                       0.645627   \n",
       "Diluted Average Shares                              0.403904   \n",
       "Investing Cash Flow                                -0.501039   \n",
       "Normalized Income                                   0.684982   \n",
       "Tax Effect of Unusual Items                         0.049622   \n",
       "Pretax Income                                       0.679501   \n",
       "\n",
       "                                         Invested Capital  End Cash Position  \\\n",
       "Diluted EPS                                     -0.386032          -0.319315   \n",
       "Total Assets                                     0.940388           0.890036   \n",
       "Total Liabilities Net Minority Interest          0.828442           0.806640   \n",
       "Total Equity Gross Minority Interest             0.888354           0.803951   \n",
       "Common Stock Equity                              0.811203           0.730543   \n",
       "Tangible Book Value                              0.715719           0.667458   \n",
       "Invested Capital                                 1.000000           0.886542   \n",
       "End Cash Position                                0.886542           1.000000   \n",
       "Financing Cash Flow                             -0.561482          -0.508275   \n",
       "Operating Cash Flow                              0.829007           0.785563   \n",
       "Total Revenue                                    0.620313           0.750989   \n",
       "Diluted Average Shares                           0.485200           0.492168   \n",
       "Investing Cash Flow                             -0.343494          -0.322598   \n",
       "Normalized Income                                0.606593           0.538813   \n",
       "Tax Effect of Unusual Items                     -0.520866          -0.444556   \n",
       "Pretax Income                                    0.492891           0.460481   \n",
       "\n",
       "                                         Financing Cash Flow  \\\n",
       "Diluted EPS                                         0.092476   \n",
       "Total Assets                                       -0.541560   \n",
       "Total Liabilities Net Minority Interest            -0.515759   \n",
       "Total Equity Gross Minority Interest               -0.448621   \n",
       "Common Stock Equity                                -0.448103   \n",
       "Tangible Book Value                                -0.461714   \n",
       "Invested Capital                                   -0.561482   \n",
       "End Cash Position                                  -0.508275   \n",
       "Financing Cash Flow                                 1.000000   \n",
       "Operating Cash Flow                                -0.754118   \n",
       "Total Revenue                                      -0.439845   \n",
       "Diluted Average Shares                             -0.889516   \n",
       "Investing Cash Flow                                -0.338334   \n",
       "Normalized Income                                  -0.854907   \n",
       "Tax Effect of Unusual Items                         0.125004   \n",
       "Pretax Income                                      -0.780521   \n",
       "\n",
       "                                         Operating Cash Flow  Total Revenue  \\\n",
       "Diluted EPS                                         0.029250       0.014405   \n",
       "Total Assets                                        0.827881       0.706674   \n",
       "Total Liabilities Net Minority Interest             0.672456       0.622903   \n",
       "Total Equity Gross Minority Interest                0.874405       0.666870   \n",
       "Common Stock Equity                                 0.881350       0.667848   \n",
       "Tangible Book Value                                 0.825774       0.645627   \n",
       "Invested Capital                                    0.829007       0.620313   \n",
       "End Cash Position                                   0.785563       0.750989   \n",
       "Financing Cash Flow                                -0.754118      -0.439845   \n",
       "Operating Cash Flow                                 1.000000       0.734267   \n",
       "Total Revenue                                       0.734267       1.000000   \n",
       "Diluted Average Shares                              0.717239       0.471821   \n",
       "Investing Cash Flow                                -0.331416      -0.386362   \n",
       "Normalized Income                                   0.902969       0.571385   \n",
       "Tax Effect of Unusual Items                        -0.076219       0.021115   \n",
       "Pretax Income                                       0.862929       0.576010   \n",
       "\n",
       "                                         Diluted Average Shares  \\\n",
       "Diluted EPS                                            0.038417   \n",
       "Total Assets                                           0.509295   \n",
       "Total Liabilities Net Minority Interest                0.497785   \n",
       "Total Equity Gross Minority Interest                   0.401143   \n",
       "Common Stock Equity                                    0.424096   \n",
       "Tangible Book Value                                    0.403904   \n",
       "Invested Capital                                       0.485200   \n",
       "End Cash Position                                      0.492168   \n",
       "Financing Cash Flow                                   -0.889516   \n",
       "Operating Cash Flow                                    0.717239   \n",
       "Total Revenue                                          0.471821   \n",
       "Diluted Average Shares                                 1.000000   \n",
       "Investing Cash Flow                                    0.294334   \n",
       "Normalized Income                                      0.845477   \n",
       "Tax Effect of Unusual Items                            0.041989   \n",
       "Pretax Income                                          0.810382   \n",
       "\n",
       "                                         Investing Cash Flow  \\\n",
       "Diluted EPS                                        -0.211272   \n",
       "Total Assets                                       -0.364075   \n",
       "Total Liabilities Net Minority Interest            -0.163723   \n",
       "Total Equity Gross Minority Interest               -0.599166   \n",
       "Common Stock Equity                                -0.614296   \n",
       "Tangible Book Value                                -0.501039   \n",
       "Invested Capital                                   -0.343494   \n",
       "End Cash Position                                  -0.322598   \n",
       "Financing Cash Flow                                -0.338334   \n",
       "Operating Cash Flow                                -0.331416   \n",
       "Total Revenue                                      -0.386362   \n",
       "Diluted Average Shares                              0.294334   \n",
       "Investing Cash Flow                                 1.000000   \n",
       "Normalized Income                                  -0.059557   \n",
       "Tax Effect of Unusual Items                        -0.104707   \n",
       "Pretax Income                                      -0.118905   \n",
       "\n",
       "                                         Normalized Income  \\\n",
       "Diluted EPS                                       0.198945   \n",
       "Total Assets                                      0.610539   \n",
       "Total Liabilities Net Minority Interest           0.483379   \n",
       "Total Equity Gross Minority Interest              0.665304   \n",
       "Common Stock Equity                               0.710368   \n",
       "Tangible Book Value                               0.684982   \n",
       "Invested Capital                                  0.606593   \n",
       "End Cash Position                                 0.538813   \n",
       "Financing Cash Flow                              -0.854907   \n",
       "Operating Cash Flow                               0.902969   \n",
       "Total Revenue                                     0.571385   \n",
       "Diluted Average Shares                            0.845477   \n",
       "Investing Cash Flow                              -0.059557   \n",
       "Normalized Income                                 1.000000   \n",
       "Tax Effect of Unusual Items                       0.127201   \n",
       "Pretax Income                                     0.978908   \n",
       "\n",
       "                                         Tax Effect of Unusual Items  \\\n",
       "Diluted EPS                                                 0.881965   \n",
       "Total Assets                                               -0.437234   \n",
       "Total Liabilities Net Minority Interest                    -0.535255   \n",
       "Total Equity Gross Minority Interest                       -0.168864   \n",
       "Common Stock Equity                                         0.000935   \n",
       "Tangible Book Value                                         0.049622   \n",
       "Invested Capital                                           -0.520866   \n",
       "End Cash Position                                          -0.444556   \n",
       "Financing Cash Flow                                         0.125004   \n",
       "Operating Cash Flow                                        -0.076219   \n",
       "Total Revenue                                               0.021115   \n",
       "Diluted Average Shares                                      0.041989   \n",
       "Investing Cash Flow                                        -0.104707   \n",
       "Normalized Income                                           0.127201   \n",
       "Tax Effect of Unusual Items                                 1.000000   \n",
       "Pretax Income                                               0.305948   \n",
       "\n",
       "                                         Pretax Income  \n",
       "Diluted EPS                                   0.356777  \n",
       "Total Assets                                  0.516395  \n",
       "Total Liabilities Net Minority Interest       0.368755  \n",
       "Total Equity Gross Minority Interest          0.627926  \n",
       "Common Stock Equity                           0.700425  \n",
       "Tangible Book Value                           0.679501  \n",
       "Invested Capital                              0.492891  \n",
       "End Cash Position                             0.460481  \n",
       "Financing Cash Flow                          -0.780521  \n",
       "Operating Cash Flow                           0.862929  \n",
       "Total Revenue                                 0.576010  \n",
       "Diluted Average Shares                        0.810382  \n",
       "Investing Cash Flow                          -0.118905  \n",
       "Normalized Income                             0.978908  \n",
       "Tax Effect of Unusual Items                   0.305948  \n",
       "Pretax Income                                 1.000000  "
      ]
     },
     "execution_count": 1135,
     "metadata": {},
     "output_type": "execute_result"
    }
   ],
   "source": [
    "df_pick_corr.corr()"
   ]
  },
  {
   "cell_type": "code",
   "execution_count": 1136,
   "metadata": {
    "ExecuteTime": {
     "end_time": "2020-10-06T07:02:33.904645Z",
     "start_time": "2020-10-06T07:02:33.613879Z"
    }
   },
   "outputs": [],
   "source": [
    "df_pick_corr.to_csv(\"data/df_pick_corr_2.csv\")"
   ]
  },
  {
   "cell_type": "markdown",
   "metadata": {},
   "source": [
    "## Summary Statistics in R"
   ]
  },
  {
   "cell_type": "markdown",
   "metadata": {
    "ExecuteTime": {
     "end_time": "2020-10-05T06:43:26.504554Z",
     "start_time": "2020-10-05T06:43:26.315117Z"
    }
   },
   "source": [
    "__Step Method in R Choose A Model By AIC In A Stepwise Algorithm__"
   ]
  },
  {
   "cell_type": "markdown",
   "metadata": {},
   "source": [
    "***\n",
    "Input:\n",
    "\n",
    ">step(model_0<-lm(Diluted.EPS~Total.Assets+Total.Liabilities.Net.Minority.Interest+\n",
    "                 Common.Stock.Equity+Tangible.Book.Value+Invested.Capital+Total.Capitalization+\n",
    "                 Net.Tangible.Assets+End.Cash.Position+Investing.Cash.Flow+Normalized.Income+\n",
    "                 Tax.Effect.of.Unusual.Items+\n",
    "                 Diluted.NI.Available.to.Com.Stockholders+Net.Income.Common.Stockholders+\n",
    "                 Pretax.Income+Net.Income.from.Continuing...Discontinued.Operation+\n",
    "                 Net.Income.from.Continuing.Operation.Net.Minority.Interest,\n",
    "               data = df_new))\n",
    "               \n",
    "Output: \n",
    "\n",
    ">lm(formula = Diluted.EPS ~ Total.Liabilities.Net.Minority.Interest + \n",
    "    Common.Stock.Equity + Total.Capitalization + Net.Tangible.Assets + \n",
    "    End.Cash.Position + Investing.Cash.Flow + Normalized.Income + \n",
    "    Tax.Effect.of.Unusual.Items + Diluted.NI.Available.to.Com.Stockholders + \n",
    "    Pretax.Income + Net.Income.from.Continuing.Operation.Net.Minority.Interest, \n",
    "    data = df_new)\n",
    "    \n",
    "***"
   ]
  },
  {
   "cell_type": "code",
   "execution_count": 1053,
   "metadata": {
    "ExecuteTime": {
     "end_time": "2020-10-05T07:10:05.848045Z",
     "start_time": "2020-10-05T07:10:05.829220Z"
    }
   },
   "outputs": [],
   "source": [
    "columns_step = [\"Diluted EPS\",\"Total Liabilities Net Minority Interest\", \"Common Stock Equity\", \n",
    "                \"Total Capitalization\", \"Net Tangible Assets\", \"End Cash Position\",\"Investing Cash Flow\", \n",
    "                \"Normalized Income\",\"Tax Effect of Unusual Items\", \"Diluted NI Available to Com Stockholders\",\n",
    "                 \"Pretax Income\", \"Net Income from Continuing Operation Net Minority Interest\"]"
   ]
  },
  {
   "cell_type": "code",
   "execution_count": 1079,
   "metadata": {
    "ExecuteTime": {
     "end_time": "2020-10-05T21:31:31.054155Z",
     "start_time": "2020-10-05T21:31:30.357889Z"
    }
   },
   "outputs": [],
   "source": [
    "df_step = df_keep[columns_step] # The features that selected from R in a new dataframe "
   ]
  },
  {
   "cell_type": "markdown",
   "metadata": {},
   "source": [
    "## Pair Plot"
   ]
  },
  {
   "cell_type": "code",
   "execution_count": 1060,
   "metadata": {
    "ExecuteTime": {
     "end_time": "2020-10-05T16:59:15.055271Z",
     "start_time": "2020-10-05T16:45:31.169256Z"
    }
   },
   "outputs": [
    {
     "data": {
      "text/plain": [
       "<seaborn.axisgrid.PairGrid at 0x7fac364c6e20>"
      ]
     },
     "execution_count": 1060,
     "metadata": {},
     "output_type": "execute_result"
    },
    {
     "data": {
      "text/plain": [
       "<seaborn.axisgrid.PairGrid at 0x7fac364c6e20>"
      ]
     },
     "execution_count": 1060,
     "metadata": {},
     "output_type": "execute_result"
    },
    {
     "data": {
      "image/png": "[encoded data removed]",
      "text/plain": [
       "<Figure size 2160x2160 with 90 Axes>"
      ]
     },
     "metadata": {
      "needs_background": "light"
     },
     "output_type": "display_data"
    }
   ],
   "source": [
    "g = sns.PairGrid(df_step.sample(frac=0.6), diag_sharey=False, corner=True)\n",
    "g.map_lower(sns.scatterplot)\n",
    "g.map_diag(sns.distplot, kde=False)"
   ]
  },
  {
   "cell_type": "code",
   "execution_count": 1056,
   "metadata": {
    "ExecuteTime": {
     "end_time": "2020-10-05T07:10:21.982665Z",
     "start_time": "2020-10-05T07:10:21.874281Z"
    }
   },
   "outputs": [
    {
     "data": {
      "text/html": [
       "<div>\n",
       "<style scoped>\n",
       "    .dataframe tbody tr th:only-of-type {\n",
       "        vertical-align: middle;\n",
       "    }\n",
       "\n",
       "    .dataframe tbody tr th {\n",
       "        vertical-align: top;\n",
       "    }\n",
       "\n",
       "    .dataframe thead th {\n",
       "        text-align: right;\n",
       "    }\n",
       "</style>\n",
       "<table border=\"1\" class=\"dataframe\">\n",
       "  <thead>\n",
       "    <tr style=\"text-align: right;\">\n",
       "      <th></th>\n",
       "      <th>Diluted EPS</th>\n",
       "      <th>Total Liabilities Net Minority Interest</th>\n",
       "      <th>Common Stock Equity</th>\n",
       "      <th>Total Capitalization</th>\n",
       "      <th>Net Tangible Assets</th>\n",
       "      <th>End Cash Position</th>\n",
       "      <th>Investing Cash Flow</th>\n",
       "      <th>Normalized Income</th>\n",
       "      <th>Tax Effect of Unusual Items</th>\n",
       "      <th>Diluted NI Available to Com Stockholders</th>\n",
       "      <th>Pretax Income</th>\n",
       "      <th>Net Income from Continuing Operation Net Minority Interest</th>\n",
       "    </tr>\n",
       "  </thead>\n",
       "  <tbody>\n",
       "    <tr>\n",
       "      <th>0</th>\n",
       "      <td>0.000</td>\n",
       "      <td>142992.0</td>\n",
       "      <td>578423.0</td>\n",
       "      <td>578423.0</td>\n",
       "      <td>NaN</td>\n",
       "      <td>36617.0</td>\n",
       "      <td>-103579.0</td>\n",
       "      <td>NaN</td>\n",
       "      <td>NaN</td>\n",
       "      <td>NaN</td>\n",
       "      <td>NaN</td>\n",
       "      <td>NaN</td>\n",
       "    </tr>\n",
       "    <tr>\n",
       "      <th>1</th>\n",
       "      <td>0.000</td>\n",
       "      <td>120382.0</td>\n",
       "      <td>97321.0</td>\n",
       "      <td>97321.0</td>\n",
       "      <td>NaN</td>\n",
       "      <td>117859.0</td>\n",
       "      <td>-5531.0</td>\n",
       "      <td>NaN</td>\n",
       "      <td>NaN</td>\n",
       "      <td>NaN</td>\n",
       "      <td>NaN</td>\n",
       "      <td>NaN</td>\n",
       "    </tr>\n",
       "    <tr>\n",
       "      <th>2</th>\n",
       "      <td>0.006</td>\n",
       "      <td>10232245.0</td>\n",
       "      <td>10530155.0</td>\n",
       "      <td>11519079.0</td>\n",
       "      <td>NaN</td>\n",
       "      <td>2650221.0</td>\n",
       "      <td>-455584.0</td>\n",
       "      <td>NaN</td>\n",
       "      <td>NaN</td>\n",
       "      <td>NaN</td>\n",
       "      <td>NaN</td>\n",
       "      <td>NaN</td>\n",
       "    </tr>\n",
       "    <tr>\n",
       "      <th>3</th>\n",
       "      <td>0.000</td>\n",
       "      <td>2663.0</td>\n",
       "      <td>11851.0</td>\n",
       "      <td>11851.0</td>\n",
       "      <td>NaN</td>\n",
       "      <td>2077.0</td>\n",
       "      <td>-5010.0</td>\n",
       "      <td>NaN</td>\n",
       "      <td>NaN</td>\n",
       "      <td>NaN</td>\n",
       "      <td>NaN</td>\n",
       "      <td>NaN</td>\n",
       "    </tr>\n",
       "    <tr>\n",
       "      <th>4</th>\n",
       "      <td>0.000</td>\n",
       "      <td>6822.0</td>\n",
       "      <td>47904.0</td>\n",
       "      <td>47904.0</td>\n",
       "      <td>NaN</td>\n",
       "      <td>13197.0</td>\n",
       "      <td>-2382.0</td>\n",
       "      <td>NaN</td>\n",
       "      <td>NaN</td>\n",
       "      <td>NaN</td>\n",
       "      <td>NaN</td>\n",
       "      <td>NaN</td>\n",
       "    </tr>\n",
       "  </tbody>\n",
       "</table>\n",
       "</div>"
      ],
      "text/plain": [
       "   Diluted EPS  Total Liabilities Net Minority Interest  Common Stock Equity  \\\n",
       "0        0.000                                 142992.0             578423.0   \n",
       "1        0.000                                 120382.0              97321.0   \n",
       "2        0.006                               10232245.0           10530155.0   \n",
       "3        0.000                                   2663.0              11851.0   \n",
       "4        0.000                                   6822.0              47904.0   \n",
       "\n",
       "   Total Capitalization  Net Tangible Assets  End Cash Position  \\\n",
       "0              578423.0                  NaN            36617.0   \n",
       "1               97321.0                  NaN           117859.0   \n",
       "2            11519079.0                  NaN          2650221.0   \n",
       "3               11851.0                  NaN             2077.0   \n",
       "4               47904.0                  NaN            13197.0   \n",
       "\n",
       "   Investing Cash Flow  Normalized Income  Tax Effect of Unusual Items  \\\n",
       "0            -103579.0                NaN                          NaN   \n",
       "1              -5531.0                NaN                          NaN   \n",
       "2            -455584.0                NaN                          NaN   \n",
       "3              -5010.0                NaN                          NaN   \n",
       "4              -2382.0                NaN                          NaN   \n",
       "\n",
       "   Diluted NI Available to Com Stockholders  Pretax Income  \\\n",
       "0                                       NaN            NaN   \n",
       "1                                       NaN            NaN   \n",
       "2                                       NaN            NaN   \n",
       "3                                       NaN            NaN   \n",
       "4                                       NaN            NaN   \n",
       "\n",
       "   Net Income from Continuing Operation Net Minority Interest  \n",
       "0                                                NaN           \n",
       "1                                                NaN           \n",
       "2                                                NaN           \n",
       "3                                                NaN           \n",
       "4                                                NaN           "
      ]
     },
     "execution_count": 1056,
     "metadata": {},
     "output_type": "execute_result"
    }
   ],
   "source": [
    "df_step.head()"
   ]
  },
  {
   "cell_type": "code",
   "execution_count": 1078,
   "metadata": {
    "ExecuteTime": {
     "end_time": "2020-10-05T21:19:09.282442Z",
     "start_time": "2020-10-05T21:19:08.701551Z"
    }
   },
   "outputs": [
    {
     "data": {
      "text/plain": [
       "array([7.95874508e-01, 1.25593076e+00, 9.23223146e-01, 7.87201152e-01,\n",
       "       5.51048491e-01, 1.03815929e+00, 5.75519199e-01, 2.22352441e+00,\n",
       "       3.31491218e+00, 4.83602101e-01, 1.56889614e+00, 7.52674110e-01,\n",
       "       8.39432847e-01, 2.59825415e+00, 7.36853549e-02, 9.11610291e-02,\n",
       "       2.04255867e-02, 1.78748768e+00, 1.50578423e+00, 2.04031428e+00,\n",
       "       3.84522184e+00, 1.60523956e+00, 6.18929459e-01, 1.51653598e+00,\n",
       "       1.25874412e-01, 1.02143189e+00, 1.54729683e-01, 2.89442045e+00,\n",
       "       7.37827278e-01, 5.35565718e-01, 3.07280353e-01, 1.48825484e+00,\n",
       "       6.09082416e-01, 8.40334707e-01, 1.89685717e-02, 9.61380929e-01,\n",
       "       9.46996678e-01, 9.59547973e-01, 2.87791508e+00, 1.14513896e+00,\n",
       "       4.45518493e-01, 5.74532409e-01, 1.19610780e+00, 6.21152959e-02,\n",
       "       1.09891248e+00, 1.11059743e+00, 2.36206705e-01, 1.38028688e-01,\n",
       "       3.78961966e-01, 4.52102056e-01, 8.44427781e-01, 5.77324311e-01,\n",
       "       4.45449738e+00, 1.07635113e-01, 2.34301516e-01, 1.75913553e-01,\n",
       "       1.05874272e+00, 2.92080535e-01, 6.27941581e-01, 2.80277014e-01,\n",
       "       1.73127453e-01, 1.16955412e-01, 1.06807219e+00, 1.48712271e-01,\n",
       "       2.18880603e-01, 4.60013966e-01, 1.72033165e+00, 1.02144887e-01,\n",
       "       1.81981892e+00, 1.01034783e-01, 3.74903145e+00, 6.32336603e-01,\n",
       "       3.76192717e+00, 9.28478501e-01, 1.34424526e+00, 3.99763025e-02,\n",
       "       3.32410245e-01, 1.28056761e-01, 3.51176087e-01, 1.26388642e-01,\n",
       "       3.82700958e-01, 5.34884386e-01, 6.62973965e-02, 1.17918953e+00,\n",
       "       8.36097545e-01, 3.08414840e-01, 7.40758952e-01, 9.86503137e-02,\n",
       "       8.57895642e-01, 2.64925593e+00, 3.83560210e-01, 1.10084592e+00,\n",
       "       1.41330714e-01, 1.25993383e+00, 3.41654170e-01, 2.02350437e-01,\n",
       "       8.83129046e-01, 2.03124543e-02, 1.76574108e+00, 4.70653457e-03,\n",
       "       1.13263413e+00, 3.14721667e-01, 1.32875788e+00, 3.27514318e+00,\n",
       "       2.86020978e-01, 8.58392964e-01, 8.96590883e-01, 8.49220822e-01,\n",
       "       2.52419995e-01, 3.05228170e+00, 5.92624028e-01, 1.87345992e+00,\n",
       "       1.20223856e+00, 3.53020132e-01, 1.68092220e+00, 5.05018751e-01,\n",
       "       2.12949936e+00, 8.70535819e-01, 2.13483047e+00, 1.17938293e+00,\n",
       "       1.29190926e+00, 6.95799459e-01, 3.12546824e+00, 1.03279702e+00,\n",
       "       5.51395998e-01, 9.32402873e-01, 1.93797790e-02, 3.58927217e-01,\n",
       "       1.07932020e+00, 3.42599621e-01, 9.62375061e-01, 5.59961074e-01,\n",
       "       1.45573973e-01, 3.54224130e-01, 8.43888471e-01, 8.93729074e-01,\n",
       "       8.54079719e-01, 1.05900940e+00, 1.05584960e+00, 5.64610503e-01,\n",
       "       2.26863397e+00, 4.58172881e-01, 5.72461562e-01, 2.22491463e+00,\n",
       "       1.64089756e+00, 1.21701949e+00, 1.05612644e-01, 2.51928214e+00,\n",
       "       1.25260753e+00, 6.76539373e+00, 1.61870087e-01, 2.02590879e+00,\n",
       "       1.77325579e-01, 9.55966416e-01, 1.32183710e-01, 1.88392890e+00,\n",
       "       1.64671909e+00, 8.41880948e-01, 5.22870029e-01, 7.16753899e-02,\n",
       "       1.19543857e+00, 6.04299076e-01, 1.28033418e+00, 2.01277274e+00,\n",
       "       3.70996030e+00, 1.93657723e+00, 1.17832346e-02, 4.46252829e-01,\n",
       "       1.30929837e+00, 1.88294975e-01, 7.36131107e-01, 5.58700553e-02,\n",
       "       2.23139207e-01, 1.86954708e-02, 1.57841273e+00, 2.53505712e-01,\n",
       "       4.23657105e-01, 2.63221887e+00, 1.21879681e+00, 3.23568104e-02,\n",
       "       1.79957342e-01, 9.71482144e-01, 8.60923645e-01, 2.71668079e-01,\n",
       "       2.72134820e+00, 9.51829716e-01, 7.67079667e-01, 8.91378574e-01,\n",
       "       1.30978538e+00, 3.73886496e-01, 5.07865114e-01, 2.35524567e-01,\n",
       "       2.06032049e-01, 2.88907562e+00, 1.34534743e+00, 6.74244583e-01,\n",
       "       2.58012762e-01, 2.93507651e-01, 5.97809606e-02, 5.69897559e-01,\n",
       "       3.73669802e-01, 1.19185811e+00, 4.74416294e-01, 1.97967735e-01,\n",
       "       2.49883529e-02, 6.96176718e-02, 1.13753850e+00, 6.04581228e-01,\n",
       "       7.69119806e-01, 2.26984004e+00, 4.63965267e+00, 2.44491026e-01,\n",
       "       1.08790443e+00, 3.05604900e-01, 2.08672132e-02, 1.42038346e+00,\n",
       "       3.85687703e-01, 4.83638392e-01, 8.87501919e-01, 1.77814332e+00,\n",
       "       9.91504278e-01, 2.06082122e+00, 3.19574657e-01, 1.59971946e+00,\n",
       "       2.05347770e-01, 3.05318464e+00, 1.16311329e+00, 2.42718493e-01,\n",
       "       2.94448020e+00, 1.31250801e+00, 2.92951455e-01, 2.39923523e-01,\n",
       "       7.30227671e-01, 2.59977499e-02, 2.32525014e-01, 5.52838377e-01,\n",
       "       4.68676479e-01, 6.22829313e-01, 3.25216015e-01, 8.83785659e-01,\n",
       "       1.99403924e+00, 1.25032588e-01, 7.28523834e-01, 1.41642031e-01,\n",
       "       1.26181268e+00, 5.04279932e-01, 8.33378250e-01, 2.02458760e-01,\n",
       "       1.56475767e-01, 6.69540583e-01, 4.39455395e-01, 2.82063584e+00,\n",
       "       1.44955478e+00, 1.38096308e+00, 2.34049196e+00, 8.71085840e-02,\n",
       "       8.03391759e-01, 8.78215071e-01, 3.26849627e+00, 3.45519578e-01,\n",
       "       2.75527941e-01, 1.05687172e-01, 1.65660927e-02, 2.65255850e+00,\n",
       "       1.10840977e+00, 1.53782872e+00, 3.30909883e-01, 8.82880536e-01,\n",
       "       6.60920110e-02, 6.64807754e-01, 3.79402398e+00, 2.09155660e+00,\n",
       "       4.12729860e-01, 3.25892090e+00, 2.63577114e-01, 2.98220069e+00,\n",
       "       2.83664019e+00, 1.60545878e+00, 9.95463647e-01, 2.07376144e+00,\n",
       "       3.46753304e-01, 1.89010171e+00, 9.62011926e-01, 1.33252458e-02,\n",
       "       4.26535822e-01, 1.60334096e-01, 4.00794982e+00, 6.50797343e-01,\n",
       "       6.87943474e-01, 1.02018709e+00, 4.59791323e-01, 1.47225035e-01,\n",
       "       1.72663337e+00, 2.10533286e-01, 7.16045318e-01, 2.54011385e-01,\n",
       "       1.02968362e-01, 1.98189037e+00, 3.60894096e+00, 3.23996306e+00,\n",
       "       2.37038759e+00, 1.48742974e+00, 4.05182876e-01, 8.45794891e-02,\n",
       "       5.22967660e-01, 2.64270465e-01, 1.42125513e-01, 5.49073771e-02,\n",
       "       1.29314784e+00, 1.14932538e-02, 1.47220416e+00, 1.58933184e-01,\n",
       "       8.28622684e-02, 9.38745485e-02, 1.11488744e+00, 2.81524019e-01,\n",
       "       5.45657723e-01, 8.15018342e-01, 1.97005758e+00, 1.29844563e+00,\n",
       "       3.15160031e-01, 1.40967888e-01, 5.69665362e-02, 3.58961319e-01,\n",
       "       3.03971561e-01, 6.09064460e-01, 1.14974139e+00, 1.18949625e+00,\n",
       "       3.33403336e-01, 4.77917995e-01, 1.99855537e-01, 1.55374549e+00,\n",
       "       5.85279027e-02, 1.19401337e+00, 1.50821523e+00, 1.50241281e+00,\n",
       "       3.00325079e-01, 4.68106451e-01, 8.85760642e-01, 3.18583855e-01,\n",
       "       4.63390026e-01, 2.19468164e-01, 6.15919293e-01, 4.56380536e-02,\n",
       "       1.60841786e+00, 8.00788592e-02, 7.31545342e-01, 3.66451291e-01,\n",
       "       8.61667491e-01, 3.20480875e+00, 1.03724510e+00, 3.60028293e-02,\n",
       "       5.62825202e-01, 7.13384281e-01, 7.68253332e-01, 1.14379537e+00,\n",
       "       3.25170875e-01, 1.37953229e-01, 4.98692325e-01, 3.13282939e+00,\n",
       "       2.07185181e-01, 2.34323997e+00, 7.84837012e-01, 6.10482845e-01,\n",
       "       2.13742165e+00, 6.13604219e-01, 1.28796198e+00, 5.09202478e-01,\n",
       "       2.34386962e+00, 1.17126370e+00, 1.20271378e+00, 3.97080956e-01,\n",
       "       1.41378332e+00, 1.01076916e+00, 2.74463522e-01, 1.74995048e-01,\n",
       "       1.59155612e+00, 3.19825498e+00, 6.12745449e-01, 8.94001408e-01,\n",
       "       1.94997692e+00, 6.11057560e-01, 3.03394262e+00, 8.57435114e-01,\n",
       "       1.71906932e+00, 2.39517987e+00, 1.69023492e+00, 1.73656563e-01,\n",
       "       9.91279505e-01, 5.08219454e-01, 6.47656958e-02, 5.51703613e-01,\n",
       "       2.99328384e-01, 1.89072917e+00, 3.38718554e-02, 3.19376188e+00,\n",
       "       4.39076984e-01, 4.41154812e-01, 1.64632819e-02, 2.04852268e-01,\n",
       "       5.12926998e-01, 2.64918832e+00, 1.04932752e-01, 2.90591960e+00,\n",
       "       2.03629417e+00, 6.05433778e-01, 3.95565593e-01, 2.64934934e-01,\n",
       "       9.53122538e-01, 3.36339235e-02, 1.57291210e-02, 5.60008379e-01,\n",
       "       7.05019460e-02, 2.90273411e-01, 2.49950821e-01, 2.91946075e-01,\n",
       "       1.40475713e-01, 1.21092448e-02, 1.22715012e-01, 9.63592685e-01,\n",
       "       3.65956196e+00, 4.64027952e+00, 5.26030798e-01, 1.77876761e-01,\n",
       "       1.01821759e+00, 6.73943451e-01, 4.54782409e+00, 6.75341579e-02,\n",
       "       1.52893887e+00, 3.40237212e-01, 2.76305195e-01, 1.08620331e+00,\n",
       "       2.82446714e-01, 1.09619257e+00, 7.28377581e-01, 5.51802124e-01,\n",
       "       8.08979689e-01, 3.38346119e-01, 1.22613221e+00, 5.35898794e-01,\n",
       "       4.47139904e-01, 1.76408738e+00, 2.58982609e+00, 4.70992710e-02,\n",
       "       2.64782276e-01, 4.28507613e-01, 1.68721828e+00, 4.23301561e+00,\n",
       "       3.47285574e+00, 2.35333480e+00, 3.51767384e-01, 4.82972015e+00,\n",
       "       2.86909093e-01, 1.11944537e-01, 3.01496833e+00, 2.65816549e-01,\n",
       "       1.17043573e+00, 6.01283764e-02, 1.31196307e+00, 2.13470238e+00,\n",
       "       3.18054542e-01, 4.76515821e-01, 4.68878156e-01, 1.38145910e+00,\n",
       "       2.71555793e-01, 1.88564724e-01, 5.96549918e-01, 3.63078844e-01,\n",
       "       1.82752628e+00, 2.71469970e-01, 6.97937551e-01, 2.85742530e+00,\n",
       "       1.00511566e+00, 2.01958450e+00, 2.81691166e+00, 1.38935850e+00,\n",
       "       1.20255734e+00, 3.44094391e+00, 5.18512970e+00, 6.01154648e-01,\n",
       "       7.35063758e-02, 3.46433328e-01, 1.65293016e-01, 5.40402703e-01,\n",
       "       1.40745153e-01, 9.26638597e-01, 4.82575216e-01, 2.25747679e+00,\n",
       "       3.43562337e+00, 7.91609106e-01, 3.21340302e-01, 8.97053016e-01,\n",
       "       2.27071012e+00, 5.22111311e-01, 8.03136787e-01, 3.16977377e-01,\n",
       "       6.07784770e-01, 5.13685602e-01, 2.85568927e-01, 7.04949320e-01,\n",
       "       3.71615755e-01, 4.66864344e-01, 7.44378250e-01, 1.38867729e+00,\n",
       "       4.05726341e-01, 2.57911316e+00, 1.98281257e+00, 4.99156080e-02,\n",
       "       2.92550604e-01, 5.90835230e-01, 1.10515880e-01, 4.28441028e-01,\n",
       "       1.34744882e+00, 1.14104333e+00, 9.73878608e-01, 1.23969810e+00,\n",
       "       2.29317178e-01, 4.18091661e-01, 1.12776045e+00, 2.11390681e+00,\n",
       "       7.84556696e-01, 3.32260629e-01, 3.07017709e-02, 1.23903651e+00,\n",
       "       7.91534738e-03, 4.66297019e-01, 7.56166248e-01, 2.55247647e+00,\n",
       "       9.37553887e-02, 5.20778863e-01, 2.46136454e-02, 4.19479327e-01,\n",
       "       9.73472537e-01, 3.27210388e-01, 2.35405864e-01, 1.22962564e-01,\n",
       "       8.60714701e-01, 1.18832916e+00, 1.11461101e+00, 2.97320827e+00,\n",
       "       2.70687417e-03, 1.04184447e+00, 9.17271806e-01, 8.88528713e-01,\n",
       "       3.29064898e+00, 1.70156214e-02, 1.19231578e+00, 1.68028241e+00,\n",
       "       7.12956489e-01, 4.06412861e-01, 1.56465655e+00, 1.02301782e-01,\n",
       "       5.83460186e-01, 7.33869960e-01, 1.18402774e+00, 9.52844854e-02,\n",
       "       2.58459251e-01, 5.28143996e-01, 9.76292023e-01, 2.18002045e+00,\n",
       "       9.64499757e-01, 1.43248706e-01, 3.94145865e+00, 2.05405247e+00,\n",
       "       6.98603562e-01, 2.55551774e+00, 7.79535029e-01, 2.56793269e+00,\n",
       "       1.77135331e+00, 3.45100999e+00, 2.52301746e+00, 3.66990653e-02,\n",
       "       1.92095572e-01, 4.92878765e-01, 3.03953156e+00, 3.56716258e-01,\n",
       "       1.74910261e-01, 2.17423292e+00, 5.91302787e-01, 2.38461538e+00,\n",
       "       1.74627789e-01, 1.08210187e+00, 5.80289593e-01, 7.95701525e-02,\n",
       "       1.19225224e+00, 2.84219747e-01, 4.04215774e-02, 6.18161483e-02,\n",
       "       6.30234423e-02, 2.38306827e+00, 1.34662728e+00, 2.28339400e+00,\n",
       "       1.11651859e+00, 7.52769654e-01, 3.63047152e-01, 6.19590967e+00,\n",
       "       4.49713370e-01, 6.36103455e-01, 4.75209436e-01, 3.88864488e+00,\n",
       "       1.91957900e-01, 3.97479083e-01, 1.14052446e+00, 6.52935990e-02,\n",
       "       9.34580408e-01, 6.49410723e-01, 3.34075080e-01, 2.72351234e-01,\n",
       "       7.22602239e-01, 4.58751304e-01, 6.09762172e-01, 4.11700581e-01,\n",
       "       3.52315126e+00, 1.43223272e-01, 1.01815643e-01, 4.20667677e-01,\n",
       "       8.94105897e-01, 1.07639045e+00, 5.06263956e-01, 7.23347700e+00,\n",
       "       4.33699467e-01, 1.27800215e+00, 1.01495895e+00, 1.67693474e+00,\n",
       "       3.73914858e+00, 2.20540082e+00, 1.44630756e+00, 1.19815137e+00,\n",
       "       4.08717646e-01, 1.59799781e-01, 6.46836016e-02, 2.76942224e-01,\n",
       "       5.66129549e-01, 7.38136751e-01, 1.48317341e+00, 3.18788414e+00,\n",
       "       1.24793089e-01, 1.13173334e-01, 8.90853818e-01, 1.36805403e+00,\n",
       "       1.88486459e+00, 2.74625189e+00, 4.09993469e+00, 5.10495165e-01,\n",
       "       4.78576566e-01, 1.59944219e-01, 1.15497453e+00, 1.06933107e+00,\n",
       "       1.98095529e+00, 1.02318475e-01, 6.88710851e-01, 8.70079914e-01,\n",
       "       2.76487684e-01, 1.85156058e-01, 1.96312330e+00, 6.03180237e-02,\n",
       "       6.36050476e-01, 1.23110453e-01, 6.10754181e-01, 3.91014109e+00,\n",
       "       5.51137945e-01, 1.94578458e+00, 1.24787520e-01, 3.16427391e-01,\n",
       "       5.17166922e-01, 5.10512573e-01, 1.11286380e+00, 4.22689796e-01,\n",
       "       1.25094865e+00, 1.01939518e+00, 5.09428509e-01, 5.65211639e-01,\n",
       "       9.53285943e-01, 7.26160596e-02, 1.72825939e+00, 1.05964496e+00,\n",
       "       1.29587782e+00, 7.69861934e-01, 1.17070040e-01, 5.19253730e-01,\n",
       "       5.19821941e-01, 3.87197467e-01, 3.04079974e-02, 1.33656842e+00,\n",
       "       1.16291664e-01, 9.32186739e-01, 1.21475572e+00, 1.00727268e+00,\n",
       "       3.19765881e+00, 1.09031864e-01, 2.01866378e+00, 2.96247463e-02,\n",
       "       7.65539083e-01, 5.17923450e-01, 7.42723761e-01, 4.54287579e-01,\n",
       "       2.11421171e-01, 1.93081050e-02, 7.30122030e-01, 1.85008923e+00,\n",
       "       4.67153225e-01, 2.52139678e-01, 8.39600408e-02, 8.91710781e-02,\n",
       "       2.50253280e-01, 1.05376139e-01, 3.07938793e-01, 6.84388772e-02,\n",
       "       6.78558758e-02, 1.93986174e+00, 1.76880698e-01, 8.20259007e-01,\n",
       "       1.48481408e+00, 6.09559193e-01, 1.66490190e-01, 2.22638856e-01,\n",
       "       5.67368121e-01, 7.51272368e-01, 4.29922197e-01, 1.52087591e+00,\n",
       "       1.39038933e+00, 2.62020153e+00, 2.93799437e-02, 2.26040042e+00,\n",
       "       4.98516342e-01, 2.10679215e+00, 1.17371773e+00, 4.36999981e+00,\n",
       "       1.42413103e+00, 4.53413413e-01, 6.95275790e-01, 4.72228751e-01,\n",
       "       4.53991449e-01, 3.02328137e-01, 6.85120075e-01, 1.14488645e+00,\n",
       "       3.24816806e-01, 7.43135666e-01, 1.24860855e-01, 1.74169222e-01,\n",
       "       4.79372005e-02, 3.53124147e+00, 3.86782190e-03, 1.96720690e-01,\n",
       "       9.48986338e-01, 8.48714126e-02, 2.13619395e+00, 1.27161002e+00,\n",
       "       3.39293079e+00, 7.08536079e-01, 3.57251801e-01, 7.97398473e-01,\n",
       "       2.67102493e+00, 7.35556762e-01, 3.10892062e-01, 2.09881838e+00,\n",
       "       4.65085740e-01, 1.38430771e-03, 2.84600190e-01, 3.83068069e-01,\n",
       "       1.95741839e+00, 6.13418061e-01, 5.88043816e-01, 4.09627157e-01,\n",
       "       2.12593059e+00, 2.90090907e+00, 4.81469800e+00, 4.72793545e-01,\n",
       "       3.38574082e+00, 1.56963837e+00, 1.12605280e+00, 2.80891156e-01,\n",
       "       2.43929670e-01, 1.81579222e-01, 2.56079394e+00, 3.48248634e-01,\n",
       "       6.03478787e-01, 6.81135281e-01, 1.50585115e+00, 1.85940657e+00,\n",
       "       1.49745216e-01, 5.56702666e-01, 1.85058562e+00, 1.70393161e+00,\n",
       "       1.08046072e-01, 1.70057092e-01, 3.62691136e-01, 7.83497996e-02,\n",
       "       5.52799328e-01, 1.13860657e-01, 8.39833507e-01, 2.83101831e-01,\n",
       "       9.07412920e-01, 1.25025548e-01, 3.72487430e+00, 2.69653482e+00,\n",
       "       4.97246470e-01, 2.77307533e-01, 2.88213164e-01, 6.60473884e-01,\n",
       "       4.08144965e-02, 1.02083243e+00, 5.24760445e-01, 4.73861578e-01,\n",
       "       1.65739452e+00, 1.23455388e+00, 3.08639720e+00, 4.33766193e-01,\n",
       "       2.27830978e+00, 1.46953331e+00, 4.42271195e-01, 9.71976386e-01,\n",
       "       3.40478190e-01, 2.07465236e+00, 1.19264865e-01, 2.38808561e-01,\n",
       "       2.02156934e-01, 5.15881722e-01, 1.36740572e+00, 7.48464242e-01,\n",
       "       6.68798673e-01, 5.46113990e-04, 5.54084135e-01, 6.56631798e-02,\n",
       "       2.33513701e-01, 2.69405764e+00, 2.42578957e-01, 1.95430879e+00,\n",
       "       1.62401044e+00, 1.73337519e-01, 9.30673564e-01, 1.22915792e-01,\n",
       "       1.30154211e+00, 1.01462675e+00, 1.67098657e+00, 6.52743608e-01,\n",
       "       2.46349459e+00, 5.06082099e-02, 3.46567009e-01, 1.25545067e+00,\n",
       "       5.41472498e-01, 1.89891764e-01, 1.13404723e-01, 1.70012391e+00,\n",
       "       6.40826074e-01, 2.13947755e+00, 1.32159011e+00, 5.27168791e-01,\n",
       "       4.67624085e-01, 7.24923434e-01, 2.19876534e+00, 1.33666105e+00,\n",
       "       5.16628658e-03, 1.18468616e+00, 2.51959011e+00, 1.23944718e+00,\n",
       "       1.94806103e-01, 6.60715088e-01, 1.51190420e-01, 4.44718456e-01,\n",
       "       2.76648009e+00, 2.56792277e+00, 3.32451922e-01, 4.14956576e-01,\n",
       "       9.16823044e-01, 3.30218394e+00, 1.59935603e-01, 2.96947052e-01,\n",
       "       2.06796230e+00, 6.77061712e-01, 2.29224961e+00, 2.05202825e-01,\n",
       "       7.60716610e-01, 3.94925297e-01, 3.80590892e-01, 5.92174814e-01,\n",
       "       5.67532579e-01, 4.42150171e-01, 2.46476020e+00, 1.31581422e+00,\n",
       "       1.30028913e+00, 3.42368414e-01, 8.62061634e-01, 1.51040482e+00,\n",
       "       1.58762930e+00, 4.22403446e-01, 1.47347778e+00, 1.33140435e+00,\n",
       "       1.52576153e-01, 2.00950861e+00, 5.82181052e-01, 6.66330871e-01,\n",
       "       5.94876259e-01, 8.38973276e-01, 9.70665737e-01, 6.89512924e-01,\n",
       "       2.01581751e+00, 9.88148658e-01, 5.13208376e-01, 5.39039514e-01,\n",
       "       1.66515474e+00, 4.28005151e-01, 2.37565545e-01, 6.12194359e-02,\n",
       "       2.08769025e+00, 2.50772237e+00, 1.27969951e-01, 4.07177185e-01,\n",
       "       1.92822988e-01, 1.23183369e-01, 2.30125341e+00, 5.85588448e-02,\n",
       "       3.93660588e+00, 1.01424783e-01, 1.99121566e+00, 8.35877570e-01,\n",
       "       4.58735336e-01, 4.19070812e-01, 1.41619349e+00, 3.77713708e-01,\n",
       "       1.07095505e+00, 7.28413974e-01, 6.63521672e-01, 2.31427486e+00,\n",
       "       8.08883694e-01, 1.75366402e+00, 1.29307194e+00, 3.93202540e-02,\n",
       "       1.48329019e+00, 2.44456888e-01, 2.33458824e+00, 4.38726750e-02,\n",
       "       4.05073237e-01, 1.05063834e-01, 6.45479774e-01, 1.71492308e+00,\n",
       "       3.54088805e-01, 1.63619414e-01, 4.00876207e-01, 1.68136441e+00,\n",
       "       1.51269452e-01, 2.57945227e-01, 7.13370074e-02, 1.22318975e+00,\n",
       "       5.02912422e-01, 3.72281781e-01, 1.26807192e+00, 4.09439308e-01,\n",
       "       1.30111266e+00, 1.68847785e+00, 2.45469485e-01, 3.64270974e+00,\n",
       "       1.77164415e-01, 3.43675386e-01, 1.98201325e-01, 4.23892336e-01,\n",
       "       6.54043566e-01, 7.38512541e-01, 1.92145395e+00, 2.20226846e+00,\n",
       "       2.48594523e-01, 9.75229049e-01, 1.18216194e-01, 6.14280290e-01,\n",
       "       3.89100056e-01, 3.80529713e-01, 6.58908553e-01, 1.30869514e+00,\n",
       "       7.16922173e-02, 2.11339830e+00, 1.32732296e+00, 1.94190987e-01,\n",
       "       2.79952275e+00, 7.05851994e-01, 8.56103075e+00, 2.19723748e-01,\n",
       "       7.65520470e-01, 3.42839726e-01, 3.62655014e-01, 8.94199991e-01,\n",
       "       2.54745122e+00, 1.63610974e+00, 1.28714211e+00, 8.19104545e-01,\n",
       "       2.55488076e+00, 6.77985515e-01, 2.07014234e+00, 1.79565692e+00,\n",
       "       2.40589026e-01, 1.47501831e+00, 1.22458320e-02, 3.89832247e-01,\n",
       "       2.60803162e-01, 7.06968169e-01, 1.33504308e+00, 1.02782029e-01,\n",
       "       7.23445993e-01, 2.78728858e+00, 2.59608581e-01, 1.13054003e+00])"
      ]
     },
     "execution_count": 1078,
     "metadata": {},
     "output_type": "execute_result"
    }
   ],
   "source": [
    "df_step"
   ]
  },
  {
   "cell_type": "code",
   "execution_count": 1058,
   "metadata": {
    "ExecuteTime": {
     "end_time": "2020-10-05T07:15:01.703321Z",
     "start_time": "2020-10-05T07:15:01.435036Z"
    }
   },
   "outputs": [
    {
     "data": {
      "text/html": [
       "<div>\n",
       "<style scoped>\n",
       "    .dataframe tbody tr th:only-of-type {\n",
       "        vertical-align: middle;\n",
       "    }\n",
       "\n",
       "    .dataframe tbody tr th {\n",
       "        vertical-align: top;\n",
       "    }\n",
       "\n",
       "    .dataframe thead th {\n",
       "        text-align: right;\n",
       "    }\n",
       "</style>\n",
       "<table border=\"1\" class=\"dataframe\">\n",
       "  <thead>\n",
       "    <tr style=\"text-align: right;\">\n",
       "      <th></th>\n",
       "      <th>Diluted EPS</th>\n",
       "      <th>Total Liabilities Net Minority Interest</th>\n",
       "      <th>Common Stock Equity</th>\n",
       "      <th>Total Capitalization</th>\n",
       "      <th>Net Tangible Assets</th>\n",
       "      <th>End Cash Position</th>\n",
       "      <th>Investing Cash Flow</th>\n",
       "      <th>Normalized Income</th>\n",
       "      <th>Tax Effect of Unusual Items</th>\n",
       "      <th>Diluted NI Available to Com Stockholders</th>\n",
       "      <th>Pretax Income</th>\n",
       "      <th>Net Income from Continuing Operation Net Minority Interest</th>\n",
       "    </tr>\n",
       "  </thead>\n",
       "  <tbody>\n",
       "    <tr>\n",
       "      <th>count</th>\n",
       "      <td>1172.000000</td>\n",
       "      <td>1.206000e+03</td>\n",
       "      <td>1.206000e+03</td>\n",
       "      <td>1.201000e+03</td>\n",
       "      <td>1.196000e+03</td>\n",
       "      <td>1.176000e+03</td>\n",
       "      <td>1.170000e+03</td>\n",
       "      <td>1.165000e+03</td>\n",
       "      <td>1.165000e+03</td>\n",
       "      <td>1.165000e+03</td>\n",
       "      <td>1.165000e+03</td>\n",
       "      <td>1.165000e+03</td>\n",
       "    </tr>\n",
       "    <tr>\n",
       "      <th>mean</th>\n",
       "      <td>-0.000854</td>\n",
       "      <td>3.151869e+06</td>\n",
       "      <td>1.627405e+06</td>\n",
       "      <td>2.561275e+06</td>\n",
       "      <td>8.011236e+05</td>\n",
       "      <td>6.325759e+05</td>\n",
       "      <td>-3.077927e+05</td>\n",
       "      <td>2.111805e+05</td>\n",
       "      <td>-3.880908e+03</td>\n",
       "      <td>1.990278e+05</td>\n",
       "      <td>2.580686e+05</td>\n",
       "      <td>2.037251e+05</td>\n",
       "    </tr>\n",
       "    <tr>\n",
       "      <th>std</th>\n",
       "      <td>0.012147</td>\n",
       "      <td>1.956158e+07</td>\n",
       "      <td>1.134168e+07</td>\n",
       "      <td>1.641447e+07</td>\n",
       "      <td>9.118406e+06</td>\n",
       "      <td>3.694850e+06</td>\n",
       "      <td>2.808356e+06</td>\n",
       "      <td>2.482988e+06</td>\n",
       "      <td>1.648968e+05</td>\n",
       "      <td>2.595787e+06</td>\n",
       "      <td>3.160695e+06</td>\n",
       "      <td>2.597557e+06</td>\n",
       "    </tr>\n",
       "    <tr>\n",
       "      <th>min</th>\n",
       "      <td>-0.373500</td>\n",
       "      <td>5.723000e+00</td>\n",
       "      <td>-7.190962e+06</td>\n",
       "      <td>-7.190962e+06</td>\n",
       "      <td>-2.929800e+07</td>\n",
       "      <td>6.000000e-03</td>\n",
       "      <td>-4.913600e+07</td>\n",
       "      <td>-1.009852e+07</td>\n",
       "      <td>-5.471100e+06</td>\n",
       "      <td>-1.874900e+07</td>\n",
       "      <td>-2.714700e+07</td>\n",
       "      <td>-1.922900e+07</td>\n",
       "    </tr>\n",
       "    <tr>\n",
       "      <th>25%</th>\n",
       "      <td>-0.001900</td>\n",
       "      <td>2.237050e+04</td>\n",
       "      <td>2.804250e+04</td>\n",
       "      <td>4.652600e+04</td>\n",
       "      <td>2.655750e+03</td>\n",
       "      <td>1.833225e+04</td>\n",
       "      <td>-1.197980e+05</td>\n",
       "      <td>-4.832900e+04</td>\n",
       "      <td>-5.384800e+01</td>\n",
       "      <td>-5.262500e+04</td>\n",
       "      <td>-5.200000e+04</td>\n",
       "      <td>-5.225000e+04</td>\n",
       "    </tr>\n",
       "    <tr>\n",
       "      <th>50%</th>\n",
       "      <td>0.000000</td>\n",
       "      <td>1.569190e+05</td>\n",
       "      <td>1.526445e+05</td>\n",
       "      <td>2.008330e+05</td>\n",
       "      <td>6.989000e+04</td>\n",
       "      <td>7.060850e+04</td>\n",
       "      <td>-1.509300e+04</td>\n",
       "      <td>-7.358000e+03</td>\n",
       "      <td>0.000000e+00</td>\n",
       "      <td>-9.402000e+03</td>\n",
       "      <td>-8.869000e+03</td>\n",
       "      <td>-8.921000e+03</td>\n",
       "    </tr>\n",
       "    <tr>\n",
       "      <th>75%</th>\n",
       "      <td>0.000000</td>\n",
       "      <td>9.225770e+05</td>\n",
       "      <td>5.040808e+05</td>\n",
       "      <td>7.766560e+05</td>\n",
       "      <td>2.806780e+05</td>\n",
       "      <td>1.978298e+05</td>\n",
       "      <td>-8.446075e+01</td>\n",
       "      <td>2.832100e+04</td>\n",
       "      <td>0.000000e+00</td>\n",
       "      <td>2.687500e+04</td>\n",
       "      <td>3.435100e+04</td>\n",
       "      <td>2.815700e+04</td>\n",
       "    </tr>\n",
       "    <tr>\n",
       "      <th>max</th>\n",
       "      <td>0.049200</td>\n",
       "      <td>4.189890e+08</td>\n",
       "      <td>2.014420e+08</td>\n",
       "      <td>2.948820e+08</td>\n",
       "      <td>1.788390e+08</td>\n",
       "      <td>6.248400e+07</td>\n",
       "      <td>4.589600e+07</td>\n",
       "      <td>5.525600e+07</td>\n",
       "      <td>8.909820e+05</td>\n",
       "      <td>5.525600e+07</td>\n",
       "      <td>6.573700e+07</td>\n",
       "      <td>5.525600e+07</td>\n",
       "    </tr>\n",
       "  </tbody>\n",
       "</table>\n",
       "</div>"
      ],
      "text/plain": [
       "       Diluted EPS  Total Liabilities Net Minority Interest  \\\n",
       "count  1172.000000                             1.206000e+03   \n",
       "mean     -0.000854                             3.151869e+06   \n",
       "std       0.012147                             1.956158e+07   \n",
       "min      -0.373500                             5.723000e+00   \n",
       "25%      -0.001900                             2.237050e+04   \n",
       "50%       0.000000                             1.569190e+05   \n",
       "75%       0.000000                             9.225770e+05   \n",
       "max       0.049200                             4.189890e+08   \n",
       "\n",
       "       Common Stock Equity  Total Capitalization  Net Tangible Assets  \\\n",
       "count         1.206000e+03          1.201000e+03         1.196000e+03   \n",
       "mean          1.627405e+06          2.561275e+06         8.011236e+05   \n",
       "std           1.134168e+07          1.641447e+07         9.118406e+06   \n",
       "min          -7.190962e+06         -7.190962e+06        -2.929800e+07   \n",
       "25%           2.804250e+04          4.652600e+04         2.655750e+03   \n",
       "50%           1.526445e+05          2.008330e+05         6.989000e+04   \n",
       "75%           5.040808e+05          7.766560e+05         2.806780e+05   \n",
       "max           2.014420e+08          2.948820e+08         1.788390e+08   \n",
       "\n",
       "       End Cash Position  Investing Cash Flow  Normalized Income  \\\n",
       "count       1.176000e+03         1.170000e+03       1.165000e+03   \n",
       "mean        6.325759e+05        -3.077927e+05       2.111805e+05   \n",
       "std         3.694850e+06         2.808356e+06       2.482988e+06   \n",
       "min         6.000000e-03        -4.913600e+07      -1.009852e+07   \n",
       "25%         1.833225e+04        -1.197980e+05      -4.832900e+04   \n",
       "50%         7.060850e+04        -1.509300e+04      -7.358000e+03   \n",
       "75%         1.978298e+05        -8.446075e+01       2.832100e+04   \n",
       "max         6.248400e+07         4.589600e+07       5.525600e+07   \n",
       "\n",
       "       Tax Effect of Unusual Items  Diluted NI Available to Com Stockholders  \\\n",
       "count                 1.165000e+03                              1.165000e+03   \n",
       "mean                 -3.880908e+03                              1.990278e+05   \n",
       "std                   1.648968e+05                              2.595787e+06   \n",
       "min                  -5.471100e+06                             -1.874900e+07   \n",
       "25%                  -5.384800e+01                             -5.262500e+04   \n",
       "50%                   0.000000e+00                             -9.402000e+03   \n",
       "75%                   0.000000e+00                              2.687500e+04   \n",
       "max                   8.909820e+05                              5.525600e+07   \n",
       "\n",
       "       Pretax Income  \\\n",
       "count   1.165000e+03   \n",
       "mean    2.580686e+05   \n",
       "std     3.160695e+06   \n",
       "min    -2.714700e+07   \n",
       "25%    -5.200000e+04   \n",
       "50%    -8.869000e+03   \n",
       "75%     3.435100e+04   \n",
       "max     6.573700e+07   \n",
       "\n",
       "       Net Income from Continuing Operation Net Minority Interest  \n",
       "count                                       1.165000e+03           \n",
       "mean                                        2.037251e+05           \n",
       "std                                         2.597557e+06           \n",
       "min                                        -1.922900e+07           \n",
       "25%                                        -5.225000e+04           \n",
       "50%                                        -8.921000e+03           \n",
       "75%                                         2.815700e+04           \n",
       "max                                         5.525600e+07           "
      ]
     },
     "execution_count": 1058,
     "metadata": {},
     "output_type": "execute_result"
    }
   ],
   "source": [
    "df_step.describe()"
   ]
  },
  {
   "cell_type": "code",
   "execution_count": 1086,
   "metadata": {
    "ExecuteTime": {
     "end_time": "2020-10-05T21:53:48.748802Z",
     "start_time": "2020-10-05T21:53:48.180505Z"
    }
   },
   "outputs": [
    {
     "data": {
      "text/plain": [
       "LinearRegression()"
      ]
     },
     "execution_count": 1086,
     "metadata": {},
     "output_type": "execute_result"
    },
    {
     "data": {
      "text/plain": [
       "0.8403641191722657"
      ]
     },
     "execution_count": 1086,
     "metadata": {},
     "output_type": "execute_result"
    }
   ],
   "source": [
    "# Reconstruct the linear regression model from R in Python \n",
    "lr = LinearRegression()\n",
    "\n",
    "X = df_fill.iloc[:, 1:]\n",
    "\n",
    "# Choose the response variable(s)\n",
    "y = df_fill.iloc[:, 0]\n",
    "\n",
    "# Fit the model to the full dataset\n",
    "lr.fit(X, y)\n",
    "\n",
    "# Print out the R^2 for the model against the full dataset\n",
    "lr.score(X,y)"
   ]
  },
  {
   "cell_type": "markdown",
   "metadata": {},
   "source": [
    "# Data Cleaning"
   ]
  },
  {
   "cell_type": "code",
   "execution_count": 1071,
   "metadata": {
    "ExecuteTime": {
     "end_time": "2020-10-05T18:15:18.482052Z",
     "start_time": "2020-10-05T18:15:18.397930Z"
    }
   },
   "outputs": [],
   "source": [
    "from sklearn.model_selection import train_test_split\n",
    "from sklearn.linear_model import LinearRegression\n",
    "import numpy as np\n",
    "import pandas as pd\n",
    "import matplotlib.pyplot as plt\n",
    "import seaborn as sns\n",
    "%config InlineBackend.figure_formats = ['svg']\n",
    "%matplotlib inline\n",
    "\n",
    "sns.set(context='notebook', style='whitegrid', font_scale=1.2)"
   ]
  },
  {
   "cell_type": "code",
   "execution_count": 1137,
   "metadata": {
    "ExecuteTime": {
     "end_time": "2020-10-06T07:07:27.290845Z",
     "start_time": "2020-10-06T07:07:27.209653Z"
    }
   },
   "outputs": [
    {
     "data": {
      "text/plain": [
       "Symbol                                      0\n",
       "Date                                        0\n",
       "Tangible Book Value                         0\n",
       "Total Assets                                0\n",
       "Total Liabilities Net Minority Interest     0\n",
       "Total Equity Gross Minority Interest        0\n",
       "Common Stock Equity                         0\n",
       "Invested Capital                            2\n",
       "End Cash Position                          30\n",
       "Financing Cash Flow                        30\n",
       "Operating Cash Flow                        30\n",
       "Total Revenue                              31\n",
       "Diluted Average Shares                     34\n",
       "Diluted EPS                                34\n",
       "Investing Cash Flow                        36\n",
       "Tax Effect of Unusual Items                41\n",
       "Normalized Income                          41\n",
       "Pretax Income                              41\n",
       "dtype: int64"
      ]
     },
     "execution_count": 1137,
     "metadata": {},
     "output_type": "execute_result"
    }
   ],
   "source": [
    "df_pick_corr.isnull().sum().sort_values() # Check all the null values"
   ]
  },
  {
   "cell_type": "code",
   "execution_count": 1139,
   "metadata": {
    "ExecuteTime": {
     "end_time": "2020-10-06T07:08:51.484827Z",
     "start_time": "2020-10-06T07:08:51.406737Z"
    }
   },
   "outputs": [
    {
     "data": {
      "text/html": [
       "<div>\n",
       "<style scoped>\n",
       "    .dataframe tbody tr th:only-of-type {\n",
       "        vertical-align: middle;\n",
       "    }\n",
       "\n",
       "    .dataframe tbody tr th {\n",
       "        vertical-align: top;\n",
       "    }\n",
       "\n",
       "    .dataframe thead th {\n",
       "        text-align: right;\n",
       "    }\n",
       "</style>\n",
       "<table border=\"1\" class=\"dataframe\">\n",
       "  <thead>\n",
       "    <tr style=\"text-align: right;\">\n",
       "      <th></th>\n",
       "      <th>Symbol</th>\n",
       "      <th>Date</th>\n",
       "      <th>Diluted EPS</th>\n",
       "      <th>Total Assets</th>\n",
       "      <th>Total Liabilities Net Minority Interest</th>\n",
       "      <th>Total Equity Gross Minority Interest</th>\n",
       "      <th>Common Stock Equity</th>\n",
       "      <th>Tangible Book Value</th>\n",
       "      <th>Invested Capital</th>\n",
       "      <th>End Cash Position</th>\n",
       "      <th>Financing Cash Flow</th>\n",
       "      <th>Operating Cash Flow</th>\n",
       "      <th>Total Revenue</th>\n",
       "      <th>Diluted Average Shares</th>\n",
       "      <th>Investing Cash Flow</th>\n",
       "      <th>Normalized Income</th>\n",
       "      <th>Tax Effect of Unusual Items</th>\n",
       "      <th>Pretax Income</th>\n",
       "    </tr>\n",
       "  </thead>\n",
       "  <tbody>\n",
       "    <tr>\n",
       "      <th>1084</th>\n",
       "      <td>PBFS</td>\n",
       "      <td>6/30/2020</td>\n",
       "      <td>0.0017</td>\n",
       "      <td>1526412.0</td>\n",
       "      <td>1302446.0</td>\n",
       "      <td>223966.0</td>\n",
       "      <td>223966.0</td>\n",
       "      <td>214515.0</td>\n",
       "      <td>NaN</td>\n",
       "      <td>156903.0</td>\n",
       "      <td>34243.0</td>\n",
       "      <td>2025.0</td>\n",
       "      <td>64470.0</td>\n",
       "      <td>11170.0</td>\n",
       "      <td>-109474.0</td>\n",
       "      <td>-6490.0</td>\n",
       "      <td>-9.408</td>\n",
       "      <td>-9805.0</td>\n",
       "    </tr>\n",
       "    <tr>\n",
       "      <th>1178</th>\n",
       "      <td>TW</td>\n",
       "      <td>12/31/2019</td>\n",
       "      <td>0.0000</td>\n",
       "      <td>5095334.0</td>\n",
       "      <td>502589.0</td>\n",
       "      <td>4592745.0</td>\n",
       "      <td>3378588.0</td>\n",
       "      <td>-770736.0</td>\n",
       "      <td>NaN</td>\n",
       "      <td>461711.0</td>\n",
       "      <td>-218142.0</td>\n",
       "      <td>311003.0</td>\n",
       "      <td>777939.0</td>\n",
       "      <td>156540.0</td>\n",
       "      <td>-44462.0</td>\n",
       "      <td>126121.0</td>\n",
       "      <td>0.000</td>\n",
       "      <td>225326.0</td>\n",
       "    </tr>\n",
       "  </tbody>\n",
       "</table>\n",
       "</div>"
      ],
      "text/plain": [
       "     Symbol        Date  Diluted EPS  Total Assets  \\\n",
       "1084   PBFS   6/30/2020       0.0017     1526412.0   \n",
       "1178     TW  12/31/2019       0.0000     5095334.0   \n",
       "\n",
       "      Total Liabilities Net Minority Interest  \\\n",
       "1084                                1302446.0   \n",
       "1178                                 502589.0   \n",
       "\n",
       "      Total Equity Gross Minority Interest  Common Stock Equity  \\\n",
       "1084                              223966.0             223966.0   \n",
       "1178                             4592745.0            3378588.0   \n",
       "\n",
       "      Tangible Book Value  Invested Capital  End Cash Position  \\\n",
       "1084             214515.0               NaN           156903.0   \n",
       "1178            -770736.0               NaN           461711.0   \n",
       "\n",
       "      Financing Cash Flow  Operating Cash Flow  Total Revenue  \\\n",
       "1084              34243.0               2025.0        64470.0   \n",
       "1178            -218142.0             311003.0       777939.0   \n",
       "\n",
       "      Diluted Average Shares  Investing Cash Flow  Normalized Income  \\\n",
       "1084                 11170.0            -109474.0            -6490.0   \n",
       "1178                156540.0             -44462.0           126121.0   \n",
       "\n",
       "      Tax Effect of Unusual Items  Pretax Income  \n",
       "1084                       -9.408        -9805.0  \n",
       "1178                        0.000       225326.0  "
      ]
     },
     "execution_count": 1139,
     "metadata": {},
     "output_type": "execute_result"
    }
   ],
   "source": [
    "df_pick_corr[df_pick_corr['Invested Capital'].isna()] # Only 2 missing values"
   ]
  },
  {
   "cell_type": "code",
   "execution_count": 1153,
   "metadata": {
    "ExecuteTime": {
     "end_time": "2020-10-06T07:17:14.628807Z",
     "start_time": "2020-10-06T07:17:14.614681Z"
    }
   },
   "outputs": [],
   "source": [
    "# Drop all the null values from target\n",
    "\n",
    "target_na = df_pick_corr[df_pick_corr['Diluted EPS'].isna()]"
   ]
  },
  {
   "cell_type": "code",
   "execution_count": 1168,
   "metadata": {
    "ExecuteTime": {
     "end_time": "2020-10-06T07:28:09.549143Z",
     "start_time": "2020-10-06T07:28:09.529863Z"
    }
   },
   "outputs": [
    {
     "data": {
      "text/plain": [
       "Int64Index([ 181,  505,  533,  539,  790,  852,  854,  861,  873,  874,  875,\n",
       "             886,  891,  897,  898,  907,  918,  921,  935,  951,  954,  962,\n",
       "             970,  973, 1055, 1104, 1120, 1132, 1147, 1148, 1151, 1152, 1165,\n",
       "            1166],\n",
       "           dtype='int64')"
      ]
     },
     "execution_count": 1168,
     "metadata": {},
     "output_type": "execute_result"
    }
   ],
   "source": [
    "target_na.index"
   ]
  },
  {
   "cell_type": "code",
   "execution_count": 1171,
   "metadata": {
    "ExecuteTime": {
     "end_time": "2020-10-06T07:30:16.944472Z",
     "start_time": "2020-10-06T07:30:16.920504Z"
    }
   },
   "outputs": [],
   "source": [
    "df_target=df_pick_corr.drop(list(target_na.index))"
   ]
  },
  {
   "cell_type": "code",
   "execution_count": 1173,
   "metadata": {
    "ExecuteTime": {
     "end_time": "2020-10-06T07:30:53.365031Z",
     "start_time": "2020-10-06T07:30:53.296782Z"
    }
   },
   "outputs": [
    {
     "data": {
      "text/plain": [
       "Symbol                                      0\n",
       "Date                                        0\n",
       "Diluted EPS                                 0\n",
       "Total Assets                                0\n",
       "Total Liabilities Net Minority Interest     0\n",
       "Total Equity Gross Minority Interest        0\n",
       "Common Stock Equity                         0\n",
       "Tangible Book Value                         0\n",
       "Diluted Average Shares                      0\n",
       "End Cash Position                           0\n",
       "Financing Cash Flow                         0\n",
       "Operating Cash Flow                         0\n",
       "Total Revenue                               0\n",
       "Invested Capital                            2\n",
       "Investing Cash Flow                         5\n",
       "Normalized Income                          10\n",
       "Tax Effect of Unusual Items                10\n",
       "Pretax Income                              10\n",
       "dtype: int64"
      ]
     },
     "execution_count": 1173,
     "metadata": {},
     "output_type": "execute_result"
    }
   ],
   "source": [
    "df_target.isnull().sum().sort_values()"
   ]
  },
  {
   "cell_type": "code",
   "execution_count": 1178,
   "metadata": {
    "ExecuteTime": {
     "end_time": "2020-10-06T07:33:50.670127Z",
     "start_time": "2020-10-06T07:33:50.647559Z"
    }
   },
   "outputs": [
    {
     "data": {
      "text/plain": [
       "['ACIA', 'ACMR', 'ADBE', 'AGMH', 'AIRG', 'API', 'JOBS', 'KERN', 'TWOU', 'VNET']"
      ]
     },
     "execution_count": 1178,
     "metadata": {},
     "output_type": "execute_result"
    }
   ],
   "source": [
    "# The 10 companies missing 'Investing Cash Flow', 'Normalized Income', 'Tax Effect of Unusual Items' are\n",
    "# the same: 'ACIA', 'ACMR', 'ADBE', 'AGMH', 'AIRG', 'API', 'JOBS', 'KERN', 'TWOU', 'VNET'. Drop rows.\n",
    "\n",
    "list(df_target[df_target['Tax Effect of Unusual Items'].isna()][\"Symbol\"])\n",
    "list(df_target[df_target['Normalized Income'].isna()][\"Symbol\"])\n",
    "list(df_target[df_target['Pretax Income'].isna()][\"Symbol\"])"
   ]
  },
  {
   "cell_type": "code",
   "execution_count": 1183,
   "metadata": {
    "ExecuteTime": {
     "end_time": "2020-10-06T07:40:41.591541Z",
     "start_time": "2020-10-06T07:40:41.573823Z"
    }
   },
   "outputs": [
    {
     "data": {
      "text/plain": [
       "Int64Index([0, 1, 2, 3, 4, 5, 6, 7, 8, 9], dtype='int64')"
      ]
     },
     "execution_count": 1183,
     "metadata": {},
     "output_type": "execute_result"
    }
   ],
   "source": [
    "df_target[df_target['Tax Effect of Unusual Items'].isna()].index"
   ]
  },
  {
   "cell_type": "code",
   "execution_count": 1185,
   "metadata": {
    "ExecuteTime": {
     "end_time": "2020-10-06T07:44:52.617513Z",
     "start_time": "2020-10-06T07:44:52.593243Z"
    }
   },
   "outputs": [],
   "source": [
    "df_clean = df_target.drop(df_target[df_target['Tax Effect of Unusual Items'].isna()].index)"
   ]
  },
  {
   "cell_type": "code",
   "execution_count": 1188,
   "metadata": {
    "ExecuteTime": {
     "end_time": "2020-10-06T07:47:12.071450Z",
     "start_time": "2020-10-06T07:47:12.046252Z"
    }
   },
   "outputs": [
    {
     "data": {
      "text/plain": [
       "(1162, 18)"
      ]
     },
     "execution_count": 1188,
     "metadata": {},
     "output_type": "execute_result"
    }
   ],
   "source": [
    "df_clean.shape"
   ]
  },
  {
   "cell_type": "code",
   "execution_count": 1189,
   "metadata": {
    "ExecuteTime": {
     "end_time": "2020-10-06T07:48:11.595615Z",
     "start_time": "2020-10-06T07:48:11.567792Z"
    }
   },
   "outputs": [
    {
     "data": {
      "text/plain": [
       "Symbol                                     0\n",
       "Normalized Income                          0\n",
       "Diluted Average Shares                     0\n",
       "Total Revenue                              0\n",
       "Operating Cash Flow                        0\n",
       "Financing Cash Flow                        0\n",
       "End Cash Position                          0\n",
       "Tax Effect of Unusual Items                0\n",
       "Pretax Income                              0\n",
       "Common Stock Equity                        0\n",
       "Total Equity Gross Minority Interest       0\n",
       "Total Liabilities Net Minority Interest    0\n",
       "Total Assets                               0\n",
       "Diluted EPS                                0\n",
       "Date                                       0\n",
       "Tangible Book Value                        0\n",
       "Invested Capital                           2\n",
       "Investing Cash Flow                        5\n",
       "dtype: int64"
      ]
     },
     "execution_count": 1189,
     "metadata": {},
     "output_type": "execute_result"
    }
   ],
   "source": [
    "df_clean.isnull().sum().sort_values()"
   ]
  },
  {
   "cell_type": "code",
   "execution_count": 1187,
   "metadata": {
    "ExecuteTime": {
     "end_time": "2020-10-06T07:45:36.587093Z",
     "start_time": "2020-10-06T07:45:36.571186Z"
    }
   },
   "outputs": [
    {
     "data": {
      "text/plain": [
       "['ADTX', 'CMPI', 'EVOK', 'GLSI', 'MNPR']"
      ]
     },
     "execution_count": 1187,
     "metadata": {},
     "output_type": "execute_result"
    }
   ],
   "source": [
    "list(df_target[df_target['Investing Cash Flow'].isna()][\"Symbol\"])"
   ]
  },
  {
   "cell_type": "code",
   "execution_count": 1190,
   "metadata": {
    "ExecuteTime": {
     "end_time": "2020-10-06T07:55:40.441959Z",
     "start_time": "2020-10-06T07:55:40.333362Z"
    }
   },
   "outputs": [],
   "source": [
    "df_final=df_clean.fillna(0) # Fill 0 in the Missing values left"
   ]
  },
  {
   "cell_type": "code",
   "execution_count": 1191,
   "metadata": {
    "ExecuteTime": {
     "end_time": "2020-10-06T07:56:06.143896Z",
     "start_time": "2020-10-06T07:56:06.112035Z"
    }
   },
   "outputs": [
    {
     "data": {
      "text/plain": [
       "Symbol                                     0\n",
       "Normalized Income                          0\n",
       "Investing Cash Flow                        0\n",
       "Diluted Average Shares                     0\n",
       "Total Revenue                              0\n",
       "Operating Cash Flow                        0\n",
       "Financing Cash Flow                        0\n",
       "End Cash Position                          0\n",
       "Invested Capital                           0\n",
       "Tangible Book Value                        0\n",
       "Common Stock Equity                        0\n",
       "Total Equity Gross Minority Interest       0\n",
       "Total Liabilities Net Minority Interest    0\n",
       "Total Assets                               0\n",
       "Diluted EPS                                0\n",
       "Date                                       0\n",
       "Tax Effect of Unusual Items                0\n",
       "Pretax Income                              0\n",
       "dtype: int64"
      ]
     },
     "execution_count": 1191,
     "metadata": {},
     "output_type": "execute_result"
    }
   ],
   "source": [
    "df_final.isnull().sum().sort_values()"
   ]
  },
  {
   "cell_type": "code",
   "execution_count": 1197,
   "metadata": {
    "ExecuteTime": {
     "end_time": "2020-10-06T08:03:19.513331Z",
     "start_time": "2020-10-06T08:03:19.473695Z"
    }
   },
   "outputs": [
    {
     "data": {
      "text/plain": [
       "(1162, 18)"
      ]
     },
     "execution_count": 1197,
     "metadata": {},
     "output_type": "execute_result"
    }
   ],
   "source": [
    "df_final.shape"
   ]
  },
  {
   "cell_type": "code",
   "execution_count": 1193,
   "metadata": {
    "ExecuteTime": {
     "end_time": "2020-10-06T07:57:21.681091Z",
     "start_time": "2020-10-06T07:57:21.552680Z"
    }
   },
   "outputs": [],
   "source": [
    "df_final.to_csv(\"data/df_final.csv\") # Train data without nulls and removed high colinearity."
   ]
  },
  {
   "cell_type": "markdown",
   "metadata": {},
   "source": [
    "# Base Line Modeling"
   ]
  },
  {
   "cell_type": "code",
   "execution_count": 37,
   "metadata": {},
   "outputs": [],
   "source": [
    "df_final = pd.read_csv(\"df_final.csv\")"
   ]
  },
  {
   "cell_type": "code",
   "execution_count": 38,
   "metadata": {},
   "outputs": [
    {
     "data": {
      "text/plain": [
       "Index(['Unnamed: 0', 'Symbol', 'Date', 'Diluted EPS', 'Total Assets',\n",
       "       'Total Liabilities Net Minority Interest',\n",
       "       'Total Equity Gross Minority Interest', 'Common Stock Equity',\n",
       "       'Tangible Book Value', 'Invested Capital', 'End Cash Position',\n",
       "       'Financing Cash Flow', 'Operating Cash Flow', 'Total Revenue',\n",
       "       'Diluted Average Shares', 'Investing Cash Flow', 'Normalized Income',\n",
       "       'Tax Effect of Unusual Items', 'Pretax Income'],\n",
       "      dtype='object')"
      ]
     },
     "execution_count": 38,
     "metadata": {},
     "output_type": "execute_result"
    }
   ],
   "source": [
    "df_final.columns"
   ]
  },
  {
   "cell_type": "code",
   "execution_count": 1338,
   "metadata": {
    "ExecuteTime": {
     "end_time": "2020-10-07T17:28:13.974744Z",
     "start_time": "2020-10-07T17:28:13.948184Z"
    }
   },
   "outputs": [
    {
     "data": {
      "text/plain": [
       "LinearRegression()"
      ]
     },
     "execution_count": 1338,
     "metadata": {},
     "output_type": "execute_result"
    },
    {
     "data": {
      "text/plain": [
       "0.7778631304560575"
      ]
     },
     "execution_count": 1338,
     "metadata": {},
     "output_type": "execute_result"
    }
   ],
   "source": [
    "# Explore the most coorelated feature\n",
    "lr = LinearRegression()\n",
    "\n",
    "# Choose the most correlated feature to the target\n",
    "X = df_final[\"Tax Effect of Unusual Items\"].values.reshape(-1, 1)\n",
    "\n",
    "# Choose the response variable\n",
    "y = df_final[\"Diluted EPS\"]\n",
    "\n",
    "# Fit the model \n",
    "lr.fit(X, y)\n",
    "lr.score(X,y)"
   ]
  },
  {
   "cell_type": "code",
   "execution_count": 39,
   "metadata": {
    "ExecuteTime": {
     "end_time": "2020-10-07T18:49:59.125441Z",
     "start_time": "2020-10-07T18:49:59.085559Z"
    }
   },
   "outputs": [
    {
     "data": {
      "text/plain": [
       "0.8418727966438659"
      ]
     },
     "execution_count": 39,
     "metadata": {},
     "output_type": "execute_result"
    }
   ],
   "source": [
    "# Setting up the Base line\n",
    "\n",
    "lr = LinearRegression()\n",
    "\n",
    "# Choose the predictor variables, here all but the first which is the response variable\n",
    "# This model is analogous to the Y ~ X1 + X2 + X3 + X4 + X5 + X6 model\n",
    "X = df_final.iloc[:, 4:]\n",
    "\n",
    "# Choose the response variable(s)\n",
    "y = df_final.iloc[:, 3]\n",
    "\n",
    "# Fit the model to the full dataset\n",
    "lr.fit(X, y)\n",
    "\n",
    "# Print out the R^2 for the model against the full dataset\n",
    "lr.score(X,y)"
   ]
  },
  {
   "cell_type": "code",
   "execution_count": 40,
   "metadata": {
    "ExecuteTime": {
     "end_time": "2020-10-07T18:50:05.272454Z",
     "start_time": "2020-10-07T18:50:05.254835Z"
    }
   },
   "outputs": [],
   "source": [
    "# Split the data to Train, Validation and Test set\n",
    "X_train_val, X_test, y_train_val, y_test = train_test_split(X, y, test_size=0.2,random_state=42)\n",
    "X_train, X_val, y_train, y_val = train_test_split(X_train_val, y_train_val, test_size=.25, random_state=43)"
   ]
  },
  {
   "cell_type": "code",
   "execution_count": 1239,
   "metadata": {
    "ExecuteTime": {
     "end_time": "2020-10-06T21:54:19.798963Z",
     "start_time": "2020-10-06T21:54:19.754393Z"
    }
   },
   "outputs": [
    {
     "data": {
      "text/plain": [
       "(233, 15)"
      ]
     },
     "execution_count": 1239,
     "metadata": {},
     "output_type": "execute_result"
    }
   ],
   "source": [
    "X_val.shape"
   ]
  },
  {
   "cell_type": "code",
   "execution_count": 41,
   "metadata": {
    "ExecuteTime": {
     "end_time": "2020-10-06T21:15:13.511656Z",
     "start_time": "2020-10-06T21:15:12.034837Z"
    }
   },
   "outputs": [
    {
     "data": {
      "text/plain": [
       "Index(['Total Assets', 'Total Liabilities Net Minority Interest',\n",
       "       'Total Equity Gross Minority Interest', 'Common Stock Equity',\n",
       "       'Tangible Book Value', 'Invested Capital', 'End Cash Position',\n",
       "       'Financing Cash Flow', 'Operating Cash Flow', 'Total Revenue',\n",
       "       'Diluted Average Shares', 'Investing Cash Flow', 'Normalized Income',\n",
       "       'Tax Effect of Unusual Items', 'Pretax Income'],\n",
       "      dtype='object')"
      ]
     },
     "execution_count": 41,
     "metadata": {},
     "output_type": "execute_result"
    }
   ],
   "source": [
    "X_val.columns"
   ]
  },
  {
   "cell_type": "markdown",
   "metadata": {},
   "source": [
    "## Comparing Train and Test Data"
   ]
  },
  {
   "cell_type": "code",
   "execution_count": 1341,
   "metadata": {
    "ExecuteTime": {
     "end_time": "2020-10-07T17:28:24.029650Z",
     "start_time": "2020-10-07T17:28:24.024226Z"
    }
   },
   "outputs": [],
   "source": [
    "# Compare Train set and Validation set\n",
    "\n",
    "def split_val(X,y):    \n",
    "    m = LinearRegression()\n",
    "    m.fit(X_train,y_train)\n",
    "    return(m.score(X_train,y_train), m.score(X_val,y_val))"
   ]
  },
  {
   "cell_type": "code",
   "execution_count": 1424,
   "metadata": {
    "ExecuteTime": {
     "end_time": "2020-10-07T18:50:15.436892Z",
     "start_time": "2020-10-07T18:50:15.406036Z"
    }
   },
   "outputs": [
    {
     "data": {
      "text/plain": [
       "(0.9124103070573576, -8.388525247027138)"
      ]
     },
     "execution_count": 1424,
     "metadata": {},
     "output_type": "execute_result"
    }
   ],
   "source": [
    "split_val(X,y) # Train > Validation on R Square - Overfitting"
   ]
  },
  {
   "cell_type": "markdown",
   "metadata": {},
   "source": [
    "## Lasso Regression Model"
   ]
  },
  {
   "cell_type": "code",
   "execution_count": 1213,
   "metadata": {
    "ExecuteTime": {
     "end_time": "2020-10-06T08:20:53.594140Z",
     "start_time": "2020-10-06T08:20:52.580136Z"
    }
   },
   "outputs": [],
   "source": [
    "import pandas as pd\n",
    "import numpy as np\n",
    "from sklearn.model_selection import train_test_split\n",
    "from sklearn.linear_model import LinearRegression, Lasso, LassoCV, Ridge, RidgeCV\n",
    "from sklearn.metrics import r2_score\n",
    "\n",
    "import matplotlib.pyplot as plt\n",
    "import seaborn as sns\n",
    "%matplotlib inline\n",
    "\n",
    "sns.set(context='notebook', style='whitegrid', font_scale=1.2)"
   ]
  },
  {
   "cell_type": "code",
   "execution_count": 42,
   "metadata": {
    "ExecuteTime": {
     "end_time": "2020-10-06T22:39:53.083480Z",
     "start_time": "2020-10-06T22:39:52.781580Z"
    }
   },
   "outputs": [],
   "source": [
    "from sklearn.pipeline import Pipeline\n",
    "from sklearn.preprocessing import StandardScaler"
   ]
  },
  {
   "cell_type": "code",
   "execution_count": 1425,
   "metadata": {
    "ExecuteTime": {
     "end_time": "2020-10-07T18:50:22.720540Z",
     "start_time": "2020-10-07T18:50:22.703518Z"
    }
   },
   "outputs": [
    {
     "data": {
      "text/plain": [
       "StandardScaler()"
      ]
     },
     "execution_count": 1425,
     "metadata": {},
     "output_type": "execute_result"
    }
   ],
   "source": [
    "## This step fits the Standard Scaler to the training data\n",
    "## Essentially it finds the mean and standard deviation of each variable in the training set\n",
    "\n",
    "std = StandardScaler()\n",
    "std.fit(X_train.values)"
   ]
  },
  {
   "cell_type": "code",
   "execution_count": 1426,
   "metadata": {
    "ExecuteTime": {
     "end_time": "2020-10-07T18:50:25.091862Z",
     "start_time": "2020-10-07T18:50:25.083270Z"
    }
   },
   "outputs": [],
   "source": [
    "X_tr = std.transform(X_train.values)\n",
    "X_te = std.transform(X_val.values)"
   ]
  },
  {
   "cell_type": "code",
   "execution_count": 1253,
   "metadata": {
    "ExecuteTime": {
     "end_time": "2020-10-06T22:42:49.188629Z",
     "start_time": "2020-10-06T22:42:49.160719Z"
    }
   },
   "outputs": [
    {
     "data": {
      "text/plain": [
       "(pandas.core.frame.DataFrame, numpy.ndarray)"
      ]
     },
     "execution_count": 1253,
     "metadata": {},
     "output_type": "execute_result"
    }
   ],
   "source": [
    "type(X_train), type(X_tr) "
   ]
  },
  {
   "cell_type": "code",
   "execution_count": 1427,
   "metadata": {
    "ExecuteTime": {
     "end_time": "2020-10-07T18:50:46.182828Z",
     "start_time": "2020-10-07T18:50:45.866836Z"
    }
   },
   "outputs": [
    {
     "data": {
      "text/plain": [
       "LassoCV(alphas=array([1.00000000e-02, 1.04737090e-02, 1.09698580e-02, 1.14895100e-02,\n",
       "       1.20337784e-02, 1.26038293e-02, 1.32008840e-02, 1.38262217e-02,\n",
       "       1.44811823e-02, 1.51671689e-02, 1.58856513e-02, 1.66381689e-02,\n",
       "       1.74263339e-02, 1.82518349e-02, 1.91164408e-02, 2.00220037e-02,\n",
       "       2.09704640e-02, 2.19638537e-02, 2.30043012e-02, 2.40940356e-02,\n",
       "       2.52353917e-02, 2.64308149e-0...\n",
       "       3.44896226e+01, 3.61234270e+01, 3.78346262e+01, 3.96268864e+01,\n",
       "       4.15040476e+01, 4.34701316e+01, 4.55293507e+01, 4.76861170e+01,\n",
       "       4.99450512e+01, 5.23109931e+01, 5.47890118e+01, 5.73844165e+01,\n",
       "       6.01027678e+01, 6.29498899e+01, 6.59318827e+01, 6.90551352e+01,\n",
       "       7.23263390e+01, 7.57525026e+01, 7.93409667e+01, 8.30994195e+01,\n",
       "       8.70359136e+01, 9.11588830e+01, 9.54771611e+01, 1.00000000e+02]),\n",
       "        cv=5)"
      ]
     },
     "execution_count": 1427,
     "metadata": {},
     "output_type": "execute_result"
    }
   ],
   "source": [
    "alphavec = 10**np.linspace(-2,2,200) # Use LassoCV to find a suggested alpha\n",
    "\n",
    "lasso_model_0 = LassoCV(alphas = alphavec, cv=5)\n",
    "lasso_model_0.fit(X_tr, y_train)"
   ]
  },
  {
   "cell_type": "code",
   "execution_count": 1428,
   "metadata": {
    "ExecuteTime": {
     "end_time": "2020-10-07T18:50:49.072197Z",
     "start_time": "2020-10-07T18:50:49.059778Z"
    }
   },
   "outputs": [
    {
     "data": {
      "text/plain": [
       "0.011489510001873092"
      ]
     },
     "execution_count": 1428,
     "metadata": {},
     "output_type": "execute_result"
    }
   ],
   "source": [
    "lasso_model_0.alpha_"
   ]
  },
  {
   "cell_type": "code",
   "execution_count": 1347,
   "metadata": {
    "ExecuteTime": {
     "end_time": "2020-10-07T17:28:57.213073Z",
     "start_time": "2020-10-07T17:28:57.203456Z"
    }
   },
   "outputs": [
    {
     "data": {
      "text/plain": [
       "[('Total Assets', -0.0),\n",
       " ('Total Liabilities Net Minority Interest', -0.0),\n",
       " ('Total Equity Gross Minority Interest', -0.0),\n",
       " ('Common Stock Equity', -0.0),\n",
       " ('Tangible Book Value', 0.0),\n",
       " ('Invested Capital', -0.0),\n",
       " ('End Cash Position', -0.0),\n",
       " ('Financing Cash Flow', 0.0),\n",
       " ('Operating Cash Flow', -0.0),\n",
       " ('Total Revenue', -0.0),\n",
       " ('Diluted Average Shares', 0.0),\n",
       " ('Investing Cash Flow', -0.0),\n",
       " ('Normalized Income', 0.0),\n",
       " ('Tax Effect of Unusual Items', 0.0025206850987072576),\n",
       " ('Pretax Income', 0.0),\n",
       " ('ROA', 0.0),\n",
       " ('Diluted Equity', 0.0)]"
      ]
     },
     "execution_count": 1347,
     "metadata": {},
     "output_type": "execute_result"
    }
   ],
   "source": [
    "list(zip(X_train.columns, lasso_model.coef_))"
   ]
  },
  {
   "cell_type": "code",
   "execution_count": 1429,
   "metadata": {
    "ExecuteTime": {
     "end_time": "2020-10-07T18:51:05.325517Z",
     "start_time": "2020-10-07T18:51:05.315337Z"
    }
   },
   "outputs": [
    {
     "data": {
      "text/plain": [
       "(0.2819776495278088, -0.05233696592416437)"
      ]
     },
     "execution_count": 1429,
     "metadata": {},
     "output_type": "execute_result"
    }
   ],
   "source": [
    "(lasso_model_0.score(X_tr,y_train),lasso_model_0.score(X_te,y_val)) # Horrible results"
   ]
  },
  {
   "cell_type": "markdown",
   "metadata": {},
   "source": [
    "# Feature Engineering"
   ]
  },
  {
   "cell_type": "markdown",
   "metadata": {},
   "source": [
    "Use domain knowledge to combine some features and re-frame the target variable."
   ]
  },
  {
   "cell_type": "code",
   "execution_count": 59,
   "metadata": {
    "ExecuteTime": {
     "end_time": "2020-10-07T07:46:49.815265Z",
     "start_time": "2020-10-07T07:46:49.745972Z"
    }
   },
   "outputs": [],
   "source": [
    "df_final[\"ROA\"] = df_final[\"Normalized Income\"] / df_final[\"Total Assets\"]"
   ]
  },
  {
   "cell_type": "code",
   "execution_count": 60,
   "metadata": {
    "ExecuteTime": {
     "end_time": "2020-10-07T07:48:45.978212Z",
     "start_time": "2020-10-07T07:48:45.950074Z"
    }
   },
   "outputs": [],
   "source": [
    "df_final[\"Diluted Equity\"] = df_final[\"Diluted EPS\"] * df_final[\"Diluted Average Shares\"]"
   ]
  },
  {
   "cell_type": "code",
   "execution_count": 61,
   "metadata": {
    "ExecuteTime": {
     "end_time": "2020-10-07T07:53:47.865849Z",
     "start_time": "2020-10-07T07:53:47.860046Z"
    }
   },
   "outputs": [],
   "source": [
    "columns_adjust = [\"Diluted Equity\", \"ROA\", 'Total Liabilities Net Minority Interest',\n",
    "       'Total Equity Gross Minority Interest', 'Common Stock Equity',\n",
    "       'Tangible Book Value', 'Invested Capital', 'End Cash Position',\n",
    "       'Financing Cash Flow', 'Operating Cash Flow', 'Total Revenue',\n",
    "       'Investing Cash Flow', 'Tax Effect of Unusual Items', 'Pretax Income']\n"
   ]
  },
  {
   "cell_type": "code",
   "execution_count": 62,
   "metadata": {
    "ExecuteTime": {
     "end_time": "2020-10-07T07:54:34.951671Z",
     "start_time": "2020-10-07T07:54:34.895835Z"
    }
   },
   "outputs": [],
   "source": [
    "df_adjust = df_final[columns_adjust]"
   ]
  },
  {
   "cell_type": "code",
   "execution_count": 63,
   "metadata": {
    "ExecuteTime": {
     "end_time": "2020-10-07T07:54:46.031292Z",
     "start_time": "2020-10-07T07:54:46.024829Z"
    }
   },
   "outputs": [
    {
     "data": {
      "text/plain": [
       "(1162, 14)"
      ]
     },
     "execution_count": 63,
     "metadata": {},
     "output_type": "execute_result"
    }
   ],
   "source": [
    "df_adjust.shape"
   ]
  },
  {
   "cell_type": "code",
   "execution_count": 64,
   "metadata": {
    "ExecuteTime": {
     "end_time": "2020-10-07T07:55:36.612994Z",
     "start_time": "2020-10-07T07:55:36.591048Z"
    }
   },
   "outputs": [
    {
     "data": {
      "text/html": [
       "<div>\n",
       "<style scoped>\n",
       "    .dataframe tbody tr th:only-of-type {\n",
       "        vertical-align: middle;\n",
       "    }\n",
       "\n",
       "    .dataframe tbody tr th {\n",
       "        vertical-align: top;\n",
       "    }\n",
       "\n",
       "    .dataframe thead th {\n",
       "        text-align: right;\n",
       "    }\n",
       "</style>\n",
       "<table border=\"1\" class=\"dataframe\">\n",
       "  <thead>\n",
       "    <tr style=\"text-align: right;\">\n",
       "      <th></th>\n",
       "      <th>Diluted Equity</th>\n",
       "      <th>ROA</th>\n",
       "      <th>Total Liabilities Net Minority Interest</th>\n",
       "      <th>Total Equity Gross Minority Interest</th>\n",
       "      <th>Common Stock Equity</th>\n",
       "      <th>Tangible Book Value</th>\n",
       "      <th>Invested Capital</th>\n",
       "      <th>End Cash Position</th>\n",
       "      <th>Financing Cash Flow</th>\n",
       "      <th>Operating Cash Flow</th>\n",
       "      <th>Total Revenue</th>\n",
       "      <th>Investing Cash Flow</th>\n",
       "      <th>Tax Effect of Unusual Items</th>\n",
       "      <th>Pretax Income</th>\n",
       "    </tr>\n",
       "  </thead>\n",
       "  <tbody>\n",
       "    <tr>\n",
       "      <th>0</th>\n",
       "      <td>-65.9406</td>\n",
       "      <td>-0.141496</td>\n",
       "      <td>193031.0</td>\n",
       "      <td>273794.0</td>\n",
       "      <td>273794.0</td>\n",
       "      <td>264115.0</td>\n",
       "      <td>407068.0</td>\n",
       "      <td>67028.0</td>\n",
       "      <td>42596.0</td>\n",
       "      <td>-1754.0</td>\n",
       "      <td>190872.0</td>\n",
       "      <td>-32116.0</td>\n",
       "      <td>1.995</td>\n",
       "      <td>-51387.0</td>\n",
       "    </tr>\n",
       "    <tr>\n",
       "      <th>1</th>\n",
       "      <td>55786.9560</td>\n",
       "      <td>0.163230</td>\n",
       "      <td>248028000.0</td>\n",
       "      <td>90488000.0</td>\n",
       "      <td>90488000.0</td>\n",
       "      <td>90488000.0</td>\n",
       "      <td>198535000.0</td>\n",
       "      <td>50224000.0</td>\n",
       "      <td>-90976000.0</td>\n",
       "      <td>69391000.0</td>\n",
       "      <td>260174000.0</td>\n",
       "      <td>45896000.0</td>\n",
       "      <td>0.000</td>\n",
       "      <td>65737000.0</td>\n",
       "    </tr>\n",
       "    <tr>\n",
       "      <th>2</th>\n",
       "      <td>0.0000</td>\n",
       "      <td>-0.039048</td>\n",
       "      <td>83318.0</td>\n",
       "      <td>131851.0</td>\n",
       "      <td>131851.0</td>\n",
       "      <td>96814.0</td>\n",
       "      <td>131851.0</td>\n",
       "      <td>16930.0</td>\n",
       "      <td>993.0</td>\n",
       "      <td>16092.0</td>\n",
       "      <td>110100.0</td>\n",
       "      <td>-16491.0</td>\n",
       "      <td>-76.820</td>\n",
       "      <td>-7018.0</td>\n",
       "    </tr>\n",
       "    <tr>\n",
       "      <th>3</th>\n",
       "      <td>0.0000</td>\n",
       "      <td>0.014186</td>\n",
       "      <td>45289.0</td>\n",
       "      <td>71375.0</td>\n",
       "      <td>71375.0</td>\n",
       "      <td>33958.0</td>\n",
       "      <td>90798.0</td>\n",
       "      <td>4249.0</td>\n",
       "      <td>-3742.0</td>\n",
       "      <td>3224.0</td>\n",
       "      <td>133446.0</td>\n",
       "      <td>-2906.0</td>\n",
       "      <td>38.610</td>\n",
       "      <td>1370.0</td>\n",
       "    </tr>\n",
       "    <tr>\n",
       "      <th>4</th>\n",
       "      <td>55.3014</td>\n",
       "      <td>0.095968</td>\n",
       "      <td>202148.0</td>\n",
       "      <td>355651.0</td>\n",
       "      <td>355651.0</td>\n",
       "      <td>147250.0</td>\n",
       "      <td>418651.0</td>\n",
       "      <td>119629.0</td>\n",
       "      <td>-130.0</td>\n",
       "      <td>47112.0</td>\n",
       "      <td>502363.0</td>\n",
       "      <td>-73414.0</td>\n",
       "      <td>0.000</td>\n",
       "      <td>58896.0</td>\n",
       "    </tr>\n",
       "  </tbody>\n",
       "</table>\n",
       "</div>"
      ],
      "text/plain": [
       "   Diluted Equity       ROA  Total Liabilities Net Minority Interest  \\\n",
       "0        -65.9406 -0.141496                                 193031.0   \n",
       "1      55786.9560  0.163230                              248028000.0   \n",
       "2          0.0000 -0.039048                                  83318.0   \n",
       "3          0.0000  0.014186                                  45289.0   \n",
       "4         55.3014  0.095968                                 202148.0   \n",
       "\n",
       "   Total Equity Gross Minority Interest  Common Stock Equity  \\\n",
       "0                              273794.0             273794.0   \n",
       "1                            90488000.0           90488000.0   \n",
       "2                              131851.0             131851.0   \n",
       "3                               71375.0              71375.0   \n",
       "4                              355651.0             355651.0   \n",
       "\n",
       "   Tangible Book Value  Invested Capital  End Cash Position  \\\n",
       "0             264115.0          407068.0            67028.0   \n",
       "1           90488000.0       198535000.0         50224000.0   \n",
       "2              96814.0          131851.0            16930.0   \n",
       "3              33958.0           90798.0             4249.0   \n",
       "4             147250.0          418651.0           119629.0   \n",
       "\n",
       "   Financing Cash Flow  Operating Cash Flow  Total Revenue  \\\n",
       "0              42596.0              -1754.0       190872.0   \n",
       "1          -90976000.0           69391000.0    260174000.0   \n",
       "2                993.0              16092.0       110100.0   \n",
       "3              -3742.0               3224.0       133446.0   \n",
       "4               -130.0              47112.0       502363.0   \n",
       "\n",
       "   Investing Cash Flow  Tax Effect of Unusual Items  Pretax Income  \n",
       "0             -32116.0                        1.995       -51387.0  \n",
       "1           45896000.0                        0.000     65737000.0  \n",
       "2             -16491.0                      -76.820        -7018.0  \n",
       "3              -2906.0                       38.610         1370.0  \n",
       "4             -73414.0                        0.000        58896.0  "
      ]
     },
     "execution_count": 64,
     "metadata": {},
     "output_type": "execute_result"
    }
   ],
   "source": [
    "df_adjust.head()"
   ]
  },
  {
   "cell_type": "code",
   "execution_count": 1324,
   "metadata": {
    "ExecuteTime": {
     "end_time": "2020-10-07T08:38:52.227561Z",
     "start_time": "2020-10-07T08:38:52.141306Z"
    }
   },
   "outputs": [],
   "source": [
    "df_adjust.to_csv(\"data/df_adjust.csv\")"
   ]
  },
  {
   "cell_type": "markdown",
   "metadata": {},
   "source": [
    "## Simple Linear Regression"
   ]
  },
  {
   "cell_type": "code",
   "execution_count": 65,
   "metadata": {
    "ExecuteTime": {
     "end_time": "2020-10-07T22:00:10.158069Z",
     "start_time": "2020-10-07T22:00:10.112031Z"
    }
   },
   "outputs": [
    {
     "data": {
      "text/plain": [
       "0.9923635479894056"
      ]
     },
     "execution_count": 65,
     "metadata": {},
     "output_type": "execute_result"
    }
   ],
   "source": [
    "# Setting up the Base line\n",
    "\n",
    "lr = LinearRegression()\n",
    "\n",
    "# Choose the predictor variables, here all but the first which is the response variable\n",
    "X = df_adjust.iloc[:, 1:]\n",
    "\n",
    "# Choose the response variable(s)\n",
    "y = df_adjust.iloc[:, 0]\n",
    "\n",
    "# Fit the model to the full dataset\n",
    "lr.fit(X, y)\n",
    "\n",
    "# Print out the R^2 for the model against the full dataset\n",
    "lr.score(X,y)"
   ]
  },
  {
   "cell_type": "code",
   "execution_count": 1510,
   "metadata": {
    "ExecuteTime": {
     "end_time": "2020-10-07T22:01:06.051909Z",
     "start_time": "2020-10-07T22:01:06.039126Z"
    }
   },
   "outputs": [],
   "source": [
    "feature_col = list(list(df_adjust.columns)[1:])"
   ]
  },
  {
   "cell_type": "code",
   "execution_count": 1512,
   "metadata": {
    "ExecuteTime": {
     "end_time": "2020-10-07T22:01:34.810998Z",
     "start_time": "2020-10-07T22:01:34.721537Z"
    }
   },
   "outputs": [
    {
     "data": {
      "text/plain": [
       "['ROA',\n",
       " 'Total Liabilities Net Minority Interest',\n",
       " 'Total Equity Gross Minority Interest',\n",
       " 'Common Stock Equity',\n",
       " 'Tangible Book Value',\n",
       " 'Invested Capital',\n",
       " 'End Cash Position',\n",
       " 'Financing Cash Flow',\n",
       " 'Operating Cash Flow',\n",
       " 'Total Revenue',\n",
       " 'Investing Cash Flow',\n",
       " 'Tax Effect of Unusual Items',\n",
       " 'Pretax Income']"
      ]
     },
     "execution_count": 1512,
     "metadata": {},
     "output_type": "execute_result"
    }
   ],
   "source": [
    "feature_col"
   ]
  },
  {
   "cell_type": "code",
   "execution_count": 1519,
   "metadata": {
    "ExecuteTime": {
     "end_time": "2020-10-07T22:05:27.318224Z",
     "start_time": "2020-10-07T22:05:27.299638Z"
    }
   },
   "outputs": [
    {
     "name": "stderr",
     "output_type": "stream",
     "text": [
      "<ipython-input-1519-33b9caa76caa>:1: SettingWithCopyWarning: \n",
      "A value is trying to be set on a copy of a slice from a DataFrame.\n",
      "Try using .loc[row_indexer,col_indexer] = value instead\n",
      "\n",
      "See the caveats in the documentation: https://pandas.pydata.org/pandas-docs/stable/user_guide/indexing.html#returning-a-view-versus-a-copy\n",
      "  df_adjust['res'] = abs(lr.predict(df_adjust[feature_col])-df_adjust['Diluted Equity'])\n"
     ]
    }
   ],
   "source": [
    "# Use residuals to check outliers\n",
    "\n",
    "df_adjust['res'] = abs(lr.predict(df_adjust[feature_col])-df_adjust['Diluted Equity'])"
   ]
  },
  {
   "cell_type": "code",
   "execution_count": 1525,
   "metadata": {
    "ExecuteTime": {
     "end_time": "2020-10-07T22:11:02.912893Z",
     "start_time": "2020-10-07T22:11:02.862786Z"
    }
   },
   "outputs": [
    {
     "data": {
      "text/html": [
       "<div>\n",
       "<style scoped>\n",
       "    .dataframe tbody tr th:only-of-type {\n",
       "        vertical-align: middle;\n",
       "    }\n",
       "\n",
       "    .dataframe tbody tr th {\n",
       "        vertical-align: top;\n",
       "    }\n",
       "\n",
       "    .dataframe thead th {\n",
       "        text-align: right;\n",
       "    }\n",
       "</style>\n",
       "<table border=\"1\" class=\"dataframe\">\n",
       "  <thead>\n",
       "    <tr style=\"text-align: right;\">\n",
       "      <th></th>\n",
       "      <th>Diluted Equity</th>\n",
       "      <th>ROA</th>\n",
       "      <th>Total Liabilities Net Minority Interest</th>\n",
       "      <th>Total Equity Gross Minority Interest</th>\n",
       "      <th>Common Stock Equity</th>\n",
       "      <th>Tangible Book Value</th>\n",
       "      <th>Invested Capital</th>\n",
       "      <th>End Cash Position</th>\n",
       "      <th>Financing Cash Flow</th>\n",
       "      <th>Operating Cash Flow</th>\n",
       "      <th>Total Revenue</th>\n",
       "      <th>Investing Cash Flow</th>\n",
       "      <th>Tax Effect of Unusual Items</th>\n",
       "      <th>Pretax Income</th>\n",
       "      <th>res</th>\n",
       "    </tr>\n",
       "  </thead>\n",
       "  <tbody>\n",
       "    <tr>\n",
       "      <th>31</th>\n",
       "      <td>2681.6000</td>\n",
       "      <td>0.047289</td>\n",
       "      <td>42523000.0</td>\n",
       "      <td>24970000.0</td>\n",
       "      <td>24941000.0</td>\n",
       "      <td>-29327000.0</td>\n",
       "      <td>57739000.0</td>\n",
       "      <td>5055000.0</td>\n",
       "      <td>6488000.0</td>\n",
       "      <td>9697000.0</td>\n",
       "      <td>22597000.0</td>\n",
       "      <td>-15422000.0</td>\n",
       "      <td>-135339.0</td>\n",
       "      <td>2226000.0</td>\n",
       "      <td>1310.303826</td>\n",
       "    </tr>\n",
       "    <tr>\n",
       "      <th>291</th>\n",
       "      <td>12813.3496</td>\n",
       "      <td>0.049706</td>\n",
       "      <td>75937000.0</td>\n",
       "      <td>215189000.0</td>\n",
       "      <td>194928000.0</td>\n",
       "      <td>132358000.0</td>\n",
       "      <td>194928000.0</td>\n",
       "      <td>56453000.0</td>\n",
       "      <td>-2394000.0</td>\n",
       "      <td>44379000.0</td>\n",
       "      <td>175391000.0</td>\n",
       "      <td>-49136000.0</td>\n",
       "      <td>-411200.0</td>\n",
       "      <td>22855000.0</td>\n",
       "      <td>1388.555887</td>\n",
       "    </tr>\n",
       "    <tr>\n",
       "      <th>527</th>\n",
       "      <td>5363.4000</td>\n",
       "      <td>0.087397</td>\n",
       "      <td>38977000.0</td>\n",
       "      <td>22650000.0</td>\n",
       "      <td>22525000.0</td>\n",
       "      <td>4622000.0</td>\n",
       "      <td>47118000.0</td>\n",
       "      <td>11631000.0</td>\n",
       "      <td>-7634000.0</td>\n",
       "      <td>9144000.0</td>\n",
       "      <td>22449000.0</td>\n",
       "      <td>-7817000.0</td>\n",
       "      <td>0.0</td>\n",
       "      <td>5160000.0</td>\n",
       "      <td>1462.277855</td>\n",
       "    </tr>\n",
       "    <tr>\n",
       "      <th>937</th>\n",
       "      <td>872.3841</td>\n",
       "      <td>0.002246</td>\n",
       "      <td>63736000.0</td>\n",
       "      <td>7940000.0</td>\n",
       "      <td>1452000.0</td>\n",
       "      <td>1418000.0</td>\n",
       "      <td>1468000.0</td>\n",
       "      <td>12282000.0</td>\n",
       "      <td>-419000.0</td>\n",
       "      <td>2666000.0</td>\n",
       "      <td>1686000.0</td>\n",
       "      <td>-89000.0</td>\n",
       "      <td>0.0</td>\n",
       "      <td>1157000.0</td>\n",
       "      <td>1495.661698</td>\n",
       "    </tr>\n",
       "    <tr>\n",
       "      <th>147</th>\n",
       "      <td>3380.5728</td>\n",
       "      <td>0.020067</td>\n",
       "      <td>13791717.0</td>\n",
       "      <td>38417766.0</td>\n",
       "      <td>33065886.0</td>\n",
       "      <td>15202287.0</td>\n",
       "      <td>38631660.0</td>\n",
       "      <td>4551464.0</td>\n",
       "      <td>9469906.0</td>\n",
       "      <td>4581691.0</td>\n",
       "      <td>25576204.0</td>\n",
       "      <td>-15609900.0</td>\n",
       "      <td>358253.0</td>\n",
       "      <td>4208111.0</td>\n",
       "      <td>1689.561766</td>\n",
       "    </tr>\n",
       "    <tr>\n",
       "      <th>1203</th>\n",
       "      <td>-1654.8259</td>\n",
       "      <td>-0.053050</td>\n",
       "      <td>1837540.0</td>\n",
       "      <td>1464659.0</td>\n",
       "      <td>1453969.0</td>\n",
       "      <td>1453969.0</td>\n",
       "      <td>1453969.0</td>\n",
       "      <td>967743.0</td>\n",
       "      <td>623406.0</td>\n",
       "      <td>-1116816.0</td>\n",
       "      <td>11672024.0</td>\n",
       "      <td>-115483.0</td>\n",
       "      <td>6739.0</td>\n",
       "      <td>-137333.0</td>\n",
       "      <td>1704.455421</td>\n",
       "    </tr>\n",
       "    <tr>\n",
       "      <th>175</th>\n",
       "      <td>39540.3000</td>\n",
       "      <td>0.139457</td>\n",
       "      <td>183007000.0</td>\n",
       "      <td>118304000.0</td>\n",
       "      <td>118304000.0</td>\n",
       "      <td>67915000.0</td>\n",
       "      <td>181631000.0</td>\n",
       "      <td>13576000.0</td>\n",
       "      <td>-46031000.0</td>\n",
       "      <td>60675000.0</td>\n",
       "      <td>143015000.0</td>\n",
       "      <td>-12223000.0</td>\n",
       "      <td>446820.0</td>\n",
       "      <td>53036000.0</td>\n",
       "      <td>1823.459288</td>\n",
       "    </tr>\n",
       "    <tr>\n",
       "      <th>28</th>\n",
       "      <td>34368.9552</td>\n",
       "      <td>0.120689</td>\n",
       "      <td>74467000.0</td>\n",
       "      <td>201442000.0</td>\n",
       "      <td>201442000.0</td>\n",
       "      <td>178839000.0</td>\n",
       "      <td>205400000.0</td>\n",
       "      <td>18498000.0</td>\n",
       "      <td>-23209000.0</td>\n",
       "      <td>54520000.0</td>\n",
       "      <td>161857000.0</td>\n",
       "      <td>-29491000.0</td>\n",
       "      <td>160132.0</td>\n",
       "      <td>39625000.0</td>\n",
       "      <td>1919.723748</td>\n",
       "    </tr>\n",
       "    <tr>\n",
       "      <th>1048</th>\n",
       "      <td>-10282.6929</td>\n",
       "      <td>-0.225451</td>\n",
       "      <td>35179160.0</td>\n",
       "      <td>9613390.0</td>\n",
       "      <td>9571014.0</td>\n",
       "      <td>-5773843.0</td>\n",
       "      <td>26103144.0</td>\n",
       "      <td>6909674.0</td>\n",
       "      <td>7880306.0</td>\n",
       "      <td>3906227.0</td>\n",
       "      <td>28993658.0</td>\n",
       "      <td>-11749571.0</td>\n",
       "      <td>-74938.0</td>\n",
       "      <td>-10224887.0</td>\n",
       "      <td>2222.032849</td>\n",
       "    </tr>\n",
       "    <tr>\n",
       "      <th>833</th>\n",
       "      <td>1957.9456</td>\n",
       "      <td>-0.227051</td>\n",
       "      <td>2552536.0</td>\n",
       "      <td>6327828.0</td>\n",
       "      <td>6280783.0</td>\n",
       "      <td>6135083.0</td>\n",
       "      <td>6280783.0</td>\n",
       "      <td>4809440.0</td>\n",
       "      <td>471978.0</td>\n",
       "      <td>-429047.0</td>\n",
       "      <td>4424963.0</td>\n",
       "      <td>-707611.0</td>\n",
       "      <td>-11616.0</td>\n",
       "      <td>-2328242.0</td>\n",
       "      <td>3647.771900</td>\n",
       "    </tr>\n",
       "  </tbody>\n",
       "</table>\n",
       "</div>"
      ],
      "text/plain": [
       "      Diluted Equity       ROA  Total Liabilities Net Minority Interest  \\\n",
       "31         2681.6000  0.047289                               42523000.0   \n",
       "291       12813.3496  0.049706                               75937000.0   \n",
       "527        5363.4000  0.087397                               38977000.0   \n",
       "937         872.3841  0.002246                               63736000.0   \n",
       "147        3380.5728  0.020067                               13791717.0   \n",
       "1203      -1654.8259 -0.053050                                1837540.0   \n",
       "175       39540.3000  0.139457                              183007000.0   \n",
       "28        34368.9552  0.120689                               74467000.0   \n",
       "1048     -10282.6929 -0.225451                               35179160.0   \n",
       "833        1957.9456 -0.227051                                2552536.0   \n",
       "\n",
       "      Total Equity Gross Minority Interest  Common Stock Equity  \\\n",
       "31                              24970000.0           24941000.0   \n",
       "291                            215189000.0          194928000.0   \n",
       "527                             22650000.0           22525000.0   \n",
       "937                              7940000.0            1452000.0   \n",
       "147                             38417766.0           33065886.0   \n",
       "1203                             1464659.0            1453969.0   \n",
       "175                            118304000.0          118304000.0   \n",
       "28                             201442000.0          201442000.0   \n",
       "1048                             9613390.0            9571014.0   \n",
       "833                              6327828.0            6280783.0   \n",
       "\n",
       "      Tangible Book Value  Invested Capital  End Cash Position  \\\n",
       "31            -29327000.0        57739000.0          5055000.0   \n",
       "291           132358000.0       194928000.0         56453000.0   \n",
       "527             4622000.0        47118000.0         11631000.0   \n",
       "937             1418000.0         1468000.0         12282000.0   \n",
       "147            15202287.0        38631660.0          4551464.0   \n",
       "1203            1453969.0         1453969.0           967743.0   \n",
       "175            67915000.0       181631000.0         13576000.0   \n",
       "28            178839000.0       205400000.0         18498000.0   \n",
       "1048           -5773843.0        26103144.0          6909674.0   \n",
       "833             6135083.0         6280783.0          4809440.0   \n",
       "\n",
       "      Financing Cash Flow  Operating Cash Flow  Total Revenue  \\\n",
       "31              6488000.0            9697000.0     22597000.0   \n",
       "291            -2394000.0           44379000.0    175391000.0   \n",
       "527            -7634000.0            9144000.0     22449000.0   \n",
       "937             -419000.0            2666000.0      1686000.0   \n",
       "147             9469906.0            4581691.0     25576204.0   \n",
       "1203             623406.0           -1116816.0     11672024.0   \n",
       "175           -46031000.0           60675000.0    143015000.0   \n",
       "28            -23209000.0           54520000.0    161857000.0   \n",
       "1048            7880306.0            3906227.0     28993658.0   \n",
       "833              471978.0            -429047.0      4424963.0   \n",
       "\n",
       "      Investing Cash Flow  Tax Effect of Unusual Items  Pretax Income  \\\n",
       "31            -15422000.0                    -135339.0      2226000.0   \n",
       "291           -49136000.0                    -411200.0     22855000.0   \n",
       "527            -7817000.0                          0.0      5160000.0   \n",
       "937              -89000.0                          0.0      1157000.0   \n",
       "147           -15609900.0                     358253.0      4208111.0   \n",
       "1203            -115483.0                       6739.0      -137333.0   \n",
       "175           -12223000.0                     446820.0     53036000.0   \n",
       "28            -29491000.0                     160132.0     39625000.0   \n",
       "1048          -11749571.0                     -74938.0    -10224887.0   \n",
       "833             -707611.0                     -11616.0     -2328242.0   \n",
       "\n",
       "              res  \n",
       "31    1310.303826  \n",
       "291   1388.555887  \n",
       "527   1462.277855  \n",
       "937   1495.661698  \n",
       "147   1689.561766  \n",
       "1203  1704.455421  \n",
       "175   1823.459288  \n",
       "28    1919.723748  \n",
       "1048  2222.032849  \n",
       "833   3647.771900  "
      ]
     },
     "execution_count": 1525,
     "metadata": {},
     "output_type": "execute_result"
    }
   ],
   "source": [
    "df_adjust.sort_values(['res']).tail(10)"
   ]
  },
  {
   "cell_type": "code",
   "execution_count": 1537,
   "metadata": {
    "ExecuteTime": {
     "end_time": "2020-10-07T22:18:58.217780Z",
     "start_time": "2020-10-07T22:18:58.191057Z"
    }
   },
   "outputs": [
    {
     "data": {
      "text/plain": [
       "Symbol                                                            JFU\n",
       "Date                                                       12/31/2019\n",
       "Total Assets                                              8.88036e+06\n",
       "Total Liabilities Net Minority Interest                   2.55254e+06\n",
       "Total Equity Gross Minority Interest                      6.32783e+06\n",
       "                                                             ...     \n",
       "Special Income Charges                                            NaN\n",
       "INTEREST_INCOME_AFTER_PROVISION_FOR_LOAN_LOSS                     NaN\n",
       "Other Non Operating Income Expenses                               NaN\n",
       "Total Money Market Investments                                    NaN\n",
       "Income from Associates & Other Participating Interests            NaN\n",
       "Name: 833, Length: 77, dtype: object"
      ]
     },
     "execution_count": 1537,
     "metadata": {},
     "output_type": "execute_result"
    }
   ],
   "source": [
    "df_raw.reset_index().iloc[833] # JFU was sued for misleading investors"
   ]
  },
  {
   "cell_type": "code",
   "execution_count": 1539,
   "metadata": {
    "ExecuteTime": {
     "end_time": "2020-10-07T22:23:21.568885Z",
     "start_time": "2020-10-07T22:23:21.507789Z"
    }
   },
   "outputs": [
    {
     "data": {
      "text/plain": [
       "Symbol                                                             IQ\n",
       "Date                                                       12/31/2019\n",
       "Total Assets                                              4.47926e+07\n",
       "Total Liabilities Net Minority Interest                   3.51792e+07\n",
       "Total Equity Gross Minority Interest                      9.61339e+06\n",
       "                                                             ...     \n",
       "Special Income Charges                                            NaN\n",
       "INTEREST_INCOME_AFTER_PROVISION_FOR_LOAN_LOSS                     NaN\n",
       "Other Non Operating Income Expenses                               NaN\n",
       "Total Money Market Investments                                    NaN\n",
       "Income from Associates & Other Participating Interests            NaN\n",
       "Name: 1048, Length: 77, dtype: object"
      ]
     },
     "execution_count": 1539,
     "metadata": {},
     "output_type": "execute_result"
    }
   ],
   "source": [
    "df_raw.reset_index().iloc[1048] # IQ was accused for securities fraud"
   ]
  },
  {
   "cell_type": "code",
   "execution_count": 43,
   "metadata": {},
   "outputs": [
    {
     "data": {
      "text/plain": [
       "Symbol                                                               GOOG\n",
       "Date                                                           12/31/2019\n",
       "Total Assets                                                  2.75909e+08\n",
       "Total Liabilities Net Minority Interest                        7.4467e+07\n",
       "Total Equity Gross Minority Interest                          2.01442e+08\n",
       "Common Stock Equity                                           2.01442e+08\n",
       "Tangible Book Value                                           1.78839e+08\n",
       "Invested Capital                                                2.054e+08\n",
       "Total Capitalization                                            2.054e+08\n",
       "Net Tangible Assets                                           1.78839e+08\n",
       "index                                                          12/31/2019\n",
       "Ordinary Shares Number                                             688335\n",
       "Share Issued                                                       688335\n",
       "End Cash Position                                              1.8498e+07\n",
       "Financing Cash Flow                                           -2.3209e+07\n",
       "Operating Cash Flow                                             5.452e+07\n",
       "Total Revenue                                                 1.61857e+08\n",
       "Diluted EPS                                                        0.0492\n",
       "Diluted Average Shares                                             698556\n",
       "Investing Cash Flow                                           -2.9491e+07\n",
       "Free Cash Flow                                                 3.0972e+07\n",
       "Normalized Income                                             3.32991e+07\n",
       "Tax Rate for Calcs                                                      0\n",
       "Diluted NI Available to Com Stockholders                       3.4343e+07\n",
       "Net Income Common Stockholders                                 3.4343e+07\n",
       "Tax Effect of Unusual Items                                        160132\n",
       "Pretax Income                                                  3.9625e+07\n",
       "Net Income from Continuing & Discontinued Operation            3.4343e+07\n",
       "Net Income from Continuing Operation Net Minority Interest     3.4343e+07\n",
       "Basic Average Shares                                               692596\n",
       "Name: 28, dtype: object"
      ]
     },
     "execution_count": 43,
     "metadata": {},
     "output_type": "execute_result"
    }
   ],
   "source": [
    "df_index.iloc[28] # Tech Giant"
   ]
  },
  {
   "cell_type": "code",
   "execution_count": 44,
   "metadata": {},
   "outputs": [
    {
     "data": {
      "text/plain": [
       "Symbol                                                               MSFT\n",
       "Date                                                            6/30/2020\n",
       "Total Assets                                                  3.01311e+08\n",
       "Total Liabilities Net Minority Interest                       1.83007e+08\n",
       "Total Equity Gross Minority Interest                          1.18304e+08\n",
       "Common Stock Equity                                           1.18304e+08\n",
       "Tangible Book Value                                            6.7915e+07\n",
       "Invested Capital                                              1.81631e+08\n",
       "Total Capitalization                                          1.77882e+08\n",
       "Net Tangible Assets                                            6.7915e+07\n",
       "index                                                           6/30/2020\n",
       "Ordinary Shares Number                                          7.571e+06\n",
       "Share Issued                                                    7.571e+06\n",
       "End Cash Position                                              1.3576e+07\n",
       "Financing Cash Flow                                           -4.6031e+07\n",
       "Operating Cash Flow                                            6.0675e+07\n",
       "Total Revenue                                                 1.43015e+08\n",
       "Diluted EPS                                                        0.0051\n",
       "Diluted Average Shares                                          7.753e+06\n",
       "Investing Cash Flow                                           -1.2223e+07\n",
       "Free Cash Flow                                                 4.5234e+07\n",
       "Normalized Income                                             4.20198e+07\n",
       "Tax Rate for Calcs                                                      0\n",
       "Diluted NI Available to Com Stockholders                       4.4281e+07\n",
       "Net Income Common Stockholders                                 4.4281e+07\n",
       "Tax Effect of Unusual Items                                        446820\n",
       "Pretax Income                                                  5.3036e+07\n",
       "Net Income from Continuing & Discontinued Operation            4.4281e+07\n",
       "Net Income from Continuing Operation Net Minority Interest     4.4281e+07\n",
       "Basic Average Shares                                            7.673e+06\n",
       "Name: 175, dtype: object"
      ]
     },
     "execution_count": 44,
     "metadata": {},
     "output_type": "execute_result"
    }
   ],
   "source": [
    "df_index.iloc[175] # Tech Giant"
   ]
  },
  {
   "cell_type": "code",
   "execution_count": 45,
   "metadata": {},
   "outputs": [
    {
     "data": {
      "text/plain": [
       "Symbol                                                                 YJ\n",
       "Date                                                           12/31/2019\n",
       "Total Assets                                                   3.3022e+06\n",
       "Total Liabilities Net Minority Interest                       1.83754e+06\n",
       "Total Equity Gross Minority Interest                          1.46466e+06\n",
       "Common Stock Equity                                           1.45397e+06\n",
       "Tangible Book Value                                           1.45397e+06\n",
       "Invested Capital                                              1.45397e+06\n",
       "Total Capitalization                                          1.45397e+06\n",
       "Net Tangible Assets                                           1.45397e+06\n",
       "index                                                          12/31/2019\n",
       "Ordinary Shares Number                                        2.12941e+06\n",
       "Share Issued                                                  2.15879e+06\n",
       "End Cash Position                                                  967743\n",
       "Financing Cash Flow                                                623406\n",
       "Operating Cash Flow                                          -1.11682e+06\n",
       "Total Revenue                                                  1.1672e+07\n",
       "Diluted EPS                                                       -0.0091\n",
       "Diluted Average Shares                                             181849\n",
       "Investing Cash Flow                                               -115483\n",
       "Free Cash Flow                                                 -1.145e+06\n",
       "Normalized Income                                                 -175181\n",
       "Tax Rate for Calcs                                                      0\n",
       "Diluted NI Available to Com Stockholders                     -1.65778e+06\n",
       "Net Income Common Stockholders                               -1.65778e+06\n",
       "Tax Effect of Unusual Items                                          6739\n",
       "Pretax Income                                                     -137333\n",
       "Net Income from Continuing & Discontinued Operation               -125762\n",
       "Net Income from Continuing Operation Net Minority Interest        -125762\n",
       "Basic Average Shares                                               181849\n",
       "Name: 1203, dtype: object"
      ]
     },
     "execution_count": 45,
     "metadata": {},
     "output_type": "execute_result"
    }
   ],
   "source": [
    "df_index.iloc[1203] # Foreign ADR"
   ]
  },
  {
   "cell_type": "code",
   "execution_count": 46,
   "metadata": {},
   "outputs": [
    {
     "data": {
      "text/plain": [
       "Symbol                                                                 YY\n",
       "Date                                                           12/31/2019\n",
       "Total Assets                                                  5.22095e+07\n",
       "Total Liabilities Net Minority Interest                       1.37917e+07\n",
       "Total Equity Gross Minority Interest                          3.84178e+07\n",
       "Common Stock Equity                                           3.30659e+07\n",
       "Tangible Book Value                                           1.52023e+07\n",
       "Invested Capital                                              3.86317e+07\n",
       "Total Capitalization                                          3.80745e+07\n",
       "Net Tangible Assets                                           1.52023e+07\n",
       "index                                                          12/31/2019\n",
       "Ordinary Shares Number                                        1.61967e+06\n",
       "Share Issued                                                  1.62836e+06\n",
       "End Cash Position                                             4.55146e+06\n",
       "Financing Cash Flow                                           9.46991e+06\n",
       "Operating Cash Flow                                           4.58169e+06\n",
       "Total Revenue                                                 2.55762e+07\n",
       "Diluted EPS                                                        0.0432\n",
       "Diluted Average Shares                                              78254\n",
       "Investing Cash Flow                                          -1.56099e+07\n",
       "Free Cash Flow                                                3.48918e+06\n",
       "Normalized Income                                             1.04769e+06\n",
       "Tax Rate for Calcs                                                      0\n",
       "Diluted NI Available to Com Stockholders                      3.37933e+06\n",
       "Net Income Common Stockholders                                3.37933e+06\n",
       "Tax Effect of Unusual Items                                        358253\n",
       "Pretax Income                                                 4.20811e+06\n",
       "Net Income from Continuing & Discontinued Operation           3.44524e+06\n",
       "Net Income from Continuing Operation Net Minority Interest    3.44524e+06\n",
       "Basic Average Shares                                                77220\n",
       "Name: 147, dtype: object"
      ]
     },
     "execution_count": 46,
     "metadata": {},
     "output_type": "execute_result"
    }
   ],
   "source": [
    "df_index.iloc[147] # Foreign ADR"
   ]
  },
  {
   "cell_type": "code",
   "execution_count": 47,
   "metadata": {},
   "outputs": [
    {
     "data": {
      "text/plain": [
       "Symbol                                                              IBKR\n",
       "Date                                                          12/31/2019\n",
       "Total Assets                                                  7.1676e+07\n",
       "Total Liabilities Net Minority Interest                       6.3736e+07\n",
       "Total Equity Gross Minority Interest                            7.94e+06\n",
       "Common Stock Equity                                            1.452e+06\n",
       "Tangible Book Value                                            1.418e+06\n",
       "Invested Capital                                               1.468e+06\n",
       "Total Capitalization                                                 NaN\n",
       "Net Tangible Assets                                            1.418e+06\n",
       "index                                                         12/31/2019\n",
       "Ordinary Shares Number                                            415421\n",
       "Share Issued                                                      415560\n",
       "End Cash Position                                             1.2282e+07\n",
       "Financing Cash Flow                                              -419000\n",
       "Operating Cash Flow                                            2.666e+06\n",
       "Total Revenue                                                  1.686e+06\n",
       "Diluted EPS                                                       0.0021\n",
       "Diluted Average Shares                                            415421\n",
       "Investing Cash Flow                                               -89000\n",
       "Free Cash Flow                                                 2.592e+06\n",
       "Normalized Income                                                 161000\n",
       "Tax Rate for Calcs                                                     0\n",
       "Diluted NI Available to Com Stockholders                          161000\n",
       "Net Income Common Stockholders                                    161000\n",
       "Tax Effect of Unusual Items                                            0\n",
       "Pretax Income                                                  1.157e+06\n",
       "Net Income from Continuing & Discontinued Operation               161000\n",
       "Net Income from Continuing Operation Net Minority Interest        161000\n",
       "Basic Average Shares                                              415421\n",
       "Name: 937, dtype: object"
      ]
     },
     "execution_count": 47,
     "metadata": {},
     "output_type": "execute_result"
    }
   ],
   "source": [
    "df_index.iloc[937] # Financial Broker"
   ]
  },
  {
   "cell_type": "code",
   "execution_count": 48,
   "metadata": {},
   "outputs": [
    {
     "data": {
      "text/plain": [
       "Symbol                                                              GILD\n",
       "Date                                                          12/31/2019\n",
       "Total Assets                                                  6.1627e+07\n",
       "Total Liabilities Net Minority Interest                       3.8977e+07\n",
       "Total Equity Gross Minority Interest                           2.265e+07\n",
       "Common Stock Equity                                           2.2525e+07\n",
       "Tangible Book Value                                            4.622e+06\n",
       "Invested Capital                                              4.7118e+07\n",
       "Total Capitalization                                          4.4619e+07\n",
       "Net Tangible Assets                                            4.622e+06\n",
       "index                                                         12/31/2019\n",
       "Ordinary Shares Number                                         1.266e+06\n",
       "Share Issued                                                   1.266e+06\n",
       "End Cash Position                                             1.1631e+07\n",
       "Financing Cash Flow                                           -7.634e+06\n",
       "Operating Cash Flow                                            9.144e+06\n",
       "Total Revenue                                                 2.2449e+07\n",
       "Diluted EPS                                                       0.0042\n",
       "Diluted Average Shares                                         1.277e+06\n",
       "Investing Cash Flow                                           -7.817e+06\n",
       "Free Cash Flow                                                 8.319e+06\n",
       "Normalized Income                                              5.386e+06\n",
       "Tax Rate for Calcs                                                     0\n",
       "Diluted NI Available to Com Stockholders                       5.386e+06\n",
       "Net Income Common Stockholders                                 5.386e+06\n",
       "Tax Effect of Unusual Items                                            0\n",
       "Pretax Income                                                   5.16e+06\n",
       "Net Income from Continuing & Discontinued Operation            5.386e+06\n",
       "Net Income from Continuing Operation Net Minority Interest     5.386e+06\n",
       "Basic Average Shares                                            1.27e+06\n",
       "Name: 527, dtype: object"
      ]
     },
     "execution_count": 48,
     "metadata": {},
     "output_type": "execute_result"
    }
   ],
   "source": [
    "df_index.iloc[527] # Healthcare Giant"
   ]
  },
  {
   "cell_type": "code",
   "execution_count": 49,
   "metadata": {},
   "outputs": [
    {
     "data": {
      "text/plain": [
       "Symbol                                                               YNDX\n",
       "Date                                                           12/31/2019\n",
       "Total Assets                                                  2.91126e+08\n",
       "Total Liabilities Net Minority Interest                        7.5937e+07\n",
       "Total Equity Gross Minority Interest                          2.15189e+08\n",
       "Common Stock Equity                                           1.94928e+08\n",
       "Tangible Book Value                                           1.32358e+08\n",
       "Invested Capital                                              1.94928e+08\n",
       "Total Capitalization                                          1.94928e+08\n",
       "Net Tangible Assets                                           1.32358e+08\n",
       "index                                                          12/31/2019\n",
       "Ordinary Shares Number                                             329858\n",
       "Share Issued                                                       330666\n",
       "End Cash Position                                              5.6453e+07\n",
       "Financing Cash Flow                                            -2.394e+06\n",
       "Operating Cash Flow                                            4.4379e+07\n",
       "Total Revenue                                                 1.75391e+08\n",
       "Diluted EPS                                                        0.0382\n",
       "Diluted Average Shares                                             335428\n",
       "Investing Cash Flow                                           -4.9136e+07\n",
       "Free Cash Flow                                                 2.3836e+07\n",
       "Normalized Income                                             1.44708e+07\n",
       "Tax Rate for Calcs                                                      0\n",
       "Diluted NI Available to Com Stockholders                       1.2826e+07\n",
       "Net Income Common Stockholders                                 1.2826e+07\n",
       "Tax Effect of Unusual Items                                       -411200\n",
       "Pretax Income                                                  2.2855e+07\n",
       "Net Income from Continuing & Discontinued Operation            1.2826e+07\n",
       "Net Income from Continuing Operation Net Minority Interest     1.2826e+07\n",
       "Basic Average Shares                                               327127\n",
       "Name: 291, dtype: object"
      ]
     },
     "execution_count": 49,
     "metadata": {},
     "output_type": "execute_result"
    }
   ],
   "source": [
    "df_index.iloc[291] # Russa's top search engine "
   ]
  },
  {
   "cell_type": "code",
   "execution_count": 50,
   "metadata": {},
   "outputs": [
    {
     "data": {
      "text/plain": [
       "Symbol                                                               AVGO\n",
       "Date                                                           10/31/2019\n",
       "Total Assets                                                   6.7493e+07\n",
       "Total Liabilities Net Minority Interest                        4.2523e+07\n",
       "Total Equity Gross Minority Interest                            2.497e+07\n",
       "Common Stock Equity                                            2.4941e+07\n",
       "Tangible Book Value                                           -2.9327e+07\n",
       "Invested Capital                                               5.7739e+07\n",
       "Total Capitalization                                           5.4981e+07\n",
       "Net Tangible Assets                                           -2.9298e+07\n",
       "index                                                          10/31/2019\n",
       "Ordinary Shares Number                                             398000\n",
       "Share Issued                                                       398000\n",
       "End Cash Position                                               5.055e+06\n",
       "Financing Cash Flow                                             6.488e+06\n",
       "Operating Cash Flow                                             9.697e+06\n",
       "Total Revenue                                                  2.2597e+07\n",
       "Diluted EPS                                                        0.0064\n",
       "Diluted Average Shares                                             419000\n",
       "Investing Cash Flow                                           -1.5422e+07\n",
       "Free Cash Flow                                                  9.265e+06\n",
       "Normalized Income                                             3.19166e+06\n",
       "Tax Rate for Calcs                                                      0\n",
       "Diluted NI Available to Com Stockholders                        2.695e+06\n",
       "Net Income Common Stockholders                                  2.695e+06\n",
       "Tax Effect of Unusual Items                                       -135339\n",
       "Pretax Income                                                   2.226e+06\n",
       "Net Income from Continuing & Discontinued Operation             2.724e+06\n",
       "Net Income from Continuing Operation Net Minority Interest      2.736e+06\n",
       "Basic Average Shares                                               398000\n",
       "Name: 31, dtype: object"
      ]
     },
     "execution_count": 50,
     "metadata": {},
     "output_type": "execute_result"
    }
   ],
   "source": [
    "df_index.iloc[31] "
   ]
  },
  {
   "cell_type": "code",
   "execution_count": 66,
   "metadata": {
    "ExecuteTime": {
     "end_time": "2020-10-07T20:51:37.202900Z",
     "start_time": "2020-10-07T20:51:37.186287Z"
    }
   },
   "outputs": [],
   "source": [
    "# Split into Train, Validation and Test sets\n",
    "\n",
    "X_train_val, X_test, y_train_val, y_test = train_test_split(X, y, test_size=0.2,random_state=42)\n",
    "X_train, X_val, y_train, y_val = train_test_split(X_train_val, y_train_val, test_size=.25, random_state=43)\n"
   ]
  },
  {
   "cell_type": "code",
   "execution_count": 1613,
   "metadata": {},
   "outputs": [
    {
     "data": {
      "text/plain": [
       "285"
      ]
     },
     "execution_count": 1613,
     "metadata": {},
     "output_type": "execute_result"
    }
   ],
   "source": [
    "(df_adjust[\"Diluted Equity\"]>0).sum() # Companies with positive EPS"
   ]
  },
  {
   "cell_type": "code",
   "execution_count": 1615,
   "metadata": {},
   "outputs": [
    {
     "data": {
      "text/plain": [
       "829.3450695614036"
      ]
     },
     "execution_count": 1615,
     "metadata": {},
     "output_type": "execute_result"
    }
   ],
   "source": [
    "(df_adjust[\"Diluted Equity\"]).sum() / (df_adjust[\"Diluted Equity\"]>0).sum()"
   ]
  },
  {
   "cell_type": "code",
   "execution_count": 1608,
   "metadata": {},
   "outputs": [
    {
     "name": "stdout",
     "output_type": "stream",
     "text": [
      "<class 'pandas.core.frame.DataFrame'>\n",
      "Int64Index: 285 entries, 11 to 1205\n",
      "Data columns (total 15 columns):\n",
      " #   Column                                   Non-Null Count  Dtype  \n",
      "---  ------                                   --------------  -----  \n",
      " 0   Diluted Equity                           285 non-null    float64\n",
      " 1   ROA                                      285 non-null    float64\n",
      " 2   Total Liabilities Net Minority Interest  285 non-null    float64\n",
      " 3   Total Equity Gross Minority Interest     285 non-null    float64\n",
      " 4   Common Stock Equity                      285 non-null    float64\n",
      " 5   Tangible Book Value                      285 non-null    float64\n",
      " 6   Invested Capital                         285 non-null    float64\n",
      " 7   End Cash Position                        285 non-null    float64\n",
      " 8   Financing Cash Flow                      285 non-null    float64\n",
      " 9   Operating Cash Flow                      285 non-null    float64\n",
      " 10  Total Revenue                            285 non-null    float64\n",
      " 11  Investing Cash Flow                      285 non-null    float64\n",
      " 12  Tax Effect of Unusual Items              285 non-null    float64\n",
      " 13  Pretax Income                            285 non-null    float64\n",
      " 14  res                                      285 non-null    float64\n",
      "dtypes: float64(15)\n",
      "memory usage: 35.6 KB\n"
     ]
    }
   ],
   "source": [
    "df_adjust[df_adjust[\"Diluted Equity\"]>0].info()"
   ]
  },
  {
   "cell_type": "code",
   "execution_count": 54,
   "metadata": {},
   "outputs": [
    {
     "name": "stdout",
     "output_type": "stream",
     "text": [
      "<class 'pandas.core.frame.DataFrame'>\n",
      "Int64Index: 447 entries, 0 to 1159\n",
      "Data columns (total 15 columns):\n",
      " #   Column                                   Non-Null Count  Dtype  \n",
      "---  ------                                   --------------  -----  \n",
      " 0   Unnamed: 0                               447 non-null    int64  \n",
      " 1   Diluted Equity                           447 non-null    float64\n",
      " 2   ROA                                      447 non-null    float64\n",
      " 3   Total Liabilities Net Minority Interest  447 non-null    float64\n",
      " 4   Total Equity Gross Minority Interest     447 non-null    float64\n",
      " 5   Common Stock Equity                      447 non-null    float64\n",
      " 6   Tangible Book Value                      447 non-null    float64\n",
      " 7   Invested Capital                         447 non-null    float64\n",
      " 8   End Cash Position                        447 non-null    float64\n",
      " 9   Financing Cash Flow                      447 non-null    float64\n",
      " 10  Operating Cash Flow                      447 non-null    float64\n",
      " 11  Total Revenue                            447 non-null    float64\n",
      " 12  Investing Cash Flow                      447 non-null    float64\n",
      " 13  Tax Effect of Unusual Items              447 non-null    float64\n",
      " 14  Pretax Income                            447 non-null    float64\n",
      "dtypes: float64(14), int64(1)\n",
      "memory usage: 55.9 KB\n"
     ]
    }
   ],
   "source": [
    "df_adjust[df_adjust[\"Diluted Equity\"]<0].info()"
   ]
  },
  {
   "cell_type": "code",
   "execution_count": 1436,
   "metadata": {
    "ExecuteTime": {
     "end_time": "2020-10-07T20:51:42.280832Z",
     "start_time": "2020-10-07T20:51:42.232056Z"
    }
   },
   "outputs": [
    {
     "data": {
      "text/plain": [
       "(0.9931178035005019, 0.9645397820514844)"
      ]
     },
     "execution_count": 1436,
     "metadata": {},
     "output_type": "execute_result"
    }
   ],
   "source": [
    "# Baselin Comparison on Train set and Validation set\n",
    "\n",
    "def split_val_(X,y):\n",
    "    m = LinearRegression()\n",
    "    m.fit(X_train,y_train)\n",
    "    return(m.score(X_train,y_train),m.score(X_val,y_val))\n",
    "split_val_(X,y) \n",
    "\n",
    "# Score indicates overfitting but it was a huge improvement before feature engineering\n"
   ]
  },
  {
   "cell_type": "markdown",
   "metadata": {},
   "source": [
    "## Lasso Modeling"
   ]
  },
  {
   "cell_type": "code",
   "execution_count": 67,
   "metadata": {
    "ExecuteTime": {
     "end_time": "2020-10-07T21:30:24.090985Z",
     "start_time": "2020-10-07T21:30:24.074409Z"
    }
   },
   "outputs": [
    {
     "data": {
      "text/plain": [
       "(233, 13)"
      ]
     },
     "execution_count": 67,
     "metadata": {},
     "output_type": "execute_result"
    }
   ],
   "source": [
    "X_test.shape"
   ]
  },
  {
   "cell_type": "code",
   "execution_count": 68,
   "metadata": {
    "ExecuteTime": {
     "end_time": "2020-10-07T21:21:21.534307Z",
     "start_time": "2020-10-07T21:21:20.714411Z"
    }
   },
   "outputs": [
    {
     "name": "stderr",
     "output_type": "stream",
     "text": [
      "/opt/anaconda3/envs/metis/lib/python3.8/site-packages/sklearn/linear_model/_coordinate_descent.py:525: ConvergenceWarning: Objective did not converge. You might want to increase the number of iterations. Duality gap: 371129.51306582615, tolerance: 363818.94051386946\n",
      "  model = cd_fast.enet_coordinate_descent_gram(\n",
      "/opt/anaconda3/envs/metis/lib/python3.8/site-packages/sklearn/linear_model/_coordinate_descent.py:525: ConvergenceWarning: Objective did not converge. You might want to increase the number of iterations. Duality gap: 526946.2176649421, tolerance: 363818.94051386946\n",
      "  model = cd_fast.enet_coordinate_descent_gram(\n",
      "/opt/anaconda3/envs/metis/lib/python3.8/site-packages/sklearn/linear_model/_coordinate_descent.py:525: ConvergenceWarning: Objective did not converge. You might want to increase the number of iterations. Duality gap: 669682.5293770432, tolerance: 363818.94051386946\n",
      "  model = cd_fast.enet_coordinate_descent_gram(\n",
      "/opt/anaconda3/envs/metis/lib/python3.8/site-packages/sklearn/linear_model/_coordinate_descent.py:525: ConvergenceWarning: Objective did not converge. You might want to increase the number of iterations. Duality gap: 796379.8464211337, tolerance: 363818.94051386946\n",
      "  model = cd_fast.enet_coordinate_descent_gram(\n",
      "/opt/anaconda3/envs/metis/lib/python3.8/site-packages/sklearn/linear_model/_coordinate_descent.py:525: ConvergenceWarning: Objective did not converge. You might want to increase the number of iterations. Duality gap: 906963.8996486105, tolerance: 363818.94051386946\n",
      "  model = cd_fast.enet_coordinate_descent_gram(\n",
      "/opt/anaconda3/envs/metis/lib/python3.8/site-packages/sklearn/linear_model/_coordinate_descent.py:525: ConvergenceWarning: Objective did not converge. You might want to increase the number of iterations. Duality gap: 1002530.517369736, tolerance: 363818.94051386946\n",
      "  model = cd_fast.enet_coordinate_descent_gram(\n",
      "/opt/anaconda3/envs/metis/lib/python3.8/site-packages/sklearn/linear_model/_coordinate_descent.py:525: ConvergenceWarning: Objective did not converge. You might want to increase the number of iterations. Duality gap: 974835.3842615932, tolerance: 363818.94051386946\n",
      "  model = cd_fast.enet_coordinate_descent_gram(\n",
      "/opt/anaconda3/envs/metis/lib/python3.8/site-packages/sklearn/linear_model/_coordinate_descent.py:525: ConvergenceWarning: Objective did not converge. You might want to increase the number of iterations. Duality gap: 985141.5607534088, tolerance: 363818.94051386946\n",
      "  model = cd_fast.enet_coordinate_descent_gram(\n",
      "/opt/anaconda3/envs/metis/lib/python3.8/site-packages/sklearn/linear_model/_coordinate_descent.py:525: ConvergenceWarning: Objective did not converge. You might want to increase the number of iterations. Duality gap: 993500.5304098688, tolerance: 363818.94051386946\n",
      "  model = cd_fast.enet_coordinate_descent_gram(\n",
      "/opt/anaconda3/envs/metis/lib/python3.8/site-packages/sklearn/linear_model/_coordinate_descent.py:525: ConvergenceWarning: Objective did not converge. You might want to increase the number of iterations. Duality gap: 1000200.9772760496, tolerance: 363818.94051386946\n",
      "  model = cd_fast.enet_coordinate_descent_gram(\n",
      "/opt/anaconda3/envs/metis/lib/python3.8/site-packages/sklearn/linear_model/_coordinate_descent.py:525: ConvergenceWarning: Objective did not converge. You might want to increase the number of iterations. Duality gap: 1141327.5544880554, tolerance: 363818.94051386946\n",
      "  model = cd_fast.enet_coordinate_descent_gram(\n",
      "/opt/anaconda3/envs/metis/lib/python3.8/site-packages/sklearn/linear_model/_coordinate_descent.py:525: ConvergenceWarning: Objective did not converge. You might want to increase the number of iterations. Duality gap: 1214621.5816883594, tolerance: 363818.94051386946\n",
      "  model = cd_fast.enet_coordinate_descent_gram(\n",
      "/opt/anaconda3/envs/metis/lib/python3.8/site-packages/sklearn/linear_model/_coordinate_descent.py:525: ConvergenceWarning: Objective did not converge. You might want to increase the number of iterations. Duality gap: 1277017.060669046, tolerance: 363818.94051386946\n",
      "  model = cd_fast.enet_coordinate_descent_gram(\n",
      "/opt/anaconda3/envs/metis/lib/python3.8/site-packages/sklearn/linear_model/_coordinate_descent.py:525: ConvergenceWarning: Objective did not converge. You might want to increase the number of iterations. Duality gap: 1330146.495301202, tolerance: 363818.94051386946\n",
      "  model = cd_fast.enet_coordinate_descent_gram(\n",
      "/opt/anaconda3/envs/metis/lib/python3.8/site-packages/sklearn/linear_model/_coordinate_descent.py:525: ConvergenceWarning: Objective did not converge. You might want to increase the number of iterations. Duality gap: 1375332.4204361886, tolerance: 363818.94051386946\n",
      "  model = cd_fast.enet_coordinate_descent_gram(\n",
      "/opt/anaconda3/envs/metis/lib/python3.8/site-packages/sklearn/linear_model/_coordinate_descent.py:525: ConvergenceWarning: Objective did not converge. You might want to increase the number of iterations. Duality gap: 1413727.6009778157, tolerance: 363818.94051386946\n",
      "  model = cd_fast.enet_coordinate_descent_gram(\n",
      "/opt/anaconda3/envs/metis/lib/python3.8/site-packages/sklearn/linear_model/_coordinate_descent.py:525: ConvergenceWarning: Objective did not converge. You might want to increase the number of iterations. Duality gap: 1446328.0793397166, tolerance: 363818.94051386946\n",
      "  model = cd_fast.enet_coordinate_descent_gram(\n",
      "/opt/anaconda3/envs/metis/lib/python3.8/site-packages/sklearn/linear_model/_coordinate_descent.py:525: ConvergenceWarning: Objective did not converge. You might want to increase the number of iterations. Duality gap: 1473989.7143784985, tolerance: 363818.94051386946\n",
      "  model = cd_fast.enet_coordinate_descent_gram(\n",
      "/opt/anaconda3/envs/metis/lib/python3.8/site-packages/sklearn/linear_model/_coordinate_descent.py:525: ConvergenceWarning: Objective did not converge. You might want to increase the number of iterations. Duality gap: 1497445.3702856153, tolerance: 363818.94051386946\n",
      "  model = cd_fast.enet_coordinate_descent_gram(\n",
      "/opt/anaconda3/envs/metis/lib/python3.8/site-packages/sklearn/linear_model/_coordinate_descent.py:525: ConvergenceWarning: Objective did not converge. You might want to increase the number of iterations. Duality gap: 1517321.1779170334, tolerance: 363818.94051386946\n",
      "  model = cd_fast.enet_coordinate_descent_gram(\n",
      "/opt/anaconda3/envs/metis/lib/python3.8/site-packages/sklearn/linear_model/_coordinate_descent.py:525: ConvergenceWarning: Objective did not converge. You might want to increase the number of iterations. Duality gap: 1534151.2959099747, tolerance: 363818.94051386946\n",
      "  model = cd_fast.enet_coordinate_descent_gram(\n",
      "/opt/anaconda3/envs/metis/lib/python3.8/site-packages/sklearn/linear_model/_coordinate_descent.py:525: ConvergenceWarning: Objective did not converge. You might want to increase the number of iterations. Duality gap: 1548390.9912001006, tolerance: 363818.94051386946\n",
      "  model = cd_fast.enet_coordinate_descent_gram(\n",
      "/opt/anaconda3/envs/metis/lib/python3.8/site-packages/sklearn/linear_model/_coordinate_descent.py:525: ConvergenceWarning: Objective did not converge. You might want to increase the number of iterations. Duality gap: 1560428.087138325, tolerance: 363818.94051386946\n",
      "  model = cd_fast.enet_coordinate_descent_gram(\n",
      "/opt/anaconda3/envs/metis/lib/python3.8/site-packages/sklearn/linear_model/_coordinate_descent.py:525: ConvergenceWarning: Objective did not converge. You might want to increase the number of iterations. Duality gap: 1570592.8284263313, tolerance: 363818.94051386946\n",
      "  model = cd_fast.enet_coordinate_descent_gram(\n",
      "/opt/anaconda3/envs/metis/lib/python3.8/site-packages/sklearn/linear_model/_coordinate_descent.py:525: ConvergenceWarning: Objective did not converge. You might want to increase the number of iterations. Duality gap: 1579166.3623474762, tolerance: 363818.94051386946\n",
      "  model = cd_fast.enet_coordinate_descent_gram(\n",
      "/opt/anaconda3/envs/metis/lib/python3.8/site-packages/sklearn/linear_model/_coordinate_descent.py:525: ConvergenceWarning: Objective did not converge. You might want to increase the number of iterations. Duality gap: 1586387.973197315, tolerance: 363818.94051386946\n",
      "  model = cd_fast.enet_coordinate_descent_gram(\n",
      "/opt/anaconda3/envs/metis/lib/python3.8/site-packages/sklearn/linear_model/_coordinate_descent.py:525: ConvergenceWarning: Objective did not converge. You might want to increase the number of iterations. Duality gap: 1592461.340086069, tolerance: 363818.94051386946\n",
      "  model = cd_fast.enet_coordinate_descent_gram(\n",
      "/opt/anaconda3/envs/metis/lib/python3.8/site-packages/sklearn/linear_model/_coordinate_descent.py:525: ConvergenceWarning: Objective did not converge. You might want to increase the number of iterations. Duality gap: 1597559.8466859348, tolerance: 363818.94051386946\n",
      "  model = cd_fast.enet_coordinate_descent_gram(\n",
      "/opt/anaconda3/envs/metis/lib/python3.8/site-packages/sklearn/linear_model/_coordinate_descent.py:525: ConvergenceWarning: Objective did not converge. You might want to increase the number of iterations. Duality gap: 1601830.9624443017, tolerance: 363818.94051386946\n",
      "  model = cd_fast.enet_coordinate_descent_gram(\n",
      "/opt/anaconda3/envs/metis/lib/python3.8/site-packages/sklearn/linear_model/_coordinate_descent.py:525: ConvergenceWarning: Objective did not converge. You might want to increase the number of iterations. Duality gap: 1605400.2290085927, tolerance: 363818.94051386946\n",
      "  model = cd_fast.enet_coordinate_descent_gram(\n",
      "/opt/anaconda3/envs/metis/lib/python3.8/site-packages/sklearn/linear_model/_coordinate_descent.py:525: ConvergenceWarning: Objective did not converge. You might want to increase the number of iterations. Duality gap: 1608374.464557767, tolerance: 363818.94051386946\n",
      "  model = cd_fast.enet_coordinate_descent_gram(\n",
      "/opt/anaconda3/envs/metis/lib/python3.8/site-packages/sklearn/linear_model/_coordinate_descent.py:525: ConvergenceWarning: Objective did not converge. You might want to increase the number of iterations. Duality gap: 1610844.5533975102, tolerance: 363818.94051386946\n",
      "  model = cd_fast.enet_coordinate_descent_gram(\n",
      "/opt/anaconda3/envs/metis/lib/python3.8/site-packages/sklearn/linear_model/_coordinate_descent.py:525: ConvergenceWarning: Objective did not converge. You might want to increase the number of iterations. Duality gap: 1612887.775172308, tolerance: 363818.94051386946\n",
      "  model = cd_fast.enet_coordinate_descent_gram(\n",
      "/opt/anaconda3/envs/metis/lib/python3.8/site-packages/sklearn/linear_model/_coordinate_descent.py:525: ConvergenceWarning: Objective did not converge. You might want to increase the number of iterations. Duality gap: 1614569.9138672985, tolerance: 363818.94051386946\n",
      "  model = cd_fast.enet_coordinate_descent_gram(\n",
      "/opt/anaconda3/envs/metis/lib/python3.8/site-packages/sklearn/linear_model/_coordinate_descent.py:525: ConvergenceWarning: Objective did not converge. You might want to increase the number of iterations. Duality gap: 1615946.8725407869, tolerance: 363818.94051386946\n",
      "  model = cd_fast.enet_coordinate_descent_gram(\n",
      "/opt/anaconda3/envs/metis/lib/python3.8/site-packages/sklearn/linear_model/_coordinate_descent.py:525: ConvergenceWarning: Objective did not converge. You might want to increase the number of iterations. Duality gap: 1617066.1703119762, tolerance: 363818.94051386946\n",
      "  model = cd_fast.enet_coordinate_descent_gram(\n",
      "/opt/anaconda3/envs/metis/lib/python3.8/site-packages/sklearn/linear_model/_coordinate_descent.py:525: ConvergenceWarning: Objective did not converge. You might want to increase the number of iterations. Duality gap: 1617968.296023164, tolerance: 363818.94051386946\n",
      "  model = cd_fast.enet_coordinate_descent_gram(\n",
      "/opt/anaconda3/envs/metis/lib/python3.8/site-packages/sklearn/linear_model/_coordinate_descent.py:525: ConvergenceWarning: Objective did not converge. You might want to increase the number of iterations. Duality gap: 1618687.5788532123, tolerance: 363818.94051386946\n",
      "  model = cd_fast.enet_coordinate_descent_gram(\n",
      "/opt/anaconda3/envs/metis/lib/python3.8/site-packages/sklearn/linear_model/_coordinate_descent.py:525: ConvergenceWarning: Objective did not converge. You might want to increase the number of iterations. Duality gap: 1619253.1362442002, tolerance: 363818.94051386946\n",
      "  model = cd_fast.enet_coordinate_descent_gram(\n",
      "/opt/anaconda3/envs/metis/lib/python3.8/site-packages/sklearn/linear_model/_coordinate_descent.py:525: ConvergenceWarning: Objective did not converge. You might want to increase the number of iterations. Duality gap: 1619689.7530926093, tolerance: 363818.94051386946\n",
      "  model = cd_fast.enet_coordinate_descent_gram(\n"
     ]
    },
    {
     "data": {
      "text/plain": [
       "Lasso(alpha=103)"
      ]
     },
     "execution_count": 68,
     "metadata": {},
     "output_type": "execute_result"
    }
   ],
   "source": [
    "# Transform the train set to get ready for Lasso modeling\n",
    "\n",
    "std = StandardScaler()\n",
    "std.fit(X_train.values)\n",
    "X_tr = std.transform(X_train.values)\n",
    "X_te = std.transform(X_val.values)\n",
    "alphavec = 10**np.linspace(-2,2,200)\n",
    "\n",
    "lasso_model_1 = LassoCV(alphas = alphavec, cv=5)  # Auto search the best alpha\n",
    "lasso_model_2 = Lasso(alpha = 103)  # Manually fine tuning the alpha\n",
    "lasso_model_1.fit(X_tr, y_train)\n",
    "lasso_model_2.fit(X_tr, y_train)\n"
   ]
  },
  {
   "cell_type": "code",
   "execution_count": 1466,
   "metadata": {
    "ExecuteTime": {
     "end_time": "2020-10-07T21:20:48.375793Z",
     "start_time": "2020-10-07T21:20:48.349926Z"
    }
   },
   "outputs": [
    {
     "data": {
      "text/plain": [
       "10.843659686896109"
      ]
     },
     "execution_count": 1466,
     "metadata": {},
     "output_type": "execute_result"
    },
    {
     "data": {
      "text/plain": [
       "[('ROA', -0.0),\n",
       " ('Total Liabilities Net Minority Interest', 0.0),\n",
       " ('Total Equity Gross Minority Interest', 88.66352156890535),\n",
       " ('Common Stock Equity', 0.0),\n",
       " ('Tangible Book Value', 4.409912741074169),\n",
       " ('Invested Capital', 0.0),\n",
       " ('End Cash Position', 38.189602313800215),\n",
       " ('Financing Cash Flow', -126.17896829729446),\n",
       " ('Operating Cash Flow', 0.0),\n",
       " ('Total Revenue', 0.10015833930762566),\n",
       " ('Investing Cash Flow', 0.0),\n",
       " ('Tax Effect of Unusual Items', -0.0),\n",
       " ('Pretax Income', 2237.546232167447)]"
      ]
     },
     "execution_count": 1466,
     "metadata": {},
     "output_type": "execute_result"
    }
   ],
   "source": [
    "\n",
    "lasso_model_1.alpha_\n",
    "list(zip(X_train.columns, lasso_model_1.coef_))\n",
    "#test_set_pred = lasso_model.predict(X_te)\n",
    "#r2_score(y_test, test_set_pred)"
   ]
  },
  {
   "cell_type": "code",
   "execution_count": 1469,
   "metadata": {
    "ExecuteTime": {
     "end_time": "2020-10-07T21:21:38.751159Z",
     "start_time": "2020-10-07T21:21:38.729925Z"
    }
   },
   "outputs": [
    {
     "data": {
      "text/plain": [
       "[('ROA', 0.0),\n",
       " ('Total Liabilities Net Minority Interest', 0.0),\n",
       " ('Total Equity Gross Minority Interest', 0.0),\n",
       " ('Common Stock Equity', 0.0),\n",
       " ('Tangible Book Value', 0.0),\n",
       " ('Invested Capital', 0.0),\n",
       " ('End Cash Position', 0.0),\n",
       " ('Financing Cash Flow', -55.21261910665487),\n",
       " ('Operating Cash Flow', 148.88880599303317),\n",
       " ('Total Revenue', 0.0),\n",
       " ('Investing Cash Flow', 0.0),\n",
       " ('Tax Effect of Unusual Items', -0.0),\n",
       " ('Pretax Income', 2131.7184880371983)]"
      ]
     },
     "execution_count": 1469,
     "metadata": {},
     "output_type": "execute_result"
    }
   ],
   "source": [
    "\n",
    "list(zip(X_train.columns, lasso_model_2.coef_))"
   ]
  },
  {
   "cell_type": "code",
   "execution_count": 1411,
   "metadata": {
    "ExecuteTime": {
     "end_time": "2020-10-07T18:42:45.456955Z",
     "start_time": "2020-10-07T18:42:45.441971Z"
    }
   },
   "outputs": [
    {
     "data": {
      "text/plain": [
       "(0.9926207509223679, 0.9732903199751243)"
      ]
     },
     "execution_count": 1411,
     "metadata": {},
     "output_type": "execute_result"
    }
   ],
   "source": [
    "(lasso_model_1.score(X_tr,y_train),lasso_model_1.score(X_te,y_val)) # LassoCV Score"
   ]
  },
  {
   "cell_type": "code",
   "execution_count": 1538,
   "metadata": {
    "ExecuteTime": {
     "end_time": "2020-10-07T22:19:32.270157Z",
     "start_time": "2020-10-07T22:19:32.237623Z"
    }
   },
   "outputs": [
    {
     "data": {
      "text/plain": [
       "(0.9899212170933728, 0.981944057277908)"
      ]
     },
     "execution_count": 1538,
     "metadata": {},
     "output_type": "execute_result"
    }
   ],
   "source": [
    "(lasso_model_2.score(X_tr,y_train),lasso_model_2.score(X_te,y_val)) \n",
    "\n",
    "# Close the gap the most by 0.00797716 - best model"
   ]
  },
  {
   "cell_type": "markdown",
   "metadata": {},
   "source": [
    "## Ridge Modeling"
   ]
  },
  {
   "cell_type": "code",
   "execution_count": 1418,
   "metadata": {
    "ExecuteTime": {
     "end_time": "2020-10-07T18:45:59.745801Z",
     "start_time": "2020-10-07T18:45:52.781310Z"
    }
   },
   "outputs": [
    {
     "data": {
      "text/plain": [
       "RidgeCV(alphas=array([1.00000000e-02, 1.04737090e-02, 1.09698580e-02, 1.14895100e-02,\n",
       "       1.20337784e-02, 1.26038293e-02, 1.32008840e-02, 1.38262217e-02,\n",
       "       1.44811823e-02, 1.51671689e-02, 1.58856513e-02, 1.66381689e-02,\n",
       "       1.74263339e-02, 1.82518349e-02, 1.91164408e-02, 2.00220037e-02,\n",
       "       2.09704640e-02, 2.19638537e-02, 2.30043012e-02, 2.40940356e-02,\n",
       "       2.52353917e-02, 2.64308149e-0...\n",
       "       3.44896226e+01, 3.61234270e+01, 3.78346262e+01, 3.96268864e+01,\n",
       "       4.15040476e+01, 4.34701316e+01, 4.55293507e+01, 4.76861170e+01,\n",
       "       4.99450512e+01, 5.23109931e+01, 5.47890118e+01, 5.73844165e+01,\n",
       "       6.01027678e+01, 6.29498899e+01, 6.59318827e+01, 6.90551352e+01,\n",
       "       7.23263390e+01, 7.57525026e+01, 7.93409667e+01, 8.30994195e+01,\n",
       "       8.70359136e+01, 9.11588830e+01, 9.54771611e+01, 1.00000000e+02]),\n",
       "        cv=5)"
      ]
     },
     "execution_count": 1418,
     "metadata": {},
     "output_type": "execute_result"
    }
   ],
   "source": [
    "# Compare with Ridge Model\n",
    "\n",
    "lr_model_ridge = RidgeCV(alphas = alphavec, cv=5)\n",
    "lr_model_ridge.fit(X_tr, y_train)\n",
    "\n",
    "#list(zip(X_tr.columns, lr_model_ridge.coef_))\n",
    "#test_set_pred = lr_model_ridge.predict(X_te)\n",
    "#r2_score(y_test, test_set_pred)"
   ]
  },
  {
   "cell_type": "code",
   "execution_count": 1419,
   "metadata": {
    "ExecuteTime": {
     "end_time": "2020-10-07T18:46:03.742443Z",
     "start_time": "2020-10-07T18:46:03.708039Z"
    }
   },
   "outputs": [
    {
     "data": {
      "text/plain": [
       "(0.9930934979388399, 0.9694835008517089)"
      ]
     },
     "execution_count": 1419,
     "metadata": {},
     "output_type": "execute_result"
    }
   ],
   "source": [
    "(lr_model_ridge.score(X_tr,y_train),lr_model_ridge.score(X_te,y_val)) # Not as good as Lasso"
   ]
  },
  {
   "cell_type": "markdown",
   "metadata": {},
   "source": [
    "## Residuals on Lasso Model 2"
   ]
  },
  {
   "cell_type": "code",
   "execution_count": 1473,
   "metadata": {
    "ExecuteTime": {
     "end_time": "2020-10-07T21:28:40.283543Z",
     "start_time": "2020-10-07T21:28:40.219652Z"
    }
   },
   "outputs": [
    {
     "data": {
      "text/html": [
       "<div>\n",
       "<style scoped>\n",
       "    .dataframe tbody tr th:only-of-type {\n",
       "        vertical-align: middle;\n",
       "    }\n",
       "\n",
       "    .dataframe tbody tr th {\n",
       "        vertical-align: top;\n",
       "    }\n",
       "\n",
       "    .dataframe thead th {\n",
       "        text-align: right;\n",
       "    }\n",
       "</style>\n",
       "<table border=\"1\" class=\"dataframe\">\n",
       "  <thead>\n",
       "    <tr style=\"text-align: right;\">\n",
       "      <th></th>\n",
       "      <th>ROA</th>\n",
       "      <th>Total Liabilities Net Minority Interest</th>\n",
       "      <th>Total Equity Gross Minority Interest</th>\n",
       "      <th>Common Stock Equity</th>\n",
       "      <th>Tangible Book Value</th>\n",
       "      <th>Invested Capital</th>\n",
       "      <th>End Cash Position</th>\n",
       "      <th>Financing Cash Flow</th>\n",
       "      <th>Operating Cash Flow</th>\n",
       "      <th>Total Revenue</th>\n",
       "      <th>Investing Cash Flow</th>\n",
       "      <th>Tax Effect of Unusual Items</th>\n",
       "      <th>Pretax Income</th>\n",
       "    </tr>\n",
       "  </thead>\n",
       "  <tbody>\n",
       "    <tr>\n",
       "      <th>255</th>\n",
       "      <td>0.045939</td>\n",
       "      <td>541025.0</td>\n",
       "      <td>874475.0</td>\n",
       "      <td>874475.0</td>\n",
       "      <td>404808.0</td>\n",
       "      <td>947475.0</td>\n",
       "      <td>129185.0</td>\n",
       "      <td>-63593.0</td>\n",
       "      <td>101283.0</td>\n",
       "      <td>1614762.0</td>\n",
       "      <td>-40587.0</td>\n",
       "      <td>-322.0720</td>\n",
       "      <td>85923.0</td>\n",
       "    </tr>\n",
       "    <tr>\n",
       "      <th>111</th>\n",
       "      <td>0.080767</td>\n",
       "      <td>11010.0</td>\n",
       "      <td>15102.0</td>\n",
       "      <td>15102.0</td>\n",
       "      <td>9938.0</td>\n",
       "      <td>15102.0</td>\n",
       "      <td>10098.0</td>\n",
       "      <td>-535.0</td>\n",
       "      <td>6253.0</td>\n",
       "      <td>29971.0</td>\n",
       "      <td>-2900.0</td>\n",
       "      <td>-103.0381</td>\n",
       "      <td>2362.0</td>\n",
       "    </tr>\n",
       "    <tr>\n",
       "      <th>1116</th>\n",
       "      <td>0.061524</td>\n",
       "      <td>185336.0</td>\n",
       "      <td>168301.0</td>\n",
       "      <td>168457.0</td>\n",
       "      <td>38876.0</td>\n",
       "      <td>311985.0</td>\n",
       "      <td>14097.0</td>\n",
       "      <td>-13656.0</td>\n",
       "      <td>37174.0</td>\n",
       "      <td>181059.0</td>\n",
       "      <td>-27147.0</td>\n",
       "      <td>-649.6320</td>\n",
       "      <td>24189.0</td>\n",
       "    </tr>\n",
       "    <tr>\n",
       "      <th>597</th>\n",
       "      <td>-0.676661</td>\n",
       "      <td>245189.0</td>\n",
       "      <td>49774.0</td>\n",
       "      <td>49774.0</td>\n",
       "      <td>49774.0</td>\n",
       "      <td>159631.0</td>\n",
       "      <td>130689.0</td>\n",
       "      <td>124305.0</td>\n",
       "      <td>-190822.0</td>\n",
       "      <td>40893.0</td>\n",
       "      <td>78450.0</td>\n",
       "      <td>0.0000</td>\n",
       "      <td>-199550.0</td>\n",
       "    </tr>\n",
       "    <tr>\n",
       "      <th>766</th>\n",
       "      <td>-0.626477</td>\n",
       "      <td>9697.0</td>\n",
       "      <td>27543.0</td>\n",
       "      <td>15774.0</td>\n",
       "      <td>15774.0</td>\n",
       "      <td>21239.0</td>\n",
       "      <td>18261.0</td>\n",
       "      <td>43035.0</td>\n",
       "      <td>-22185.0</td>\n",
       "      <td>2073.0</td>\n",
       "      <td>-16285.0</td>\n",
       "      <td>0.0000</td>\n",
       "      <td>-23330.0</td>\n",
       "    </tr>\n",
       "    <tr>\n",
       "      <th>...</th>\n",
       "      <td>...</td>\n",
       "      <td>...</td>\n",
       "      <td>...</td>\n",
       "      <td>...</td>\n",
       "      <td>...</td>\n",
       "      <td>...</td>\n",
       "      <td>...</td>\n",
       "      <td>...</td>\n",
       "      <td>...</td>\n",
       "      <td>...</td>\n",
       "      <td>...</td>\n",
       "      <td>...</td>\n",
       "      <td>...</td>\n",
       "    </tr>\n",
       "    <tr>\n",
       "      <th>949</th>\n",
       "      <td>0.010446</td>\n",
       "      <td>1414196.0</td>\n",
       "      <td>170703.0</td>\n",
       "      <td>170703.0</td>\n",
       "      <td>161015.0</td>\n",
       "      <td>427368.0</td>\n",
       "      <td>103930.0</td>\n",
       "      <td>139782.0</td>\n",
       "      <td>4124.0</td>\n",
       "      <td>65266.0</td>\n",
       "      <td>-73272.0</td>\n",
       "      <td>-93.9949</td>\n",
       "      <td>19514.0</td>\n",
       "    </tr>\n",
       "    <tr>\n",
       "      <th>1083</th>\n",
       "      <td>0.128422</td>\n",
       "      <td>5769300.0</td>\n",
       "      <td>2781400.0</td>\n",
       "      <td>2781400.0</td>\n",
       "      <td>659700.0</td>\n",
       "      <td>3583300.0</td>\n",
       "      <td>1659800.0</td>\n",
       "      <td>-1488200.0</td>\n",
       "      <td>1440900.0</td>\n",
       "      <td>4040500.0</td>\n",
       "      <td>771900.0</td>\n",
       "      <td>0.0000</td>\n",
       "      <td>1437100.0</td>\n",
       "    </tr>\n",
       "    <tr>\n",
       "      <th>1196</th>\n",
       "      <td>0.043670</td>\n",
       "      <td>6286000.0</td>\n",
       "      <td>-269000.0</td>\n",
       "      <td>-289000.0</td>\n",
       "      <td>-3924000.0</td>\n",
       "      <td>2685000.0</td>\n",
       "      <td>619000.0</td>\n",
       "      <td>88000.0</td>\n",
       "      <td>400000.0</td>\n",
       "      <td>4475000.0</td>\n",
       "      <td>-376000.0</td>\n",
       "      <td>-235.9551</td>\n",
       "      <td>267000.0</td>\n",
       "    </tr>\n",
       "    <tr>\n",
       "      <th>1028</th>\n",
       "      <td>-0.001085</td>\n",
       "      <td>481072.0</td>\n",
       "      <td>158088.0</td>\n",
       "      <td>158088.0</td>\n",
       "      <td>-183170.0</td>\n",
       "      <td>288633.0</td>\n",
       "      <td>69192.0</td>\n",
       "      <td>129438.0</td>\n",
       "      <td>48406.0</td>\n",
       "      <td>461697.0</td>\n",
       "      <td>-249545.0</td>\n",
       "      <td>-26.7090</td>\n",
       "      <td>-9599.0</td>\n",
       "    </tr>\n",
       "    <tr>\n",
       "      <th>13</th>\n",
       "      <td>0.014186</td>\n",
       "      <td>45289.0</td>\n",
       "      <td>71375.0</td>\n",
       "      <td>71375.0</td>\n",
       "      <td>33958.0</td>\n",
       "      <td>90798.0</td>\n",
       "      <td>4249.0</td>\n",
       "      <td>-3742.0</td>\n",
       "      <td>3224.0</td>\n",
       "      <td>133446.0</td>\n",
       "      <td>-2906.0</td>\n",
       "      <td>38.6100</td>\n",
       "      <td>1370.0</td>\n",
       "    </tr>\n",
       "  </tbody>\n",
       "</table>\n",
       "<p>233 rows × 13 columns</p>\n",
       "</div>"
      ],
      "text/plain": [
       "           ROA  Total Liabilities Net Minority Interest  \\\n",
       "255   0.045939                                 541025.0   \n",
       "111   0.080767                                  11010.0   \n",
       "1116  0.061524                                 185336.0   \n",
       "597  -0.676661                                 245189.0   \n",
       "766  -0.626477                                   9697.0   \n",
       "...        ...                                      ...   \n",
       "949   0.010446                                1414196.0   \n",
       "1083  0.128422                                5769300.0   \n",
       "1196  0.043670                                6286000.0   \n",
       "1028 -0.001085                                 481072.0   \n",
       "13    0.014186                                  45289.0   \n",
       "\n",
       "      Total Equity Gross Minority Interest  Common Stock Equity  \\\n",
       "255                               874475.0             874475.0   \n",
       "111                                15102.0              15102.0   \n",
       "1116                              168301.0             168457.0   \n",
       "597                                49774.0              49774.0   \n",
       "766                                27543.0              15774.0   \n",
       "...                                    ...                  ...   \n",
       "949                               170703.0             170703.0   \n",
       "1083                             2781400.0            2781400.0   \n",
       "1196                             -269000.0            -289000.0   \n",
       "1028                              158088.0             158088.0   \n",
       "13                                 71375.0              71375.0   \n",
       "\n",
       "      Tangible Book Value  Invested Capital  End Cash Position  \\\n",
       "255              404808.0          947475.0           129185.0   \n",
       "111                9938.0           15102.0            10098.0   \n",
       "1116              38876.0          311985.0            14097.0   \n",
       "597               49774.0          159631.0           130689.0   \n",
       "766               15774.0           21239.0            18261.0   \n",
       "...                   ...               ...                ...   \n",
       "949              161015.0          427368.0           103930.0   \n",
       "1083             659700.0         3583300.0          1659800.0   \n",
       "1196           -3924000.0         2685000.0           619000.0   \n",
       "1028            -183170.0          288633.0            69192.0   \n",
       "13                33958.0           90798.0             4249.0   \n",
       "\n",
       "      Financing Cash Flow  Operating Cash Flow  Total Revenue  \\\n",
       "255              -63593.0             101283.0      1614762.0   \n",
       "111                -535.0               6253.0        29971.0   \n",
       "1116             -13656.0              37174.0       181059.0   \n",
       "597              124305.0            -190822.0        40893.0   \n",
       "766               43035.0             -22185.0         2073.0   \n",
       "...                   ...                  ...            ...   \n",
       "949              139782.0               4124.0        65266.0   \n",
       "1083           -1488200.0            1440900.0      4040500.0   \n",
       "1196              88000.0             400000.0      4475000.0   \n",
       "1028             129438.0              48406.0       461697.0   \n",
       "13                -3742.0               3224.0       133446.0   \n",
       "\n",
       "      Investing Cash Flow  Tax Effect of Unusual Items  Pretax Income  \n",
       "255              -40587.0                    -322.0720        85923.0  \n",
       "111               -2900.0                    -103.0381         2362.0  \n",
       "1116             -27147.0                    -649.6320        24189.0  \n",
       "597               78450.0                       0.0000      -199550.0  \n",
       "766              -16285.0                       0.0000       -23330.0  \n",
       "...                   ...                          ...            ...  \n",
       "949              -73272.0                     -93.9949        19514.0  \n",
       "1083             771900.0                       0.0000      1437100.0  \n",
       "1196            -376000.0                    -235.9551       267000.0  \n",
       "1028            -249545.0                     -26.7090        -9599.0  \n",
       "13                -2906.0                      38.6100         1370.0  \n",
       "\n",
       "[233 rows x 13 columns]"
      ]
     },
     "execution_count": 1473,
     "metadata": {},
     "output_type": "execute_result"
    }
   ],
   "source": [
    "X_test"
   ]
  },
  {
   "cell_type": "code",
   "execution_count": 1483,
   "metadata": {
    "ExecuteTime": {
     "end_time": "2020-10-07T21:33:10.609192Z",
     "start_time": "2020-10-07T21:33:10.593264Z"
    }
   },
   "outputs": [],
   "source": [
    "test_set_pred = lasso_model_2.predict(X_test.iloc[:,0:])"
   ]
  },
  {
   "cell_type": "code",
   "execution_count": 1542,
   "metadata": {
    "ExecuteTime": {
     "end_time": "2020-10-07T23:45:07.638765Z",
     "start_time": "2020-10-07T23:45:07.359338Z"
    }
   },
   "outputs": [
    {
     "data": {
      "image/svg+xml": [
       "<?xml version=\"1.0\" encoding=\"utf-8\" standalone=\"no\"?>\n",
       "<!DOCTYPE svg PUBLIC \"-//W3C//DTD SVG 1.1//EN\"\n",
       "  \"http://www.w3.org/Graphics/SVG/1.1/DTD/svg11.dtd\">\n",
       "<!-- Created with matplotlib (https://matplotlib.org/) -->\n",
       "<svg height=\"268.483625pt\" version=\"1.1\" viewBox=\"0 0 388.06175 268.483625\" width=\"388.06175pt\" xmlns=\"http://www.w3.org/2000/svg\" xmlns:xlink=\"http://www.w3.org/1999/xlink\">\n",
       " <metadata>\n",
       "  <rdf:RDF xmlns:cc=\"http://creativecommons.org/ns#\" xmlns:dc=\"http://purl.org/dc/elements/1.1/\" xmlns:rdf=\"http://www.w3.org/1999/02/22-rdf-syntax-ns#\">\n",
       "   <cc:Work>\n",
       "    <dc:type rdf:resource=\"http://purl.org/dc/dcmitype/StillImage\"/>\n",
       "    <dc:date>2020-10-07T16:45:07.567058</dc:date>\n",
       "    <dc:format>image/svg+xml</dc:format>\n",
       "    <dc:creator>\n",
       "     <cc:Agent>\n",
       "      <dc:title>Matplotlib v3.3.2, https://matplotlib.org/</dc:title>\n",
       "     </cc:Agent>\n",
       "    </dc:creator>\n",
       "   </cc:Work>\n",
       "  </rdf:RDF>\n",
       " </metadata>\n",
       " <defs>\n",
       "  <style type=\"text/css\">*{stroke-linecap:butt;stroke-linejoin:round;}</style>\n",
       " </defs>\n",
       " <g id=\"figure_1\">\n",
       "  <g id=\"patch_1\">\n",
       "   <path d=\"M 0 268.483625 \n",
       "L 388.06175 268.483625 \n",
       "L 388.06175 0 \n",
       "L 0 0 \n",
       "z\n",
       "\" style=\"fill:#ffffff;\"/>\n",
       "  </g>\n",
       "  <g id=\"axes_1\">\n",
       "   <g id=\"patch_2\">\n",
       "    <path d=\"M 46.06175 224.64 \n",
       "L 380.86175 224.64 \n",
       "L 380.86175 7.2 \n",
       "L 46.06175 7.2 \n",
       "z\n",
       "\" style=\"fill:#ffffff;\"/>\n",
       "   </g>\n",
       "   <g id=\"matplotlib.axis_1\">\n",
       "    <g id=\"xtick_1\">\n",
       "     <g id=\"line2d_1\">\n",
       "      <path clip-path=\"url(#p9ddb8eb776)\" d=\"M 105.483541 224.64 \n",
       "L 105.483541 7.2 \n",
       "\" style=\"fill:none;stroke:#cccccc;stroke-linecap:round;\"/>\n",
       "     </g>\n",
       "     <g id=\"text_1\">\n",
       "      <!-- 0.0 -->\n",
       "      <g style=\"fill:#262626;\" transform=\"translate(96.309541 243.588312)scale(0.132 -0.132)\">\n",
       "       <defs>\n",
       "        <path d=\"M 4.15625 35.296875 \n",
       "Q 4.15625 48 6.765625 55.734375 \n",
       "Q 9.375 63.484375 14.515625 67.671875 \n",
       "Q 19.671875 71.875 27.484375 71.875 \n",
       "Q 33.25 71.875 37.59375 69.546875 \n",
       "Q 41.9375 67.234375 44.765625 62.859375 \n",
       "Q 47.609375 58.5 49.21875 52.21875 \n",
       "Q 50.828125 45.953125 50.828125 35.296875 \n",
       "Q 50.828125 22.703125 48.234375 14.96875 \n",
       "Q 45.65625 7.234375 40.5 3 \n",
       "Q 35.359375 -1.21875 27.484375 -1.21875 \n",
       "Q 17.140625 -1.21875 11.234375 6.203125 \n",
       "Q 4.15625 15.140625 4.15625 35.296875 \n",
       "z\n",
       "M 13.1875 35.296875 \n",
       "Q 13.1875 17.671875 17.3125 11.828125 \n",
       "Q 21.4375 6 27.484375 6 \n",
       "Q 33.546875 6 37.671875 11.859375 \n",
       "Q 41.796875 17.71875 41.796875 35.296875 \n",
       "Q 41.796875 52.984375 37.671875 58.78125 \n",
       "Q 33.546875 64.59375 27.390625 64.59375 \n",
       "Q 21.34375 64.59375 17.71875 59.46875 \n",
       "Q 13.1875 52.9375 13.1875 35.296875 \n",
       "z\n",
       "\" id=\"ArialMT-48\"/>\n",
       "        <path d=\"M 9.078125 0 \n",
       "L 9.078125 10.015625 \n",
       "L 19.09375 10.015625 \n",
       "L 19.09375 0 \n",
       "z\n",
       "\" id=\"ArialMT-46\"/>\n",
       "       </defs>\n",
       "       <use xlink:href=\"#ArialMT-48\"/>\n",
       "       <use x=\"55.615234\" xlink:href=\"#ArialMT-46\"/>\n",
       "       <use x=\"83.398438\" xlink:href=\"#ArialMT-48\"/>\n",
       "      </g>\n",
       "     </g>\n",
       "    </g>\n",
       "    <g id=\"xtick_2\">\n",
       "     <g id=\"line2d_2\">\n",
       "      <path clip-path=\"url(#p9ddb8eb776)\" d=\"M 180.307629 224.64 \n",
       "L 180.307629 7.2 \n",
       "\" style=\"fill:none;stroke:#cccccc;stroke-linecap:round;\"/>\n",
       "     </g>\n",
       "     <g id=\"text_2\">\n",
       "      <!-- 0.5 -->\n",
       "      <g style=\"fill:#262626;\" transform=\"translate(171.133629 243.588312)scale(0.132 -0.132)\">\n",
       "       <defs>\n",
       "        <path d=\"M 4.15625 18.75 \n",
       "L 13.375 19.53125 \n",
       "Q 14.40625 12.796875 18.140625 9.390625 \n",
       "Q 21.875 6 27.15625 6 \n",
       "Q 33.5 6 37.890625 10.78125 \n",
       "Q 42.28125 15.578125 42.28125 23.484375 \n",
       "Q 42.28125 31 38.0625 35.34375 \n",
       "Q 33.84375 39.703125 27 39.703125 \n",
       "Q 22.75 39.703125 19.328125 37.765625 \n",
       "Q 15.921875 35.84375 13.96875 32.765625 \n",
       "L 5.71875 33.84375 \n",
       "L 12.640625 70.609375 \n",
       "L 48.25 70.609375 \n",
       "L 48.25 62.203125 \n",
       "L 19.671875 62.203125 \n",
       "L 15.828125 42.96875 \n",
       "Q 22.265625 47.46875 29.34375 47.46875 \n",
       "Q 38.71875 47.46875 45.15625 40.96875 \n",
       "Q 51.609375 34.46875 51.609375 24.265625 \n",
       "Q 51.609375 14.546875 45.953125 7.46875 \n",
       "Q 39.0625 -1.21875 27.15625 -1.21875 \n",
       "Q 17.390625 -1.21875 11.203125 4.25 \n",
       "Q 5.03125 9.71875 4.15625 18.75 \n",
       "z\n",
       "\" id=\"ArialMT-53\"/>\n",
       "       </defs>\n",
       "       <use xlink:href=\"#ArialMT-48\"/>\n",
       "       <use x=\"55.615234\" xlink:href=\"#ArialMT-46\"/>\n",
       "       <use x=\"83.398438\" xlink:href=\"#ArialMT-53\"/>\n",
       "      </g>\n",
       "     </g>\n",
       "    </g>\n",
       "    <g id=\"xtick_3\">\n",
       "     <g id=\"line2d_3\">\n",
       "      <path clip-path=\"url(#p9ddb8eb776)\" d=\"M 255.131717 224.64 \n",
       "L 255.131717 7.2 \n",
       "\" style=\"fill:none;stroke:#cccccc;stroke-linecap:round;\"/>\n",
       "     </g>\n",
       "     <g id=\"text_3\">\n",
       "      <!-- 1.0 -->\n",
       "      <g style=\"fill:#262626;\" transform=\"translate(245.957717 243.588312)scale(0.132 -0.132)\">\n",
       "       <defs>\n",
       "        <path d=\"M 37.25 0 \n",
       "L 28.46875 0 \n",
       "L 28.46875 56 \n",
       "Q 25.296875 52.984375 20.140625 49.953125 \n",
       "Q 14.984375 46.921875 10.890625 45.40625 \n",
       "L 10.890625 53.90625 \n",
       "Q 18.265625 57.375 23.78125 62.296875 \n",
       "Q 29.296875 67.234375 31.59375 71.875 \n",
       "L 37.25 71.875 \n",
       "z\n",
       "\" id=\"ArialMT-49\"/>\n",
       "       </defs>\n",
       "       <use xlink:href=\"#ArialMT-49\"/>\n",
       "       <use x=\"55.615234\" xlink:href=\"#ArialMT-46\"/>\n",
       "       <use x=\"83.398438\" xlink:href=\"#ArialMT-48\"/>\n",
       "      </g>\n",
       "     </g>\n",
       "    </g>\n",
       "    <g id=\"xtick_4\">\n",
       "     <g id=\"line2d_4\">\n",
       "      <path clip-path=\"url(#p9ddb8eb776)\" d=\"M 329.955804 224.64 \n",
       "L 329.955804 7.2 \n",
       "\" style=\"fill:none;stroke:#cccccc;stroke-linecap:round;\"/>\n",
       "     </g>\n",
       "     <g id=\"text_4\">\n",
       "      <!-- 1.5 -->\n",
       "      <g style=\"fill:#262626;\" transform=\"translate(320.781804 243.588312)scale(0.132 -0.132)\">\n",
       "       <use xlink:href=\"#ArialMT-49\"/>\n",
       "       <use x=\"55.615234\" xlink:href=\"#ArialMT-46\"/>\n",
       "       <use x=\"83.398438\" xlink:href=\"#ArialMT-53\"/>\n",
       "      </g>\n",
       "     </g>\n",
       "    </g>\n",
       "    <g id=\"text_5\">\n",
       "     <!-- 1e10 -->\n",
       "     <g style=\"fill:#262626;\" transform=\"translate(351.5 258.660125)scale(0.132 -0.132)\">\n",
       "      <defs>\n",
       "       <path d=\"M 42.09375 16.703125 \n",
       "L 51.171875 15.578125 \n",
       "Q 49.03125 7.625 43.21875 3.21875 \n",
       "Q 37.40625 -1.171875 28.375 -1.171875 \n",
       "Q 17 -1.171875 10.328125 5.828125 \n",
       "Q 3.65625 12.84375 3.65625 25.484375 \n",
       "Q 3.65625 38.578125 10.390625 45.796875 \n",
       "Q 17.140625 53.03125 27.875 53.03125 \n",
       "Q 38.28125 53.03125 44.875 45.953125 \n",
       "Q 51.46875 38.875 51.46875 26.03125 \n",
       "Q 51.46875 25.25 51.421875 23.6875 \n",
       "L 12.75 23.6875 \n",
       "Q 13.234375 15.140625 17.578125 10.59375 \n",
       "Q 21.921875 6.0625 28.421875 6.0625 \n",
       "Q 33.25 6.0625 36.671875 8.59375 \n",
       "Q 40.09375 11.140625 42.09375 16.703125 \n",
       "z\n",
       "M 13.234375 30.90625 \n",
       "L 42.1875 30.90625 \n",
       "Q 41.609375 37.453125 38.875 40.71875 \n",
       "Q 34.671875 45.796875 27.984375 45.796875 \n",
       "Q 21.921875 45.796875 17.796875 41.75 \n",
       "Q 13.671875 37.703125 13.234375 30.90625 \n",
       "z\n",
       "\" id=\"ArialMT-101\"/>\n",
       "      </defs>\n",
       "      <use xlink:href=\"#ArialMT-49\"/>\n",
       "      <use x=\"55.615234\" xlink:href=\"#ArialMT-101\"/>\n",
       "      <use x=\"111.230469\" xlink:href=\"#ArialMT-49\"/>\n",
       "      <use x=\"166.845703\" xlink:href=\"#ArialMT-48\"/>\n",
       "     </g>\n",
       "    </g>\n",
       "   </g>\n",
       "   <g id=\"matplotlib.axis_2\">\n",
       "    <g id=\"ytick_1\">\n",
       "     <g id=\"line2d_5\">\n",
       "      <path clip-path=\"url(#p9ddb8eb776)\" d=\"M 46.06175 179.718164 \n",
       "L 380.86175 179.718164 \n",
       "\" style=\"fill:none;stroke:#cccccc;stroke-linecap:round;\"/>\n",
       "     </g>\n",
       "     <g id=\"text_6\">\n",
       "      <!-- 0 -->\n",
       "      <g style=\"fill:#262626;\" transform=\"translate(29.221313 184.44232)scale(0.132 -0.132)\">\n",
       "       <use xlink:href=\"#ArialMT-48\"/>\n",
       "      </g>\n",
       "     </g>\n",
       "    </g>\n",
       "    <g id=\"ytick_2\">\n",
       "     <g id=\"line2d_6\">\n",
       "      <path clip-path=\"url(#p9ddb8eb776)\" d=\"M 46.06175 125.506655 \n",
       "L 380.86175 125.506655 \n",
       "\" style=\"fill:none;stroke:#cccccc;stroke-linecap:round;\"/>\n",
       "     </g>\n",
       "     <g id=\"text_7\">\n",
       "      <!-- 2000 -->\n",
       "      <g style=\"fill:#262626;\" transform=\"translate(7.2 130.230811)scale(0.132 -0.132)\">\n",
       "       <defs>\n",
       "        <path d=\"M 50.34375 8.453125 \n",
       "L 50.34375 0 \n",
       "L 3.03125 0 \n",
       "Q 2.9375 3.171875 4.046875 6.109375 \n",
       "Q 5.859375 10.9375 9.828125 15.625 \n",
       "Q 13.8125 20.3125 21.34375 26.46875 \n",
       "Q 33.015625 36.03125 37.109375 41.625 \n",
       "Q 41.21875 47.21875 41.21875 52.203125 \n",
       "Q 41.21875 57.421875 37.46875 61 \n",
       "Q 33.734375 64.59375 27.734375 64.59375 \n",
       "Q 21.390625 64.59375 17.578125 60.78125 \n",
       "Q 13.765625 56.984375 13.71875 50.25 \n",
       "L 4.6875 51.171875 \n",
       "Q 5.609375 61.28125 11.65625 66.578125 \n",
       "Q 17.71875 71.875 27.9375 71.875 \n",
       "Q 38.234375 71.875 44.234375 66.15625 \n",
       "Q 50.25 60.453125 50.25 52 \n",
       "Q 50.25 47.703125 48.484375 43.546875 \n",
       "Q 46.734375 39.40625 42.65625 34.8125 \n",
       "Q 38.578125 30.21875 29.109375 22.21875 \n",
       "Q 21.1875 15.578125 18.9375 13.203125 \n",
       "Q 16.703125 10.84375 15.234375 8.453125 \n",
       "z\n",
       "\" id=\"ArialMT-50\"/>\n",
       "       </defs>\n",
       "       <use xlink:href=\"#ArialMT-50\"/>\n",
       "       <use x=\"55.615234\" xlink:href=\"#ArialMT-48\"/>\n",
       "       <use x=\"111.230469\" xlink:href=\"#ArialMT-48\"/>\n",
       "       <use x=\"166.845703\" xlink:href=\"#ArialMT-48\"/>\n",
       "      </g>\n",
       "     </g>\n",
       "    </g>\n",
       "    <g id=\"ytick_3\">\n",
       "     <g id=\"line2d_7\">\n",
       "      <path clip-path=\"url(#p9ddb8eb776)\" d=\"M 46.06175 71.295146 \n",
       "L 380.86175 71.295146 \n",
       "\" style=\"fill:none;stroke:#cccccc;stroke-linecap:round;\"/>\n",
       "     </g>\n",
       "     <g id=\"text_8\">\n",
       "      <!-- 4000 -->\n",
       "      <g style=\"fill:#262626;\" transform=\"translate(7.2 76.019302)scale(0.132 -0.132)\">\n",
       "       <defs>\n",
       "        <path d=\"M 32.328125 0 \n",
       "L 32.328125 17.140625 \n",
       "L 1.265625 17.140625 \n",
       "L 1.265625 25.203125 \n",
       "L 33.9375 71.578125 \n",
       "L 41.109375 71.578125 \n",
       "L 41.109375 25.203125 \n",
       "L 50.78125 25.203125 \n",
       "L 50.78125 17.140625 \n",
       "L 41.109375 17.140625 \n",
       "L 41.109375 0 \n",
       "z\n",
       "M 32.328125 25.203125 \n",
       "L 32.328125 57.46875 \n",
       "L 9.90625 25.203125 \n",
       "z\n",
       "\" id=\"ArialMT-52\"/>\n",
       "       </defs>\n",
       "       <use xlink:href=\"#ArialMT-52\"/>\n",
       "       <use x=\"55.615234\" xlink:href=\"#ArialMT-48\"/>\n",
       "       <use x=\"111.230469\" xlink:href=\"#ArialMT-48\"/>\n",
       "       <use x=\"166.845703\" xlink:href=\"#ArialMT-48\"/>\n",
       "      </g>\n",
       "     </g>\n",
       "    </g>\n",
       "    <g id=\"ytick_4\">\n",
       "     <g id=\"line2d_8\">\n",
       "      <path clip-path=\"url(#p9ddb8eb776)\" d=\"M 46.06175 17.083636 \n",
       "L 380.86175 17.083636 \n",
       "\" style=\"fill:none;stroke:#cccccc;stroke-linecap:round;\"/>\n",
       "     </g>\n",
       "     <g id=\"text_9\">\n",
       "      <!-- 6000 -->\n",
       "      <g style=\"fill:#262626;\" transform=\"translate(7.2 21.807793)scale(0.132 -0.132)\">\n",
       "       <defs>\n",
       "        <path d=\"M 49.75 54.046875 \n",
       "L 41.015625 53.375 \n",
       "Q 39.84375 58.546875 37.703125 60.890625 \n",
       "Q 34.125 64.65625 28.90625 64.65625 \n",
       "Q 24.703125 64.65625 21.53125 62.3125 \n",
       "Q 17.390625 59.28125 14.984375 53.46875 \n",
       "Q 12.59375 47.65625 12.5 36.921875 \n",
       "Q 15.671875 41.75 20.265625 44.09375 \n",
       "Q 24.859375 46.4375 29.890625 46.4375 \n",
       "Q 38.671875 46.4375 44.84375 39.96875 \n",
       "Q 51.03125 33.5 51.03125 23.25 \n",
       "Q 51.03125 16.5 48.125 10.71875 \n",
       "Q 45.21875 4.9375 40.140625 1.859375 \n",
       "Q 35.0625 -1.21875 28.609375 -1.21875 \n",
       "Q 17.625 -1.21875 10.6875 6.859375 \n",
       "Q 3.765625 14.9375 3.765625 33.5 \n",
       "Q 3.765625 54.25 11.421875 63.671875 \n",
       "Q 18.109375 71.875 29.4375 71.875 \n",
       "Q 37.890625 71.875 43.28125 67.140625 \n",
       "Q 48.6875 62.40625 49.75 54.046875 \n",
       "z\n",
       "M 13.875 23.1875 \n",
       "Q 13.875 18.65625 15.796875 14.5 \n",
       "Q 17.71875 10.359375 21.1875 8.171875 \n",
       "Q 24.65625 6 28.46875 6 \n",
       "Q 34.03125 6 38.03125 10.484375 \n",
       "Q 42.046875 14.984375 42.046875 22.703125 \n",
       "Q 42.046875 30.125 38.078125 34.390625 \n",
       "Q 34.125 38.671875 28.125 38.671875 \n",
       "Q 22.171875 38.671875 18.015625 34.390625 \n",
       "Q 13.875 30.125 13.875 23.1875 \n",
       "z\n",
       "\" id=\"ArialMT-54\"/>\n",
       "       </defs>\n",
       "       <use xlink:href=\"#ArialMT-54\"/>\n",
       "       <use x=\"55.615234\" xlink:href=\"#ArialMT-48\"/>\n",
       "       <use x=\"111.230469\" xlink:href=\"#ArialMT-48\"/>\n",
       "       <use x=\"166.845703\" xlink:href=\"#ArialMT-48\"/>\n",
       "      </g>\n",
       "     </g>\n",
       "    </g>\n",
       "   </g>\n",
       "   <g id=\"PathCollection_1\">\n",
       "    <defs>\n",
       "     <path d=\"M 0 3 \n",
       "C 0.795609 3 1.55874 2.683901 2.12132 2.12132 \n",
       "C 2.683901 1.55874 3 0.795609 3 0 \n",
       "C 3 -0.795609 2.683901 -1.55874 2.12132 -2.12132 \n",
       "C 1.55874 -2.683901 0.795609 -3 0 -3 \n",
       "C -0.795609 -3 -1.55874 -2.683901 -2.12132 -2.12132 \n",
       "C -2.683901 -1.55874 -3 -0.795609 -3 0 \n",
       "C -3 0.795609 -2.683901 1.55874 -2.12132 2.12132 \n",
       "C -1.55874 2.683901 -0.795609 3 0 3 \n",
       "z\n",
       "\" id=\"mc9cf12fb08\" style=\"stroke:#4c72b0;stroke-opacity:0.5;\"/>\n",
       "    </defs>\n",
       "    <g clip-path=\"url(#p9ddb8eb776)\">\n",
       "     <use style=\"fill:#4c72b0;fill-opacity:0.5;stroke:#4c72b0;stroke-opacity:0.5;\" x=\"108.502765\" xlink:href=\"#mc9cf12fb08\" y=\"178.018552\"/>\n",
       "     <use style=\"fill:#4c72b0;fill-opacity:0.5;stroke:#4c72b0;stroke-opacity:0.5;\" x=\"105.573267\" xlink:href=\"#mc9cf12fb08\" y=\"179.718164\"/>\n",
       "     <use style=\"fill:#4c72b0;fill-opacity:0.5;stroke:#4c72b0;stroke-opacity:0.5;\" x=\"106.349301\" xlink:href=\"#mc9cf12fb08\" y=\"179.194644\"/>\n",
       "     <use style=\"fill:#4c72b0;fill-opacity:0.5;stroke:#4c72b0;stroke-opacity:0.5;\" x=\"98.589867\" xlink:href=\"#mc9cf12fb08\" y=\"185.092043\"/>\n",
       "     <use style=\"fill:#4c72b0;fill-opacity:0.5;stroke:#4c72b0;stroke-opacity:0.5;\" x=\"104.65431\" xlink:href=\"#mc9cf12fb08\" y=\"180.35583\"/>\n",
       "     <use style=\"fill:#4c72b0;fill-opacity:0.5;stroke:#4c72b0;stroke-opacity:0.5;\" x=\"99.977954\" xlink:href=\"#mc9cf12fb08\" y=\"184.076924\"/>\n",
       "     <use style=\"fill:#4c72b0;fill-opacity:0.5;stroke:#4c72b0;stroke-opacity:0.5;\" x=\"105.245027\" xlink:href=\"#mc9cf12fb08\" y=\"179.718164\"/>\n",
       "     <use style=\"fill:#4c72b0;fill-opacity:0.5;stroke:#4c72b0;stroke-opacity:0.5;\" x=\"77.797334\" xlink:href=\"#mc9cf12fb08\" y=\"203.469189\"/>\n",
       "     <use style=\"fill:#4c72b0;fill-opacity:0.5;stroke:#4c72b0;stroke-opacity:0.5;\" x=\"100.733016\" xlink:href=\"#mc9cf12fb08\" y=\"183.10344\"/>\n",
       "     <use style=\"fill:#4c72b0;fill-opacity:0.5;stroke:#4c72b0;stroke-opacity:0.5;\" x=\"107.54332\" xlink:href=\"#mc9cf12fb08\" y=\"178.067575\"/>\n",
       "     <use style=\"fill:#4c72b0;fill-opacity:0.5;stroke:#4c72b0;stroke-opacity:0.5;\" x=\"101.955302\" xlink:href=\"#mc9cf12fb08\" y=\"179.718164\"/>\n",
       "     <use style=\"fill:#4c72b0;fill-opacity:0.5;stroke:#4c72b0;stroke-opacity:0.5;\" x=\"105.476736\" xlink:href=\"#mc9cf12fb08\" y=\"179.718164\"/>\n",
       "     <use style=\"fill:#4c72b0;fill-opacity:0.5;stroke:#4c72b0;stroke-opacity:0.5;\" x=\"104.786851\" xlink:href=\"#mc9cf12fb08\" y=\"180.084824\"/>\n",
       "     <use style=\"fill:#4c72b0;fill-opacity:0.5;stroke:#4c72b0;stroke-opacity:0.5;\" x=\"101.857186\" xlink:href=\"#mc9cf12fb08\" y=\"179.718164\"/>\n",
       "     <use style=\"fill:#4c72b0;fill-opacity:0.5;stroke:#4c72b0;stroke-opacity:0.5;\" x=\"125.737665\" xlink:href=\"#mc9cf12fb08\" y=\"167.528381\"/>\n",
       "     <use style=\"fill:#4c72b0;fill-opacity:0.5;stroke:#4c72b0;stroke-opacity:0.5;\" x=\"103.789806\" xlink:href=\"#mc9cf12fb08\" y=\"180.960963\"/>\n",
       "     <use style=\"fill:#4c72b0;fill-opacity:0.5;stroke:#4c72b0;stroke-opacity:0.5;\" x=\"105.698665\" xlink:href=\"#mc9cf12fb08\" y=\"179.718164\"/>\n",
       "     <use style=\"fill:#4c72b0;fill-opacity:0.5;stroke:#4c72b0;stroke-opacity:0.5;\" x=\"99.229547\" xlink:href=\"#mc9cf12fb08\" y=\"184.648967\"/>\n",
       "     <use style=\"fill:#4c72b0;fill-opacity:0.5;stroke:#4c72b0;stroke-opacity:0.5;\" x=\"108.24278\" xlink:href=\"#mc9cf12fb08\" y=\"177.978126\"/>\n",
       "     <use style=\"fill:#4c72b0;fill-opacity:0.5;stroke:#4c72b0;stroke-opacity:0.5;\" x=\"103.575667\" xlink:href=\"#mc9cf12fb08\" y=\"181.155799\"/>\n",
       "     <use style=\"fill:#4c72b0;fill-opacity:0.5;stroke:#4c72b0;stroke-opacity:0.5;\" x=\"102.088418\" xlink:href=\"#mc9cf12fb08\" y=\"182.446456\"/>\n",
       "     <use style=\"fill:#4c72b0;fill-opacity:0.5;stroke:#4c72b0;stroke-opacity:0.5;\" x=\"105.422452\" xlink:href=\"#mc9cf12fb08\" y=\"179.718164\"/>\n",
       "     <use style=\"fill:#4c72b0;fill-opacity:0.5;stroke:#4c72b0;stroke-opacity:0.5;\" x=\"104.185108\" xlink:href=\"#mc9cf12fb08\" y=\"180.789644\"/>\n",
       "     <use style=\"fill:#4c72b0;fill-opacity:0.5;stroke:#4c72b0;stroke-opacity:0.5;\" x=\"104.522301\" xlink:href=\"#mc9cf12fb08\" y=\"180.460531\"/>\n",
       "     <use style=\"fill:#4c72b0;fill-opacity:0.5;stroke:#4c72b0;stroke-opacity:0.5;\" x=\"104.049637\" xlink:href=\"#mc9cf12fb08\" y=\"180.862724\"/>\n",
       "     <use style=\"fill:#4c72b0;fill-opacity:0.5;stroke:#4c72b0;stroke-opacity:0.5;\" x=\"95.903509\" xlink:href=\"#mc9cf12fb08\" y=\"187.241177\"/>\n",
       "     <use style=\"fill:#4c72b0;fill-opacity:0.5;stroke:#4c72b0;stroke-opacity:0.5;\" x=\"105.377836\" xlink:href=\"#mc9cf12fb08\" y=\"179.718164\"/>\n",
       "     <use style=\"fill:#4c72b0;fill-opacity:0.5;stroke:#4c72b0;stroke-opacity:0.5;\" x=\"105.398881\" xlink:href=\"#mc9cf12fb08\" y=\"179.718164\"/>\n",
       "     <use style=\"fill:#4c72b0;fill-opacity:0.5;stroke:#4c72b0;stroke-opacity:0.5;\" x=\"105.675635\" xlink:href=\"#mc9cf12fb08\" y=\"179.718164\"/>\n",
       "     <use style=\"fill:#4c72b0;fill-opacity:0.5;stroke:#4c72b0;stroke-opacity:0.5;\" x=\"106.270589\" xlink:href=\"#mc9cf12fb08\" y=\"179.718164\"/>\n",
       "     <use style=\"fill:#4c72b0;fill-opacity:0.5;stroke:#4c72b0;stroke-opacity:0.5;\" x=\"101.947148\" xlink:href=\"#mc9cf12fb08\" y=\"182.568947\"/>\n",
       "     <use style=\"fill:#4c72b0;fill-opacity:0.5;stroke:#4c72b0;stroke-opacity:0.5;\" x=\"105.591527\" xlink:href=\"#mc9cf12fb08\" y=\"179.718164\"/>\n",
       "     <use style=\"fill:#4c72b0;fill-opacity:0.5;stroke:#4c72b0;stroke-opacity:0.5;\" x=\"108.458221\" xlink:href=\"#mc9cf12fb08\" y=\"177.812996\"/>\n",
       "     <use style=\"fill:#4c72b0;fill-opacity:0.5;stroke:#4c72b0;stroke-opacity:0.5;\" x=\"128.821686\" xlink:href=\"#mc9cf12fb08\" y=\"160.703263\"/>\n",
       "     <use style=\"fill:#4c72b0;fill-opacity:0.5;stroke:#4c72b0;stroke-opacity:0.5;\" x=\"91.292195\" xlink:href=\"#mc9cf12fb08\" y=\"190.939011\"/>\n",
       "     <use style=\"fill:#4c72b0;fill-opacity:0.5;stroke:#4c72b0;stroke-opacity:0.5;\" x=\"105.24889\" xlink:href=\"#mc9cf12fb08\" y=\"179.718164\"/>\n",
       "     <use style=\"fill:#4c72b0;fill-opacity:0.5;stroke:#4c72b0;stroke-opacity:0.5;\" x=\"103.192028\" xlink:href=\"#mc9cf12fb08\" y=\"179.718164\"/>\n",
       "     <use style=\"fill:#4c72b0;fill-opacity:0.5;stroke:#4c72b0;stroke-opacity:0.5;\" x=\"106.343755\" xlink:href=\"#mc9cf12fb08\" y=\"179.277815\"/>\n",
       "     <use style=\"fill:#4c72b0;fill-opacity:0.5;stroke:#4c72b0;stroke-opacity:0.5;\" x=\"113.12613\" xlink:href=\"#mc9cf12fb08\" y=\"174.446463\"/>\n",
       "     <use style=\"fill:#4c72b0;fill-opacity:0.5;stroke:#4c72b0;stroke-opacity:0.5;\" x=\"102.790347\" xlink:href=\"#mc9cf12fb08\" y=\"182.175301\"/>\n",
       "     <use style=\"fill:#4c72b0;fill-opacity:0.5;stroke:#4c72b0;stroke-opacity:0.5;\" x=\"105.207227\" xlink:href=\"#mc9cf12fb08\" y=\"179.902895\"/>\n",
       "     <use style=\"fill:#4c72b0;fill-opacity:0.5;stroke:#4c72b0;stroke-opacity:0.5;\" x=\"104.015098\" xlink:href=\"#mc9cf12fb08\" y=\"180.869882\"/>\n",
       "     <use style=\"fill:#4c72b0;fill-opacity:0.5;stroke:#4c72b0;stroke-opacity:0.5;\" x=\"110.132605\" xlink:href=\"#mc9cf12fb08\" y=\"176.849318\"/>\n",
       "     <use style=\"fill:#4c72b0;fill-opacity:0.5;stroke:#4c72b0;stroke-opacity:0.5;\" x=\"104.178812\" xlink:href=\"#mc9cf12fb08\" y=\"180.80993\"/>\n",
       "     <use style=\"fill:#4c72b0;fill-opacity:0.5;stroke:#4c72b0;stroke-opacity:0.5;\" x=\"105.216523\" xlink:href=\"#mc9cf12fb08\" y=\"179.718164\"/>\n",
       "     <use style=\"fill:#4c72b0;fill-opacity:0.5;stroke:#4c72b0;stroke-opacity:0.5;\" x=\"104.540008\" xlink:href=\"#mc9cf12fb08\" y=\"180.443311\"/>\n",
       "     <use style=\"fill:#4c72b0;fill-opacity:0.5;stroke:#4c72b0;stroke-opacity:0.5;\" x=\"104.52794\" xlink:href=\"#mc9cf12fb08\" y=\"179.718164\"/>\n",
       "     <use style=\"fill:#4c72b0;fill-opacity:0.5;stroke:#4c72b0;stroke-opacity:0.5;\" x=\"120.127621\" xlink:href=\"#mc9cf12fb08\" y=\"169.703553\"/>\n",
       "     <use style=\"fill:#4c72b0;fill-opacity:0.5;stroke:#4c72b0;stroke-opacity:0.5;\" x=\"104.434462\" xlink:href=\"#mc9cf12fb08\" y=\"179.718164\"/>\n",
       "     <use style=\"fill:#4c72b0;fill-opacity:0.5;stroke:#4c72b0;stroke-opacity:0.5;\" x=\"100.803138\" xlink:href=\"#mc9cf12fb08\" y=\"179.718164\"/>\n",
       "     <use style=\"fill:#4c72b0;fill-opacity:0.5;stroke:#4c72b0;stroke-opacity:0.5;\" x=\"104.605424\" xlink:href=\"#mc9cf12fb08\" y=\"180.437871\"/>\n",
       "     <use style=\"fill:#4c72b0;fill-opacity:0.5;stroke:#4c72b0;stroke-opacity:0.5;\" x=\"102.983183\" xlink:href=\"#mc9cf12fb08\" y=\"181.719623\"/>\n",
       "     <use style=\"fill:#4c72b0;fill-opacity:0.5;stroke:#4c72b0;stroke-opacity:0.5;\" x=\"106.239588\" xlink:href=\"#mc9cf12fb08\" y=\"179.718164\"/>\n",
       "     <use style=\"fill:#4c72b0;fill-opacity:0.5;stroke:#4c72b0;stroke-opacity:0.5;\" x=\"106.251154\" xlink:href=\"#mc9cf12fb08\" y=\"179.232822\"/>\n",
       "     <use style=\"fill:#4c72b0;fill-opacity:0.5;stroke:#4c72b0;stroke-opacity:0.5;\" x=\"105.197614\" xlink:href=\"#mc9cf12fb08\" y=\"179.718164\"/>\n",
       "     <use style=\"fill:#4c72b0;fill-opacity:0.5;stroke:#4c72b0;stroke-opacity:0.5;\" x=\"104.668896\" xlink:href=\"#mc9cf12fb08\" y=\"179.718164\"/>\n",
       "     <use style=\"fill:#4c72b0;fill-opacity:0.5;stroke:#4c72b0;stroke-opacity:0.5;\" x=\"104.495186\" xlink:href=\"#mc9cf12fb08\" y=\"180.403007\"/>\n",
       "     <use style=\"fill:#4c72b0;fill-opacity:0.5;stroke:#4c72b0;stroke-opacity:0.5;\" x=\"103.208954\" xlink:href=\"#mc9cf12fb08\" y=\"181.417397\"/>\n",
       "     <use style=\"fill:#4c72b0;fill-opacity:0.5;stroke:#4c72b0;stroke-opacity:0.5;\" x=\"105.573605\" xlink:href=\"#mc9cf12fb08\" y=\"179.718164\"/>\n",
       "     <use style=\"fill:#4c72b0;fill-opacity:0.5;stroke:#4c72b0;stroke-opacity:0.5;\" x=\"139.627495\" xlink:href=\"#mc9cf12fb08\" y=\"157.455124\"/>\n",
       "     <use style=\"fill:#4c72b0;fill-opacity:0.5;stroke:#4c72b0;stroke-opacity:0.5;\" x=\"105.147325\" xlink:href=\"#mc9cf12fb08\" y=\"180.002612\"/>\n",
       "     <use style=\"fill:#4c72b0;fill-opacity:0.5;stroke:#4c72b0;stroke-opacity:0.5;\" x=\"112.045138\" xlink:href=\"#mc9cf12fb08\" y=\"175.429502\"/>\n",
       "     <use style=\"fill:#4c72b0;fill-opacity:0.5;stroke:#4c72b0;stroke-opacity:0.5;\" x=\"105.148248\" xlink:href=\"#mc9cf12fb08\" y=\"179.718164\"/>\n",
       "     <use style=\"fill:#4c72b0;fill-opacity:0.5;stroke:#4c72b0;stroke-opacity:0.5;\" x=\"107.957177\" xlink:href=\"#mc9cf12fb08\" y=\"178.142073\"/>\n",
       "     <use style=\"fill:#4c72b0;fill-opacity:0.5;stroke:#4c72b0;stroke-opacity:0.5;\" x=\"105.631838\" xlink:href=\"#mc9cf12fb08\" y=\"179.718164\"/>\n",
       "     <use style=\"fill:#4c72b0;fill-opacity:0.5;stroke:#4c72b0;stroke-opacity:0.5;\" x=\"123.326066\" xlink:href=\"#mc9cf12fb08\" y=\"165.459995\"/>\n",
       "     <use style=\"fill:#4c72b0;fill-opacity:0.5;stroke:#4c72b0;stroke-opacity:0.5;\" x=\"104.491968\" xlink:href=\"#mc9cf12fb08\" y=\"180.498888\"/>\n",
       "     <use style=\"fill:#4c72b0;fill-opacity:0.5;stroke:#4c72b0;stroke-opacity:0.5;\" x=\"104.844426\" xlink:href=\"#mc9cf12fb08\" y=\"180.257371\"/>\n",
       "     <use style=\"fill:#4c72b0;fill-opacity:0.5;stroke:#4c72b0;stroke-opacity:0.5;\" x=\"107.829748\" xlink:href=\"#mc9cf12fb08\" y=\"179.718164\"/>\n",
       "     <use style=\"fill:#4c72b0;fill-opacity:0.5;stroke:#4c72b0;stroke-opacity:0.5;\" x=\"104.738082\" xlink:href=\"#mc9cf12fb08\" y=\"181.271432\"/>\n",
       "     <use style=\"fill:#4c72b0;fill-opacity:0.5;stroke:#4c72b0;stroke-opacity:0.5;\" x=\"104.895209\" xlink:href=\"#mc9cf12fb08\" y=\"179.718164\"/>\n",
       "     <use style=\"fill:#4c72b0;fill-opacity:0.5;stroke:#4c72b0;stroke-opacity:0.5;\" x=\"101.127444\" xlink:href=\"#mc9cf12fb08\" y=\"183.221393\"/>\n",
       "     <use style=\"fill:#4c72b0;fill-opacity:0.5;stroke:#4c72b0;stroke-opacity:0.5;\" x=\"105.193482\" xlink:href=\"#mc9cf12fb08\" y=\"180.070444\"/>\n",
       "     <use style=\"fill:#4c72b0;fill-opacity:0.5;stroke:#4c72b0;stroke-opacity:0.5;\" x=\"98.825465\" xlink:href=\"#mc9cf12fb08\" y=\"185.160371\"/>\n",
       "     <use style=\"fill:#4c72b0;fill-opacity:0.5;stroke:#4c72b0;stroke-opacity:0.5;\" x=\"105.054358\" xlink:href=\"#mc9cf12fb08\" y=\"180.055219\"/>\n",
       "     <use style=\"fill:#4c72b0;fill-opacity:0.5;stroke:#4c72b0;stroke-opacity:0.5;\" x=\"105.186431\" xlink:href=\"#mc9cf12fb08\" y=\"179.718164\"/>\n",
       "     <use style=\"fill:#4c72b0;fill-opacity:0.5;stroke:#4c72b0;stroke-opacity:0.5;\" x=\"105.435\" xlink:href=\"#mc9cf12fb08\" y=\"179.718164\"/>\n",
       "     <use style=\"fill:#4c72b0;fill-opacity:0.5;stroke:#4c72b0;stroke-opacity:0.5;\" x=\"118.862248\" xlink:href=\"#mc9cf12fb08\" y=\"171.985792\"/>\n",
       "     <use style=\"fill:#4c72b0;fill-opacity:0.5;stroke:#4c72b0;stroke-opacity:0.5;\" x=\"107.213094\" xlink:href=\"#mc9cf12fb08\" y=\"178.669399\"/>\n",
       "     <use style=\"fill:#4c72b0;fill-opacity:0.5;stroke:#4c72b0;stroke-opacity:0.5;\" x=\"105.112074\" xlink:href=\"#mc9cf12fb08\" y=\"180.023787\"/>\n",
       "     <use style=\"fill:#4c72b0;fill-opacity:0.5;stroke:#4c72b0;stroke-opacity:0.5;\" x=\"105.933848\" xlink:href=\"#mc9cf12fb08\" y=\"179.718164\"/>\n",
       "     <use style=\"fill:#4c72b0;fill-opacity:0.5;stroke:#4c72b0;stroke-opacity:0.5;\" x=\"105.263874\" xlink:href=\"#mc9cf12fb08\" y=\"179.718164\"/>\n",
       "     <use style=\"fill:#4c72b0;fill-opacity:0.5;stroke:#4c72b0;stroke-opacity:0.5;\" x=\"98.961394\" xlink:href=\"#mc9cf12fb08\" y=\"189.828475\"/>\n",
       "     <use style=\"fill:#4c72b0;fill-opacity:0.5;stroke:#4c72b0;stroke-opacity:0.5;\" x=\"99.832205\" xlink:href=\"#mc9cf12fb08\" y=\"184.113281\"/>\n",
       "     <use style=\"fill:#4c72b0;fill-opacity:0.5;stroke:#4c72b0;stroke-opacity:0.5;\" x=\"102.655967\" xlink:href=\"#mc9cf12fb08\" y=\"181.886288\"/>\n",
       "     <use style=\"fill:#4c72b0;fill-opacity:0.5;stroke:#4c72b0;stroke-opacity:0.5;\" x=\"104.006552\" xlink:href=\"#mc9cf12fb08\" y=\"180.895313\"/>\n",
       "     <use style=\"fill:#4c72b0;fill-opacity:0.5;stroke:#4c72b0;stroke-opacity:0.5;\" x=\"105.523323\" xlink:href=\"#mc9cf12fb08\" y=\"179.718164\"/>\n",
       "     <use style=\"fill:#4c72b0;fill-opacity:0.5;stroke:#4c72b0;stroke-opacity:0.5;\" x=\"104.843454\" xlink:href=\"#mc9cf12fb08\" y=\"180.22077\"/>\n",
       "     <use style=\"fill:#4c72b0;fill-opacity:0.5;stroke:#4c72b0;stroke-opacity:0.5;\" x=\"121.94873\" xlink:href=\"#mc9cf12fb08\" y=\"165.522745\"/>\n",
       "     <use style=\"fill:#4c72b0;fill-opacity:0.5;stroke:#4c72b0;stroke-opacity:0.5;\" x=\"106.310843\" xlink:href=\"#mc9cf12fb08\" y=\"179.144731\"/>\n",
       "     <use style=\"fill:#4c72b0;fill-opacity:0.5;stroke:#4c72b0;stroke-opacity:0.5;\" x=\"104.49648\" xlink:href=\"#mc9cf12fb08\" y=\"179.718164\"/>\n",
       "     <use style=\"fill:#4c72b0;fill-opacity:0.5;stroke:#4c72b0;stroke-opacity:0.5;\" x=\"104.700862\" xlink:href=\"#mc9cf12fb08\" y=\"180.486734\"/>\n",
       "     <use style=\"fill:#4c72b0;fill-opacity:0.5;stroke:#4c72b0;stroke-opacity:0.5;\" x=\"113.147825\" xlink:href=\"#mc9cf12fb08\" y=\"174.869541\"/>\n",
       "     <use style=\"fill:#4c72b0;fill-opacity:0.5;stroke:#4c72b0;stroke-opacity:0.5;\" x=\"102.311978\" xlink:href=\"#mc9cf12fb08\" y=\"182.007408\"/>\n",
       "     <use style=\"fill:#4c72b0;fill-opacity:0.5;stroke:#4c72b0;stroke-opacity:0.5;\" x=\"105.311699\" xlink:href=\"#mc9cf12fb08\" y=\"179.862004\"/>\n",
       "     <use style=\"fill:#4c72b0;fill-opacity:0.5;stroke:#4c72b0;stroke-opacity:0.5;\" x=\"103.025268\" xlink:href=\"#mc9cf12fb08\" y=\"181.850525\"/>\n",
       "     <use style=\"fill:#4c72b0;fill-opacity:0.5;stroke:#4c72b0;stroke-opacity:0.5;\" x=\"104.598255\" xlink:href=\"#mc9cf12fb08\" y=\"180.363539\"/>\n",
       "     <use style=\"fill:#4c72b0;fill-opacity:0.5;stroke:#4c72b0;stroke-opacity:0.5;\" x=\"90.964376\" xlink:href=\"#mc9cf12fb08\" y=\"191.978674\"/>\n",
       "     <use style=\"fill:#4c72b0;fill-opacity:0.5;stroke:#4c72b0;stroke-opacity:0.5;\" x=\"104.297447\" xlink:href=\"#mc9cf12fb08\" y=\"180.649279\"/>\n",
       "     <use style=\"fill:#4c72b0;fill-opacity:0.5;stroke:#4c72b0;stroke-opacity:0.5;\" x=\"104.514392\" xlink:href=\"#mc9cf12fb08\" y=\"180.520576\"/>\n",
       "     <use style=\"fill:#4c72b0;fill-opacity:0.5;stroke:#4c72b0;stroke-opacity:0.5;\" x=\"104.968456\" xlink:href=\"#mc9cf12fb08\" y=\"179.718164\"/>\n",
       "     <use style=\"fill:#4c72b0;fill-opacity:0.5;stroke:#4c72b0;stroke-opacity:0.5;\" x=\"105.335966\" xlink:href=\"#mc9cf12fb08\" y=\"179.718164\"/>\n",
       "     <use style=\"fill:#4c72b0;fill-opacity:0.5;stroke:#4c72b0;stroke-opacity:0.5;\" x=\"105.637082\" xlink:href=\"#mc9cf12fb08\" y=\"179.718164\"/>\n",
       "     <use style=\"fill:#4c72b0;fill-opacity:0.5;stroke:#4c72b0;stroke-opacity:0.5;\" x=\"101.894103\" xlink:href=\"#mc9cf12fb08\" y=\"182.544557\"/>\n",
       "     <use style=\"fill:#4c72b0;fill-opacity:0.5;stroke:#4c72b0;stroke-opacity:0.5;\" x=\"106.301969\" xlink:href=\"#mc9cf12fb08\" y=\"179.718164\"/>\n",
       "     <use style=\"fill:#4c72b0;fill-opacity:0.5;stroke:#4c72b0;stroke-opacity:0.5;\" x=\"103.740375\" xlink:href=\"#mc9cf12fb08\" y=\"181.188272\"/>\n",
       "     <use style=\"fill:#4c72b0;fill-opacity:0.5;stroke:#4c72b0;stroke-opacity:0.5;\" x=\"105.109337\" xlink:href=\"#mc9cf12fb08\" y=\"179.718164\"/>\n",
       "     <use style=\"fill:#4c72b0;fill-opacity:0.5;stroke:#4c72b0;stroke-opacity:0.5;\" x=\"106.649273\" xlink:href=\"#mc9cf12fb08\" y=\"179.454891\"/>\n",
       "     <use style=\"fill:#4c72b0;fill-opacity:0.5;stroke:#4c72b0;stroke-opacity:0.5;\" x=\"101.15304\" xlink:href=\"#mc9cf12fb08\" y=\"183.130556\"/>\n",
       "     <use style=\"fill:#4c72b0;fill-opacity:0.5;stroke:#4c72b0;stroke-opacity:0.5;\" x=\"108.581836\" xlink:href=\"#mc9cf12fb08\" y=\"177.989034\"/>\n",
       "     <use style=\"fill:#4c72b0;fill-opacity:0.5;stroke:#4c72b0;stroke-opacity:0.5;\" x=\"104.803509\" xlink:href=\"#mc9cf12fb08\" y=\"180.232764\"/>\n",
       "     <use style=\"fill:#4c72b0;fill-opacity:0.5;stroke:#4c72b0;stroke-opacity:0.5;\" x=\"105.448772\" xlink:href=\"#mc9cf12fb08\" y=\"179.718164\"/>\n",
       "     <use style=\"fill:#4c72b0;fill-opacity:0.5;stroke:#4c72b0;stroke-opacity:0.5;\" x=\"92.03557\" xlink:href=\"#mc9cf12fb08\" y=\"190.222929\"/>\n",
       "     <use style=\"fill:#4c72b0;fill-opacity:0.5;stroke:#4c72b0;stroke-opacity:0.5;\" x=\"109.37888\" xlink:href=\"#mc9cf12fb08\" y=\"176.973395\"/>\n",
       "     <use style=\"fill:#4c72b0;fill-opacity:0.5;stroke:#4c72b0;stroke-opacity:0.5;\" x=\"104.205431\" xlink:href=\"#mc9cf12fb08\" y=\"179.718164\"/>\n",
       "     <use style=\"fill:#4c72b0;fill-opacity:0.5;stroke:#4c72b0;stroke-opacity:0.5;\" x=\"136.094825\" xlink:href=\"#mc9cf12fb08\" y=\"158.295855\"/>\n",
       "     <use style=\"fill:#4c72b0;fill-opacity:0.5;stroke:#4c72b0;stroke-opacity:0.5;\" x=\"101.834534\" xlink:href=\"#mc9cf12fb08\" y=\"182.55608\"/>\n",
       "     <use style=\"fill:#4c72b0;fill-opacity:0.5;stroke:#4c72b0;stroke-opacity:0.5;\" x=\"104.826324\" xlink:href=\"#mc9cf12fb08\" y=\"180.223117\"/>\n",
       "     <use style=\"fill:#4c72b0;fill-opacity:0.5;stroke:#4c72b0;stroke-opacity:0.5;\" x=\"102.114647\" xlink:href=\"#mc9cf12fb08\" y=\"182.361626\"/>\n",
       "     <use style=\"fill:#4c72b0;fill-opacity:0.5;stroke:#4c72b0;stroke-opacity:0.5;\" x=\"103.803171\" xlink:href=\"#mc9cf12fb08\" y=\"181.020682\"/>\n",
       "     <use style=\"fill:#4c72b0;fill-opacity:0.5;stroke:#4c72b0;stroke-opacity:0.5;\" x=\"104.562926\" xlink:href=\"#mc9cf12fb08\" y=\"180.485002\"/>\n",
       "     <use style=\"fill:#4c72b0;fill-opacity:0.5;stroke:#4c72b0;stroke-opacity:0.5;\" x=\"103.563846\" xlink:href=\"#mc9cf12fb08\" y=\"181.211735\"/>\n",
       "     <use style=\"fill:#4c72b0;fill-opacity:0.5;stroke:#4c72b0;stroke-opacity:0.5;\" x=\"104.768022\" xlink:href=\"#mc9cf12fb08\" y=\"180.298726\"/>\n",
       "     <use style=\"fill:#4c72b0;fill-opacity:0.5;stroke:#4c72b0;stroke-opacity:0.5;\" x=\"103.118509\" xlink:href=\"#mc9cf12fb08\" y=\"179.718164\"/>\n",
       "     <use style=\"fill:#4c72b0;fill-opacity:0.5;stroke:#4c72b0;stroke-opacity:0.5;\" x=\"108.296295\" xlink:href=\"#mc9cf12fb08\" y=\"177.827321\"/>\n",
       "     <use style=\"fill:#4c72b0;fill-opacity:0.5;stroke:#4c72b0;stroke-opacity:0.5;\" x=\"100.864614\" xlink:href=\"#mc9cf12fb08\" y=\"183.416972\"/>\n",
       "     <use style=\"fill:#4c72b0;fill-opacity:0.5;stroke:#4c72b0;stroke-opacity:0.5;\" x=\"107.550833\" xlink:href=\"#mc9cf12fb08\" y=\"178.559033\"/>\n",
       "     <use style=\"fill:#4c72b0;fill-opacity:0.5;stroke:#4c72b0;stroke-opacity:0.5;\" x=\"105.238334\" xlink:href=\"#mc9cf12fb08\" y=\"179.718164\"/>\n",
       "     <use style=\"fill:#4c72b0;fill-opacity:0.5;stroke:#4c72b0;stroke-opacity:0.5;\" x=\"81.505829\" xlink:href=\"#mc9cf12fb08\" y=\"198.74642\"/>\n",
       "     <use style=\"fill:#4c72b0;fill-opacity:0.5;stroke:#4c72b0;stroke-opacity:0.5;\" x=\"108.107822\" xlink:href=\"#mc9cf12fb08\" y=\"173.64396\"/>\n",
       "     <use style=\"fill:#4c72b0;fill-opacity:0.5;stroke:#4c72b0;stroke-opacity:0.5;\" x=\"107.81199\" xlink:href=\"#mc9cf12fb08\" y=\"178.153617\"/>\n",
       "     <use style=\"fill:#4c72b0;fill-opacity:0.5;stroke:#4c72b0;stroke-opacity:0.5;\" x=\"365.643568\" xlink:href=\"#mc9cf12fb08\" y=\"60.66969\"/>\n",
       "     <use style=\"fill:#4c72b0;fill-opacity:0.5;stroke:#4c72b0;stroke-opacity:0.5;\" x=\"187.561429\" xlink:href=\"#mc9cf12fb08\" y=\"117.066823\"/>\n",
       "     <use style=\"fill:#4c72b0;fill-opacity:0.5;stroke:#4c72b0;stroke-opacity:0.5;\" x=\"105.240992\" xlink:href=\"#mc9cf12fb08\" y=\"180.028488\"/>\n",
       "     <use style=\"fill:#4c72b0;fill-opacity:0.5;stroke:#4c72b0;stroke-opacity:0.5;\" x=\"106.4932\" xlink:href=\"#mc9cf12fb08\" y=\"179.718164\"/>\n",
       "     <use style=\"fill:#4c72b0;fill-opacity:0.5;stroke:#4c72b0;stroke-opacity:0.5;\" x=\"103.659266\" xlink:href=\"#mc9cf12fb08\" y=\"179.718164\"/>\n",
       "     <use style=\"fill:#4c72b0;fill-opacity:0.5;stroke:#4c72b0;stroke-opacity:0.5;\" x=\"104.04804\" xlink:href=\"#mc9cf12fb08\" y=\"179.718164\"/>\n",
       "     <use style=\"fill:#4c72b0;fill-opacity:0.5;stroke:#4c72b0;stroke-opacity:0.5;\" x=\"122.913454\" xlink:href=\"#mc9cf12fb08\" y=\"167.374136\"/>\n",
       "     <use style=\"fill:#4c72b0;fill-opacity:0.5;stroke:#4c72b0;stroke-opacity:0.5;\" x=\"115.253534\" xlink:href=\"#mc9cf12fb08\" y=\"179.718164\"/>\n",
       "     <use style=\"fill:#4c72b0;fill-opacity:0.5;stroke:#4c72b0;stroke-opacity:0.5;\" x=\"103.458919\" xlink:href=\"#mc9cf12fb08\" y=\"181.320483\"/>\n",
       "     <use style=\"fill:#4c72b0;fill-opacity:0.5;stroke:#4c72b0;stroke-opacity:0.5;\" x=\"114.909459\" xlink:href=\"#mc9cf12fb08\" y=\"164.440277\"/>\n",
       "     <use style=\"fill:#4c72b0;fill-opacity:0.5;stroke:#4c72b0;stroke-opacity:0.5;\" x=\"112.024031\" xlink:href=\"#mc9cf12fb08\" y=\"175.457107\"/>\n",
       "     <use style=\"fill:#4c72b0;fill-opacity:0.5;stroke:#4c72b0;stroke-opacity:0.5;\" x=\"102.678001\" xlink:href=\"#mc9cf12fb08\" y=\"181.964892\"/>\n",
       "     <use style=\"fill:#4c72b0;fill-opacity:0.5;stroke:#4c72b0;stroke-opacity:0.5;\" x=\"105.167135\" xlink:href=\"#mc9cf12fb08\" y=\"179.718164\"/>\n",
       "     <use style=\"fill:#4c72b0;fill-opacity:0.5;stroke:#4c72b0;stroke-opacity:0.5;\" x=\"106.352592\" xlink:href=\"#mc9cf12fb08\" y=\"179.103677\"/>\n",
       "     <use style=\"fill:#4c72b0;fill-opacity:0.5;stroke:#4c72b0;stroke-opacity:0.5;\" x=\"101.731177\" xlink:href=\"#mc9cf12fb08\" y=\"182.621239\"/>\n",
       "     <use style=\"fill:#4c72b0;fill-opacity:0.5;stroke:#4c72b0;stroke-opacity:0.5;\" x=\"103.53537\" xlink:href=\"#mc9cf12fb08\" y=\"181.215689\"/>\n",
       "     <use style=\"fill:#4c72b0;fill-opacity:0.5;stroke:#4c72b0;stroke-opacity:0.5;\" x=\"103.011709\" xlink:href=\"#mc9cf12fb08\" y=\"181.727422\"/>\n",
       "     <use style=\"fill:#4c72b0;fill-opacity:0.5;stroke:#4c72b0;stroke-opacity:0.5;\" x=\"103.516443\" xlink:href=\"#mc9cf12fb08\" y=\"181.199732\"/>\n",
       "     <use style=\"fill:#4c72b0;fill-opacity:0.5;stroke:#4c72b0;stroke-opacity:0.5;\" x=\"103.926967\" xlink:href=\"#mc9cf12fb08\" y=\"180.880025\"/>\n",
       "     <use style=\"fill:#4c72b0;fill-opacity:0.5;stroke:#4c72b0;stroke-opacity:0.5;\" x=\"101.661393\" xlink:href=\"#mc9cf12fb08\" y=\"182.765935\"/>\n",
       "     <use style=\"fill:#4c72b0;fill-opacity:0.5;stroke:#4c72b0;stroke-opacity:0.5;\" x=\"103.488288\" xlink:href=\"#mc9cf12fb08\" y=\"181.592934\"/>\n",
       "     <use style=\"fill:#4c72b0;fill-opacity:0.5;stroke:#4c72b0;stroke-opacity:0.5;\" x=\"103.921851\" xlink:href=\"#mc9cf12fb08\" y=\"181.038675\"/>\n",
       "     <use style=\"fill:#4c72b0;fill-opacity:0.5;stroke:#4c72b0;stroke-opacity:0.5;\" x=\"107.309253\" xlink:href=\"#mc9cf12fb08\" y=\"178.532583\"/>\n",
       "     <use style=\"fill:#4c72b0;fill-opacity:0.5;stroke:#4c72b0;stroke-opacity:0.5;\" x=\"105.426072\" xlink:href=\"#mc9cf12fb08\" y=\"179.718164\"/>\n",
       "     <use style=\"fill:#4c72b0;fill-opacity:0.5;stroke:#4c72b0;stroke-opacity:0.5;\" x=\"113.368105\" xlink:href=\"#mc9cf12fb08\" y=\"175.016386\"/>\n",
       "     <use style=\"fill:#4c72b0;fill-opacity:0.5;stroke:#4c72b0;stroke-opacity:0.5;\" x=\"104.201311\" xlink:href=\"#mc9cf12fb08\" y=\"180.776096\"/>\n",
       "     <use style=\"fill:#4c72b0;fill-opacity:0.5;stroke:#4c72b0;stroke-opacity:0.5;\" x=\"108.937878\" xlink:href=\"#mc9cf12fb08\" y=\"178.856743\"/>\n",
       "     <use style=\"fill:#4c72b0;fill-opacity:0.5;stroke:#4c72b0;stroke-opacity:0.5;\" x=\"99.143203\" xlink:href=\"#mc9cf12fb08\" y=\"184.614602\"/>\n",
       "     <use style=\"fill:#4c72b0;fill-opacity:0.5;stroke:#4c72b0;stroke-opacity:0.5;\" x=\"104.744084\" xlink:href=\"#mc9cf12fb08\" y=\"180.235374\"/>\n",
       "     <use style=\"fill:#4c72b0;fill-opacity:0.5;stroke:#4c72b0;stroke-opacity:0.5;\" x=\"105.547794\" xlink:href=\"#mc9cf12fb08\" y=\"179.718164\"/>\n",
       "     <use style=\"fill:#4c72b0;fill-opacity:0.5;stroke:#4c72b0;stroke-opacity:0.5;\" x=\"106.342157\" xlink:href=\"#mc9cf12fb08\" y=\"179.718164\"/>\n",
       "     <use style=\"fill:#4c72b0;fill-opacity:0.5;stroke:#4c72b0;stroke-opacity:0.5;\" x=\"95.188042\" xlink:href=\"#mc9cf12fb08\" y=\"187.549911\"/>\n",
       "     <use style=\"fill:#4c72b0;fill-opacity:0.5;stroke:#4c72b0;stroke-opacity:0.5;\" x=\"104.215408\" xlink:href=\"#mc9cf12fb08\" y=\"180.733855\"/>\n",
       "     <use style=\"fill:#4c72b0;fill-opacity:0.5;stroke:#4c72b0;stroke-opacity:0.5;\" x=\"87.290192\" xlink:href=\"#mc9cf12fb08\" y=\"191.105527\"/>\n",
       "     <use style=\"fill:#4c72b0;fill-opacity:0.5;stroke:#4c72b0;stroke-opacity:0.5;\" x=\"108.613696\" xlink:href=\"#mc9cf12fb08\" y=\"175.436192\"/>\n",
       "     <use style=\"fill:#4c72b0;fill-opacity:0.5;stroke:#4c72b0;stroke-opacity:0.5;\" x=\"107.169951\" xlink:href=\"#mc9cf12fb08\" y=\"178.877433\"/>\n",
       "     <use style=\"fill:#4c72b0;fill-opacity:0.5;stroke:#4c72b0;stroke-opacity:0.5;\" x=\"106.27935\" xlink:href=\"#mc9cf12fb08\" y=\"179.718164\"/>\n",
       "     <use style=\"fill:#4c72b0;fill-opacity:0.5;stroke:#4c72b0;stroke-opacity:0.5;\" x=\"267.513469\" xlink:href=\"#mc9cf12fb08\" y=\"82.780396\"/>\n",
       "     <use style=\"fill:#4c72b0;fill-opacity:0.5;stroke:#4c72b0;stroke-opacity:0.5;\" x=\"106.244024\" xlink:href=\"#mc9cf12fb08\" y=\"179.718164\"/>\n",
       "     <use style=\"fill:#4c72b0;fill-opacity:0.5;stroke:#4c72b0;stroke-opacity:0.5;\" x=\"100.217791\" xlink:href=\"#mc9cf12fb08\" y=\"184.013147\"/>\n",
       "     <use style=\"fill:#4c72b0;fill-opacity:0.5;stroke:#4c72b0;stroke-opacity:0.5;\" x=\"200.398005\" xlink:href=\"#mc9cf12fb08\" y=\"112.013806\"/>\n",
       "     <use style=\"fill:#4c72b0;fill-opacity:0.5;stroke:#4c72b0;stroke-opacity:0.5;\" x=\"104.578241\" xlink:href=\"#mc9cf12fb08\" y=\"179.718164\"/>\n",
       "     <use style=\"fill:#4c72b0;fill-opacity:0.5;stroke:#4c72b0;stroke-opacity:0.5;\" x=\"97.408587\" xlink:href=\"#mc9cf12fb08\" y=\"187.61645\"/>\n",
       "     <use style=\"fill:#4c72b0;fill-opacity:0.5;stroke:#4c72b0;stroke-opacity:0.5;\" x=\"103.513039\" xlink:href=\"#mc9cf12fb08\" y=\"181.274793\"/>\n",
       "     <use style=\"fill:#4c72b0;fill-opacity:0.5;stroke:#4c72b0;stroke-opacity:0.5;\" x=\"128.327264\" xlink:href=\"#mc9cf12fb08\" y=\"161.638799\"/>\n",
       "     <use style=\"fill:#4c72b0;fill-opacity:0.5;stroke:#4c72b0;stroke-opacity:0.5;\" x=\"103.347242\" xlink:href=\"#mc9cf12fb08\" y=\"181.843369\"/>\n",
       "     <use style=\"fill:#4c72b0;fill-opacity:0.5;stroke:#4c72b0;stroke-opacity:0.5;\" x=\"106.895787\" xlink:href=\"#mc9cf12fb08\" y=\"179.718164\"/>\n",
       "     <use style=\"fill:#4c72b0;fill-opacity:0.5;stroke:#4c72b0;stroke-opacity:0.5;\" x=\"101.09597\" xlink:href=\"#mc9cf12fb08\" y=\"183.079194\"/>\n",
       "     <use style=\"fill:#4c72b0;fill-opacity:0.5;stroke:#4c72b0;stroke-opacity:0.5;\" x=\"105.343366\" xlink:href=\"#mc9cf12fb08\" y=\"179.718164\"/>\n",
       "     <use style=\"fill:#4c72b0;fill-opacity:0.5;stroke:#4c72b0;stroke-opacity:0.5;\" x=\"109.198382\" xlink:href=\"#mc9cf12fb08\" y=\"177.317028\"/>\n",
       "     <use style=\"fill:#4c72b0;fill-opacity:0.5;stroke:#4c72b0;stroke-opacity:0.5;\" x=\"106.858801\" xlink:href=\"#mc9cf12fb08\" y=\"179.718164\"/>\n",
       "     <use style=\"fill:#4c72b0;fill-opacity:0.5;stroke:#4c72b0;stroke-opacity:0.5;\" x=\"199.173204\" xlink:href=\"#mc9cf12fb08\" y=\"122.427167\"/>\n",
       "     <use style=\"fill:#4c72b0;fill-opacity:0.5;stroke:#4c72b0;stroke-opacity:0.5;\" x=\"103.216298\" xlink:href=\"#mc9cf12fb08\" y=\"179.718164\"/>\n",
       "     <use style=\"fill:#4c72b0;fill-opacity:0.5;stroke:#4c72b0;stroke-opacity:0.5;\" x=\"104.838996\" xlink:href=\"#mc9cf12fb08\" y=\"178.819009\"/>\n",
       "     <use style=\"fill:#4c72b0;fill-opacity:0.5;stroke:#4c72b0;stroke-opacity:0.5;\" x=\"104.700847\" xlink:href=\"#mc9cf12fb08\" y=\"180.328938\"/>\n",
       "     <use style=\"fill:#4c72b0;fill-opacity:0.5;stroke:#4c72b0;stroke-opacity:0.5;\" x=\"104.045288\" xlink:href=\"#mc9cf12fb08\" y=\"180.886357\"/>\n",
       "     <use style=\"fill:#4c72b0;fill-opacity:0.5;stroke:#4c72b0;stroke-opacity:0.5;\" x=\"107.40084\" xlink:href=\"#mc9cf12fb08\" y=\"177.86631\"/>\n",
       "     <use style=\"fill:#4c72b0;fill-opacity:0.5;stroke:#4c72b0;stroke-opacity:0.5;\" x=\"69.290907\" xlink:href=\"#mc9cf12fb08\" y=\"210.336892\"/>\n",
       "     <use style=\"fill:#4c72b0;fill-opacity:0.5;stroke:#4c72b0;stroke-opacity:0.5;\" x=\"105.451751\" xlink:href=\"#mc9cf12fb08\" y=\"179.718164\"/>\n",
       "     <use style=\"fill:#4c72b0;fill-opacity:0.5;stroke:#4c72b0;stroke-opacity:0.5;\" x=\"106.451597\" xlink:href=\"#mc9cf12fb08\" y=\"179.136751\"/>\n",
       "     <use style=\"fill:#4c72b0;fill-opacity:0.5;stroke:#4c72b0;stroke-opacity:0.5;\" x=\"109.320742\" xlink:href=\"#mc9cf12fb08\" y=\"177.23087\"/>\n",
       "     <use style=\"fill:#4c72b0;fill-opacity:0.5;stroke:#4c72b0;stroke-opacity:0.5;\" x=\"101.266897\" xlink:href=\"#mc9cf12fb08\" y=\"182.995453\"/>\n",
       "     <use style=\"fill:#4c72b0;fill-opacity:0.5;stroke:#4c72b0;stroke-opacity:0.5;\" x=\"104.473372\" xlink:href=\"#mc9cf12fb08\" y=\"180.515344\"/>\n",
       "     <use style=\"fill:#4c72b0;fill-opacity:0.5;stroke:#4c72b0;stroke-opacity:0.5;\" x=\"73.639953\" xlink:href=\"#mc9cf12fb08\" y=\"205.600327\"/>\n",
       "     <use style=\"fill:#4c72b0;fill-opacity:0.5;stroke:#4c72b0;stroke-opacity:0.5;\" x=\"109.549169\" xlink:href=\"#mc9cf12fb08\" y=\"176.68335\"/>\n",
       "     <use style=\"fill:#4c72b0;fill-opacity:0.5;stroke:#4c72b0;stroke-opacity:0.5;\" x=\"102.304778\" xlink:href=\"#mc9cf12fb08\" y=\"182.045543\"/>\n",
       "     <use style=\"fill:#4c72b0;fill-opacity:0.5;stroke:#4c72b0;stroke-opacity:0.5;\" x=\"129.785581\" xlink:href=\"#mc9cf12fb08\" y=\"164.915725\"/>\n",
       "     <use style=\"fill:#4c72b0;fill-opacity:0.5;stroke:#4c72b0;stroke-opacity:0.5;\" x=\"101.969339\" xlink:href=\"#mc9cf12fb08\" y=\"182.420768\"/>\n",
       "     <use style=\"fill:#4c72b0;fill-opacity:0.5;stroke:#4c72b0;stroke-opacity:0.5;\" x=\"106.129025\" xlink:href=\"#mc9cf12fb08\" y=\"178.97033\"/>\n",
       "     <use style=\"fill:#4c72b0;fill-opacity:0.5;stroke:#4c72b0;stroke-opacity:0.5;\" x=\"196.618257\" xlink:href=\"#mc9cf12fb08\" y=\"121.070766\"/>\n",
       "     <use style=\"fill:#4c72b0;fill-opacity:0.5;stroke:#4c72b0;stroke-opacity:0.5;\" x=\"104.657155\" xlink:href=\"#mc9cf12fb08\" y=\"180.53672\"/>\n",
       "     <use style=\"fill:#4c72b0;fill-opacity:0.5;stroke:#4c72b0;stroke-opacity:0.5;\" x=\"105.222505\" xlink:href=\"#mc9cf12fb08\" y=\"179.718164\"/>\n",
       "     <use style=\"fill:#4c72b0;fill-opacity:0.5;stroke:#4c72b0;stroke-opacity:0.5;\" x=\"100.348491\" xlink:href=\"#mc9cf12fb08\" y=\"183.855611\"/>\n",
       "     <use style=\"fill:#4c72b0;fill-opacity:0.5;stroke:#4c72b0;stroke-opacity:0.5;\" x=\"102.25979\" xlink:href=\"#mc9cf12fb08\" y=\"182.31457\"/>\n",
       "     <use style=\"fill:#4c72b0;fill-opacity:0.5;stroke:#4c72b0;stroke-opacity:0.5;\" x=\"107.873937\" xlink:href=\"#mc9cf12fb08\" y=\"177.902935\"/>\n",
       "     <use style=\"fill:#4c72b0;fill-opacity:0.5;stroke:#4c72b0;stroke-opacity:0.5;\" x=\"119.48447\" xlink:href=\"#mc9cf12fb08\" y=\"162.108097\"/>\n",
       "     <use style=\"fill:#4c72b0;fill-opacity:0.5;stroke:#4c72b0;stroke-opacity:0.5;\" x=\"108.184554\" xlink:href=\"#mc9cf12fb08\" y=\"178.088561\"/>\n",
       "     <use style=\"fill:#4c72b0;fill-opacity:0.5;stroke:#4c72b0;stroke-opacity:0.5;\" x=\"109.575144\" xlink:href=\"#mc9cf12fb08\" y=\"177.563566\"/>\n",
       "     <use style=\"fill:#4c72b0;fill-opacity:0.5;stroke:#4c72b0;stroke-opacity:0.5;\" x=\"105.842097\" xlink:href=\"#mc9cf12fb08\" y=\"179.718164\"/>\n",
       "     <use style=\"fill:#4c72b0;fill-opacity:0.5;stroke:#4c72b0;stroke-opacity:0.5;\" x=\"102.359765\" xlink:href=\"#mc9cf12fb08\" y=\"182.154776\"/>\n",
       "     <use style=\"fill:#4c72b0;fill-opacity:0.5;stroke:#4c72b0;stroke-opacity:0.5;\" x=\"99.066385\" xlink:href=\"#mc9cf12fb08\" y=\"179.718164\"/>\n",
       "     <use style=\"fill:#4c72b0;fill-opacity:0.5;stroke:#4c72b0;stroke-opacity:0.5;\" x=\"104.149435\" xlink:href=\"#mc9cf12fb08\" y=\"179.718164\"/>\n",
       "     <use style=\"fill:#4c72b0;fill-opacity:0.5;stroke:#4c72b0;stroke-opacity:0.5;\" x=\"103.369452\" xlink:href=\"#mc9cf12fb08\" y=\"181.312674\"/>\n",
       "     <use style=\"fill:#4c72b0;fill-opacity:0.5;stroke:#4c72b0;stroke-opacity:0.5;\" x=\"125.453579\" xlink:href=\"#mc9cf12fb08\" y=\"166.216614\"/>\n",
       "     <use style=\"fill:#4c72b0;fill-opacity:0.5;stroke:#4c72b0;stroke-opacity:0.5;\" x=\"101.792447\" xlink:href=\"#mc9cf12fb08\" y=\"182.583253\"/>\n",
       "     <use style=\"fill:#4c72b0;fill-opacity:0.5;stroke:#4c72b0;stroke-opacity:0.5;\" x=\"99.106844\" xlink:href=\"#mc9cf12fb08\" y=\"184.390215\"/>\n",
       "     <use style=\"fill:#4c72b0;fill-opacity:0.5;stroke:#4c72b0;stroke-opacity:0.5;\" x=\"145.752233\" xlink:href=\"#mc9cf12fb08\" y=\"170.410796\"/>\n",
       "     <use style=\"fill:#4c72b0;fill-opacity:0.5;stroke:#4c72b0;stroke-opacity:0.5;\" x=\"125.133488\" xlink:href=\"#mc9cf12fb08\" y=\"165.090137\"/>\n",
       "     <use style=\"fill:#4c72b0;fill-opacity:0.5;stroke:#4c72b0;stroke-opacity:0.5;\" x=\"107.341432\" xlink:href=\"#mc9cf12fb08\" y=\"178.383829\"/>\n",
       "     <use style=\"fill:#4c72b0;fill-opacity:0.5;stroke:#4c72b0;stroke-opacity:0.5;\" x=\"71.628217\" xlink:href=\"#mc9cf12fb08\" y=\"207.732612\"/>\n",
       "     <use style=\"fill:#4c72b0;fill-opacity:0.5;stroke:#4c72b0;stroke-opacity:0.5;\" x=\"61.279932\" xlink:href=\"#mc9cf12fb08\" y=\"214.756364\"/>\n",
       "     <use style=\"fill:#4c72b0;fill-opacity:0.5;stroke:#4c72b0;stroke-opacity:0.5;\" x=\"105.819847\" xlink:href=\"#mc9cf12fb08\" y=\"179.718164\"/>\n",
       "     <use style=\"fill:#4c72b0;fill-opacity:0.5;stroke:#4c72b0;stroke-opacity:0.5;\" x=\"105.52371\" xlink:href=\"#mc9cf12fb08\" y=\"179.718164\"/>\n",
       "     <use style=\"fill:#4c72b0;fill-opacity:0.5;stroke:#4c72b0;stroke-opacity:0.5;\" x=\"101.813346\" xlink:href=\"#mc9cf12fb08\" y=\"182.258678\"/>\n",
       "     <use style=\"fill:#4c72b0;fill-opacity:0.5;stroke:#4c72b0;stroke-opacity:0.5;\" x=\"107.897848\" xlink:href=\"#mc9cf12fb08\" y=\"179.718164\"/>\n",
       "     <use style=\"fill:#4c72b0;fill-opacity:0.5;stroke:#4c72b0;stroke-opacity:0.5;\" x=\"104.35189\" xlink:href=\"#mc9cf12fb08\" y=\"180.625714\"/>\n",
       "     <use style=\"fill:#4c72b0;fill-opacity:0.5;stroke:#4c72b0;stroke-opacity:0.5;\" x=\"105.331841\" xlink:href=\"#mc9cf12fb08\" y=\"179.718164\"/>\n",
       "     <use style=\"fill:#4c72b0;fill-opacity:0.5;stroke:#4c72b0;stroke-opacity:0.5;\" x=\"105.999749\" xlink:href=\"#mc9cf12fb08\" y=\"179.296941\"/>\n",
       "     <use style=\"fill:#4c72b0;fill-opacity:0.5;stroke:#4c72b0;stroke-opacity:0.5;\" x=\"155.768232\" xlink:href=\"#mc9cf12fb08\" y=\"151.278264\"/>\n",
       "     <use style=\"fill:#4c72b0;fill-opacity:0.5;stroke:#4c72b0;stroke-opacity:0.5;\" x=\"114.819579\" xlink:href=\"#mc9cf12fb08\" y=\"179.718164\"/>\n",
       "     <use style=\"fill:#4c72b0;fill-opacity:0.5;stroke:#4c72b0;stroke-opacity:0.5;\" x=\"105.178233\" xlink:href=\"#mc9cf12fb08\" y=\"179.718164\"/>\n",
       "     <use style=\"fill:#4c72b0;fill-opacity:0.5;stroke:#4c72b0;stroke-opacity:0.5;\" x=\"105.537522\" xlink:href=\"#mc9cf12fb08\" y=\"179.718164\"/>\n",
       "    </g>\n",
       "   </g>\n",
       "   <g id=\"line2d_9\">\n",
       "    <path clip-path=\"url(#p9ddb8eb776)\" d=\"M 105.483541 179.718164 \n",
       "L 105.483631 17.083636 \n",
       "L 105.483631 17.083636 \n",
       "\" style=\"fill:none;stroke:#4c72b0;stroke-linecap:round;stroke-width:1.5;\"/>\n",
       "   </g>\n",
       "   <g id=\"patch_3\">\n",
       "    <path d=\"M 46.06175 224.64 \n",
       "L 46.06175 7.2 \n",
       "\" style=\"fill:none;stroke:#cccccc;stroke-linecap:square;stroke-linejoin:miter;stroke-width:1.25;\"/>\n",
       "   </g>\n",
       "   <g id=\"patch_4\">\n",
       "    <path d=\"M 380.86175 224.64 \n",
       "L 380.86175 7.2 \n",
       "\" style=\"fill:none;stroke:#cccccc;stroke-linecap:square;stroke-linejoin:miter;stroke-width:1.25;\"/>\n",
       "   </g>\n",
       "   <g id=\"patch_5\">\n",
       "    <path d=\"M 46.06175 224.64 \n",
       "L 380.86175 224.64 \n",
       "\" style=\"fill:none;stroke:#cccccc;stroke-linecap:square;stroke-linejoin:miter;stroke-width:1.25;\"/>\n",
       "   </g>\n",
       "   <g id=\"patch_6\">\n",
       "    <path d=\"M 46.06175 7.2 \n",
       "L 380.86175 7.2 \n",
       "\" style=\"fill:none;stroke:#cccccc;stroke-linecap:square;stroke-linejoin:miter;stroke-width:1.25;\"/>\n",
       "   </g>\n",
       "  </g>\n",
       " </g>\n",
       " <defs>\n",
       "  <clipPath id=\"p9ddb8eb776\">\n",
       "   <rect height=\"217.44\" width=\"334.8\" x=\"46.06175\" y=\"7.2\"/>\n",
       "  </clipPath>\n",
       " </defs>\n",
       "</svg>\n"
      ],
      "text/plain": [
       "<Figure size 432x288 with 1 Axes>"
      ]
     },
     "metadata": {},
     "output_type": "display_data"
    }
   ],
   "source": [
    "# Plot the prediction with the test set - Draft\n",
    "plt.scatter(test_set_pred, y_test, alpha=.5)\n",
    "plt.plot(np.linspace(0,6000,1000), np.linspace(0,6000,1000));"
   ]
  },
  {
   "cell_type": "code",
   "execution_count": 93,
   "metadata": {},
   "outputs": [
    {
     "data": {
      "image/png": "[encoded data removed]",
      "text/plain": [
       "<Figure size 720x288 with 1 Axes>"
      ]
     },
     "metadata": {},
     "output_type": "display_data"
    }
   ],
   "source": [
    "# Plot the prediction with the test set\n",
    "\n",
    "plt.figure(figsize=(10,4))\n",
    "plt.scatter(test_set_pred, y_test, alpha=.2, c=\"navy\")\n",
    "plt.plot(np.linspace(0,6000,1000), np.linspace(0,6000,1000));\n",
    "plt.savefig(\"lasso_predictions.svg\")"
   ]
  },
  {
   "cell_type": "code",
   "execution_count": 1489,
   "metadata": {
    "ExecuteTime": {
     "end_time": "2020-10-07T21:39:09.497634Z",
     "start_time": "2020-10-07T21:39:09.449747Z"
    }
   },
   "outputs": [
    {
     "data": {
      "text/plain": [
       "534384176.33464885"
      ]
     },
     "execution_count": 1489,
     "metadata": {},
     "output_type": "execute_result"
    }
   ],
   "source": [
    "# Calculating Mean Absolute Error\n",
    "\n",
    "def mae(y_true, y_pred):\n",
    "    return np.mean(np.abs(y_pred - y_true)) \n",
    "\n",
    "mae(y_test, test_set_pred)"
   ]
  },
  {
   "cell_type": "markdown",
   "metadata": {},
   "source": [
    "## Stats Model"
   ]
  },
  {
   "cell_type": "code",
   "execution_count": 75,
   "metadata": {
    "ExecuteTime": {
     "end_time": "2020-10-08T00:55:49.476262Z",
     "start_time": "2020-10-08T00:55:49.458311Z"
    }
   },
   "outputs": [
    {
     "name": "stdout",
     "output_type": "stream",
     "text": [
      "Residuals:\n",
      "       Min     1Q  Median       3Q       Max\n",
      "-3709.8523 -6.958  2.4008  15.4998  2778.448\n",
      "\n",
      "\n",
      "Coefficients:\n",
      "               Estimate  Std. Error  t value   p value\n",
      "_intercept   122.183520    9.150959  13.3520  0.000000\n",
      "x1             0.000000    9.153609   0.0000  1.000000\n",
      "x2             0.000000   54.071287   0.0000  1.000000\n",
      "x3             0.000000  187.965176   0.0000  1.000000\n",
      "x4             0.000000  148.544682   0.0000  1.000000\n",
      "x5             0.000000   24.026073   0.0000  1.000000\n",
      "x6             0.000000  102.745873   0.0000  1.000000\n",
      "x7             0.000000   47.157220   0.0000  1.000000\n",
      "x8           -55.212619   63.394978  -0.8709  0.384093\n",
      "x9           148.888806   76.289080   1.9516  0.051382\n",
      "x10            0.000000   19.299316   0.0000  1.000000\n",
      "x11            0.000000   39.837822   0.0000  1.000000\n",
      "x12           -0.000000   51.329737  -0.0000  1.000000\n",
      "x13         2131.718488   41.220481  51.7150  0.000000\n",
      "---\n",
      "R-squared:  0.98992,    Adjusted R-squared:  0.98973\n",
      "F-statistic: 5152.68 on 13 features\n"
     ]
    }
   ],
   "source": [
    "# Re-construct the Lasso Model 2 in the Stats Model to check the P-values\n",
    "\n",
    "from regressors import stats\n",
    "stats.summary(lasso_model_2,X_tr,y_train)"
   ]
  },
  {
   "cell_type": "code",
   "execution_count": 95,
   "metadata": {
    "ExecuteTime": {
     "end_time": "2020-10-08T00:38:51.583121Z",
     "start_time": "2020-10-08T00:38:51.537665Z"
    }
   },
   "outputs": [
    {
     "data": {
      "text/html": [
       "<table class=\"simpletable\">\n",
       "<caption>OLS Regression Results</caption>\n",
       "<tr>\n",
       "  <th>Dep. Variable:</th>     <td>Diluted Equity</td>  <th>  R-squared:         </th> <td>   0.993</td>\n",
       "</tr>\n",
       "<tr>\n",
       "  <th>Model:</th>                   <td>OLS</td>       <th>  Adj. R-squared:    </th> <td>   0.993</td>\n",
       "</tr>\n",
       "<tr>\n",
       "  <th>Method:</th>             <td>Least Squares</td>  <th>  F-statistic:       </th> <td>   7570.</td>\n",
       "</tr>\n",
       "<tr>\n",
       "  <th>Date:</th>             <td>Thu, 08 Oct 2020</td> <th>  Prob (F-statistic):</th>  <td>  0.00</td> \n",
       "</tr>\n",
       "<tr>\n",
       "  <th>Time:</th>                 <td>13:54:35</td>     <th>  Log-Likelihood:    </th> <td> -4673.4</td>\n",
       "</tr>\n",
       "<tr>\n",
       "  <th>No. Observations:</th>      <td>   696</td>      <th>  AIC:               </th> <td>   9375.</td>\n",
       "</tr>\n",
       "<tr>\n",
       "  <th>Df Residuals:</th>          <td>   682</td>      <th>  BIC:               </th> <td>   9439.</td>\n",
       "</tr>\n",
       "<tr>\n",
       "  <th>Df Model:</th>              <td>    13</td>      <th>                     </th>     <td> </td>   \n",
       "</tr>\n",
       "<tr>\n",
       "  <th>Covariance Type:</th>      <td>nonrobust</td>    <th>                     </th>     <td> </td>   \n",
       "</tr>\n",
       "</table>\n",
       "<table class=\"simpletable\">\n",
       "<tr>\n",
       "    <td></td>       <th>coef</th>     <th>std err</th>      <th>t</th>      <th>P>|t|</th>  <th>[0.025</th>    <th>0.975]</th>  \n",
       "</tr>\n",
       "<tr>\n",
       "  <th>const</th> <td>  122.1835</td> <td>    7.639</td> <td>   15.995</td> <td> 0.000</td> <td>  107.185</td> <td>  137.182</td>\n",
       "</tr>\n",
       "<tr>\n",
       "  <th>x1</th>    <td>   -1.2481</td> <td>    7.644</td> <td>   -0.163</td> <td> 0.870</td> <td>  -16.256</td> <td>   13.760</td>\n",
       "</tr>\n",
       "<tr>\n",
       "  <th>x2</th>    <td> -222.9576</td> <td>   56.095</td> <td>   -3.975</td> <td> 0.000</td> <td> -333.098</td> <td> -112.818</td>\n",
       "</tr>\n",
       "<tr>\n",
       "  <th>x3</th>    <td>  325.2293</td> <td>  195.877</td> <td>    1.660</td> <td> 0.097</td> <td>  -59.365</td> <td>  709.824</td>\n",
       "</tr>\n",
       "<tr>\n",
       "  <th>x4</th>    <td> -152.4789</td> <td>  168.301</td> <td>   -0.906</td> <td> 0.365</td> <td> -482.929</td> <td>  177.972</td>\n",
       "</tr>\n",
       "<tr>\n",
       "  <th>x5</th>    <td>  -23.8117</td> <td>   27.150</td> <td>   -0.877</td> <td> 0.381</td> <td>  -77.119</td> <td>   29.496</td>\n",
       "</tr>\n",
       "<tr>\n",
       "  <th>x6</th>    <td>  132.1085</td> <td>  101.462</td> <td>    1.302</td> <td> 0.193</td> <td>  -67.108</td> <td>  331.325</td>\n",
       "</tr>\n",
       "<tr>\n",
       "  <th>x7</th>    <td>  138.8025</td> <td>   52.367</td> <td>    2.651</td> <td> 0.008</td> <td>   35.982</td> <td>  241.623</td>\n",
       "</tr>\n",
       "<tr>\n",
       "  <th>x8</th>    <td> -124.1460</td> <td>   69.835</td> <td>   -1.778</td> <td> 0.076</td> <td> -261.264</td> <td>   12.972</td>\n",
       "</tr>\n",
       "<tr>\n",
       "  <th>x9</th>    <td> -239.5392</td> <td>   83.324</td> <td>   -2.875</td> <td> 0.004</td> <td> -403.141</td> <td>  -75.937</td>\n",
       "</tr>\n",
       "<tr>\n",
       "  <th>x10</th>   <td>   61.6737</td> <td>   21.557</td> <td>    2.861</td> <td> 0.004</td> <td>   19.349</td> <td>  103.999</td>\n",
       "</tr>\n",
       "<tr>\n",
       "  <th>x11</th>   <td>   21.1799</td> <td>   52.266</td> <td>    0.405</td> <td> 0.685</td> <td>  -81.441</td> <td>  123.800</td>\n",
       "</tr>\n",
       "<tr>\n",
       "  <th>x12</th>   <td>  -47.5810</td> <td>   66.752</td> <td>   -0.713</td> <td> 0.476</td> <td> -178.644</td> <td>   83.482</td>\n",
       "</tr>\n",
       "<tr>\n",
       "  <th>x13</th>   <td> 2409.8971</td> <td>   45.196</td> <td>   53.322</td> <td> 0.000</td> <td> 2321.158</td> <td> 2498.636</td>\n",
       "</tr>\n",
       "</table>\n",
       "<table class=\"simpletable\">\n",
       "<tr>\n",
       "  <th>Omnibus:</th>       <td>997.054</td> <th>  Durbin-Watson:     </th>  <td>   1.968</td> \n",
       "</tr>\n",
       "<tr>\n",
       "  <th>Prob(Omnibus):</th> <td> 0.000</td>  <th>  Jarque-Bera (JB):  </th> <td>815356.208</td>\n",
       "</tr>\n",
       "<tr>\n",
       "  <th>Skew:</th>          <td> 7.209</td>  <th>  Prob(JB):          </th>  <td>    0.00</td> \n",
       "</tr>\n",
       "<tr>\n",
       "  <th>Kurtosis:</th>      <td>170.056</td> <th>  Cond. No.          </th>  <td>    91.4</td> \n",
       "</tr>\n",
       "</table><br/><br/>Notes:<br/>[1] Standard Errors assume that the covariance matrix of the errors is correctly specified."
      ],
      "text/plain": [
       "<class 'statsmodels.iolib.summary.Summary'>\n",
       "\"\"\"\n",
       "                            OLS Regression Results                            \n",
       "==============================================================================\n",
       "Dep. Variable:         Diluted Equity   R-squared:                       0.993\n",
       "Model:                            OLS   Adj. R-squared:                  0.993\n",
       "Method:                 Least Squares   F-statistic:                     7570.\n",
       "Date:                Thu, 08 Oct 2020   Prob (F-statistic):               0.00\n",
       "Time:                        13:54:35   Log-Likelihood:                -4673.4\n",
       "No. Observations:                 696   AIC:                             9375.\n",
       "Df Residuals:                     682   BIC:                             9439.\n",
       "Df Model:                          13                                         \n",
       "Covariance Type:            nonrobust                                         \n",
       "==============================================================================\n",
       "                 coef    std err          t      P>|t|      [0.025      0.975]\n",
       "------------------------------------------------------------------------------\n",
       "const        122.1835      7.639     15.995      0.000     107.185     137.182\n",
       "x1            -1.2481      7.644     -0.163      0.870     -16.256      13.760\n",
       "x2          -222.9576     56.095     -3.975      0.000    -333.098    -112.818\n",
       "x3           325.2293    195.877      1.660      0.097     -59.365     709.824\n",
       "x4          -152.4789    168.301     -0.906      0.365    -482.929     177.972\n",
       "x5           -23.8117     27.150     -0.877      0.381     -77.119      29.496\n",
       "x6           132.1085    101.462      1.302      0.193     -67.108     331.325\n",
       "x7           138.8025     52.367      2.651      0.008      35.982     241.623\n",
       "x8          -124.1460     69.835     -1.778      0.076    -261.264      12.972\n",
       "x9          -239.5392     83.324     -2.875      0.004    -403.141     -75.937\n",
       "x10           61.6737     21.557      2.861      0.004      19.349     103.999\n",
       "x11           21.1799     52.266      0.405      0.685     -81.441     123.800\n",
       "x12          -47.5810     66.752     -0.713      0.476    -178.644      83.482\n",
       "x13         2409.8971     45.196     53.322      0.000    2321.158    2498.636\n",
       "==============================================================================\n",
       "Omnibus:                      997.054   Durbin-Watson:                   1.968\n",
       "Prob(Omnibus):                  0.000   Jarque-Bera (JB):           815356.208\n",
       "Skew:                           7.209   Prob(JB):                         0.00\n",
       "Kurtosis:                     170.056   Cond. No.                         91.4\n",
       "==============================================================================\n",
       "\n",
       "Notes:\n",
       "[1] Standard Errors assume that the covariance matrix of the errors is correctly specified.\n",
       "\"\"\""
      ]
     },
     "execution_count": 95,
     "metadata": {},
     "output_type": "execute_result"
    }
   ],
   "source": [
    "import statsmodels.api as sm\n",
    "import statsmodels.formula.api as smf \n",
    "\n",
    "model = sm.OLS(y_train, sm.add_constant(X_tr))\n",
    "results = model.fit()\n",
    "\n",
    "results.summary()"
   ]
  },
  {
   "cell_type": "markdown",
   "metadata": {},
   "source": [
    "# Generalization\n",
    "\n",
    "- Why the R squared is so high but MAE is also high? \n",
    "- Try to solve the issue with removing outliers.\n",
    "- Based on the P-value, Pretax Income is the only feature \"statistically significant\".\n",
    "- Why not choose the majority of companies share the similar character?\n",
    "- Create a subset with companies having less than 10 million and more than -10 million pretax income."
   ]
  },
  {
   "cell_type": "markdown",
   "metadata": {},
   "source": [
    "## Create the subset"
   ]
  },
  {
   "cell_type": "code",
   "execution_count": 148,
   "metadata": {},
   "outputs": [],
   "source": [
    "columns_general = [\"Symbol\", \"Diluted Equity\", \"ROA\", 'Total Liabilities Net Minority Interest',\n",
    "       'Total Equity Gross Minority Interest', 'Common Stock Equity',\n",
    "       'Tangible Book Value', 'Invested Capital', 'End Cash Position',\n",
    "       'Financing Cash Flow', 'Operating Cash Flow', 'Total Revenue',\n",
    "       'Investing Cash Flow', 'Tax Effect of Unusual Items', 'Pretax Income']\n"
   ]
  },
  {
   "cell_type": "code",
   "execution_count": 149,
   "metadata": {},
   "outputs": [],
   "source": [
    "df_general = df_final[columns_general]"
   ]
  },
  {
   "cell_type": "code",
   "execution_count": 150,
   "metadata": {},
   "outputs": [],
   "source": [
    "df_condition = df_general[(df_general[\"Pretax Income\"] > -10000000) & (df_adjust[\"Pretax Income\"]<10000000)]"
   ]
  },
  {
   "cell_type": "code",
   "execution_count": 141,
   "metadata": {},
   "outputs": [
    {
     "data": {
      "text/plain": [
       "(1152, 15)"
      ]
     },
     "execution_count": 141,
     "metadata": {},
     "output_type": "execute_result"
    }
   ],
   "source": [
    "df_condition.shape"
   ]
  },
  {
   "cell_type": "code",
   "execution_count": 143,
   "metadata": {},
   "outputs": [],
   "source": [
    "df_condition.to_csv(\"data/df_condition.csv\")"
   ]
  },
  {
   "cell_type": "code",
   "execution_count": 144,
   "metadata": {},
   "outputs": [],
   "source": [
    "df_condition.to_pickle(\"df_condition\")"
   ]
  },
  {
   "cell_type": "code",
   "execution_count": 151,
   "metadata": {},
   "outputs": [
    {
     "data": {
      "text/html": [
       "<div>\n",
       "<style scoped>\n",
       "    .dataframe tbody tr th:only-of-type {\n",
       "        vertical-align: middle;\n",
       "    }\n",
       "\n",
       "    .dataframe tbody tr th {\n",
       "        vertical-align: top;\n",
       "    }\n",
       "\n",
       "    .dataframe thead th {\n",
       "        text-align: right;\n",
       "    }\n",
       "</style>\n",
       "<table border=\"1\" class=\"dataframe\">\n",
       "  <thead>\n",
       "    <tr style=\"text-align: right;\">\n",
       "      <th></th>\n",
       "      <th>Symbol</th>\n",
       "      <th>Diluted Equity</th>\n",
       "      <th>ROA</th>\n",
       "      <th>Total Liabilities Net Minority Interest</th>\n",
       "      <th>Total Equity Gross Minority Interest</th>\n",
       "      <th>Common Stock Equity</th>\n",
       "      <th>Tangible Book Value</th>\n",
       "      <th>Invested Capital</th>\n",
       "      <th>End Cash Position</th>\n",
       "      <th>Financing Cash Flow</th>\n",
       "      <th>Operating Cash Flow</th>\n",
       "      <th>Total Revenue</th>\n",
       "      <th>Investing Cash Flow</th>\n",
       "      <th>Tax Effect of Unusual Items</th>\n",
       "      <th>Pretax Income</th>\n",
       "    </tr>\n",
       "  </thead>\n",
       "  <tbody>\n",
       "    <tr>\n",
       "      <th>0</th>\n",
       "      <td>AAOI</td>\n",
       "      <td>-65.9406</td>\n",
       "      <td>-0.141496</td>\n",
       "      <td>193031.0</td>\n",
       "      <td>273794.0</td>\n",
       "      <td>273794.0</td>\n",
       "      <td>264115.0</td>\n",
       "      <td>407068.0</td>\n",
       "      <td>67028.0</td>\n",
       "      <td>42596.0</td>\n",
       "      <td>-1754.0</td>\n",
       "      <td>190872.0</td>\n",
       "      <td>-32116.0</td>\n",
       "      <td>1.995</td>\n",
       "      <td>-51387.0</td>\n",
       "    </tr>\n",
       "    <tr>\n",
       "      <th>2</th>\n",
       "      <td>ALLT</td>\n",
       "      <td>0.0000</td>\n",
       "      <td>-0.039048</td>\n",
       "      <td>83318.0</td>\n",
       "      <td>131851.0</td>\n",
       "      <td>131851.0</td>\n",
       "      <td>96814.0</td>\n",
       "      <td>131851.0</td>\n",
       "      <td>16930.0</td>\n",
       "      <td>993.0</td>\n",
       "      <td>16092.0</td>\n",
       "      <td>110100.0</td>\n",
       "      <td>-16491.0</td>\n",
       "      <td>-76.820</td>\n",
       "      <td>-7018.0</td>\n",
       "    </tr>\n",
       "    <tr>\n",
       "      <th>3</th>\n",
       "      <td>ALOT</td>\n",
       "      <td>0.0000</td>\n",
       "      <td>0.014186</td>\n",
       "      <td>45289.0</td>\n",
       "      <td>71375.0</td>\n",
       "      <td>71375.0</td>\n",
       "      <td>33958.0</td>\n",
       "      <td>90798.0</td>\n",
       "      <td>4249.0</td>\n",
       "      <td>-3742.0</td>\n",
       "      <td>3224.0</td>\n",
       "      <td>133446.0</td>\n",
       "      <td>-2906.0</td>\n",
       "      <td>38.610</td>\n",
       "      <td>1370.0</td>\n",
       "    </tr>\n",
       "    <tr>\n",
       "      <th>4</th>\n",
       "      <td>ALRM</td>\n",
       "      <td>55.3014</td>\n",
       "      <td>0.095968</td>\n",
       "      <td>202148.0</td>\n",
       "      <td>355651.0</td>\n",
       "      <td>355651.0</td>\n",
       "      <td>147250.0</td>\n",
       "      <td>418651.0</td>\n",
       "      <td>119629.0</td>\n",
       "      <td>-130.0</td>\n",
       "      <td>47112.0</td>\n",
       "      <td>502363.0</td>\n",
       "      <td>-73414.0</td>\n",
       "      <td>0.000</td>\n",
       "      <td>58896.0</td>\n",
       "    </tr>\n",
       "    <tr>\n",
       "      <th>5</th>\n",
       "      <td>ALTR</td>\n",
       "      <td>0.0000</td>\n",
       "      <td>-0.009417</td>\n",
       "      <td>386086.0</td>\n",
       "      <td>357059.0</td>\n",
       "      <td>357059.0</td>\n",
       "      <td>56301.0</td>\n",
       "      <td>535727.0</td>\n",
       "      <td>223497.0</td>\n",
       "      <td>191916.0</td>\n",
       "      <td>31393.0</td>\n",
       "      <td>458915.0</td>\n",
       "      <td>-35839.0</td>\n",
       "      <td>-201.150</td>\n",
       "      <td>3388.0</td>\n",
       "    </tr>\n",
       "  </tbody>\n",
       "</table>\n",
       "</div>"
      ],
      "text/plain": [
       "  Symbol  Diluted Equity       ROA  Total Liabilities Net Minority Interest  \\\n",
       "0   AAOI        -65.9406 -0.141496                                 193031.0   \n",
       "2   ALLT          0.0000 -0.039048                                  83318.0   \n",
       "3   ALOT          0.0000  0.014186                                  45289.0   \n",
       "4   ALRM         55.3014  0.095968                                 202148.0   \n",
       "5   ALTR          0.0000 -0.009417                                 386086.0   \n",
       "\n",
       "   Total Equity Gross Minority Interest  Common Stock Equity  \\\n",
       "0                              273794.0             273794.0   \n",
       "2                              131851.0             131851.0   \n",
       "3                               71375.0              71375.0   \n",
       "4                              355651.0             355651.0   \n",
       "5                              357059.0             357059.0   \n",
       "\n",
       "   Tangible Book Value  Invested Capital  End Cash Position  \\\n",
       "0             264115.0          407068.0            67028.0   \n",
       "2              96814.0          131851.0            16930.0   \n",
       "3              33958.0           90798.0             4249.0   \n",
       "4             147250.0          418651.0           119629.0   \n",
       "5              56301.0          535727.0           223497.0   \n",
       "\n",
       "   Financing Cash Flow  Operating Cash Flow  Total Revenue  \\\n",
       "0              42596.0              -1754.0       190872.0   \n",
       "2                993.0              16092.0       110100.0   \n",
       "3              -3742.0               3224.0       133446.0   \n",
       "4               -130.0              47112.0       502363.0   \n",
       "5             191916.0              31393.0       458915.0   \n",
       "\n",
       "   Investing Cash Flow  Tax Effect of Unusual Items  Pretax Income  \n",
       "0             -32116.0                        1.995       -51387.0  \n",
       "2             -16491.0                      -76.820        -7018.0  \n",
       "3              -2906.0                       38.610         1370.0  \n",
       "4             -73414.0                        0.000        58896.0  \n",
       "5             -35839.0                     -201.150         3388.0  "
      ]
     },
     "execution_count": 151,
     "metadata": {},
     "output_type": "execute_result"
    }
   ],
   "source": [
    "df_condition.head()"
   ]
  },
  {
   "cell_type": "markdown",
   "metadata": {},
   "source": [
    "## Simple Linear Regression"
   ]
  },
  {
   "cell_type": "code",
   "execution_count": 445,
   "metadata": {},
   "outputs": [
    {
     "data": {
      "text/plain": [
       "0.9060934413227475"
      ]
     },
     "execution_count": 445,
     "metadata": {},
     "output_type": "execute_result"
    }
   ],
   "source": [
    "# Setting up the Base line\n",
    "\n",
    "lr = LinearRegression()\n",
    "\n",
    "# Choose the predictor variables, here all but the first which is the response variable\n",
    "# This model is analogous to the Y ~ X1 + X2 + X3 + X4 + X5 + X6 model\n",
    "X = df_condition.iloc[:, 2:]\n",
    "\n",
    "# Choose the response variable(s)\n",
    "y = df_condition.iloc[:, 1]\n",
    "\n",
    "# Fit the model to the full dataset\n",
    "lr.fit(X, y)\n",
    "\n",
    "# Print out the R^2 for the model against the full dataset\n",
    "lr.score(X,y)"
   ]
  },
  {
   "cell_type": "code",
   "execution_count": 462,
   "metadata": {
    "ExecuteTime": {
     "end_time": "2020-10-10T23:09:06.903871Z",
     "start_time": "2020-10-10T23:09:06.865629Z"
    }
   },
   "outputs": [],
   "source": [
    "# Split into Train, Validation and Test sets\n",
    "X_train_val, X_test, y_train_val, y_test = train_test_split(X, y, test_size=0.2,random_state=42)\n",
    "X_train, X_val, y_train, y_val = train_test_split(X_train_val, y_train_val, test_size=.25, random_state=43)\n"
   ]
  },
  {
   "cell_type": "code",
   "execution_count": 454,
   "metadata": {},
   "outputs": [
    {
     "data": {
      "text/plain": [
       "(0.9445667190481238, 0.69887420154158, 0.9342846358539598)"
      ]
     },
     "execution_count": 454,
     "metadata": {},
     "output_type": "execute_result"
    }
   ],
   "source": [
    "# Compare the R-squared ~ close the gap the most ~ best model\n",
    "(lr.score(X_train,y_train), lr.score(X_val,y_val), lr.score(X_test, y_test))"
   ]
  },
  {
   "cell_type": "markdown",
   "metadata": {},
   "source": [
    "## Lasso and Ridge Modeling"
   ]
  },
  {
   "cell_type": "code",
   "execution_count": 393,
   "metadata": {},
   "outputs": [
    {
     "name": "stderr",
     "output_type": "stream",
     "text": [
      "/opt/anaconda3/envs/metis/lib/python3.8/site-packages/sklearn/linear_model/_coordinate_descent.py:525: ConvergenceWarning: Objective did not converge. You might want to increase the number of iterations. Duality gap: 33050.44632360898, tolerance: 19852.022585632836\n",
      "  model = cd_fast.enet_coordinate_descent_gram(\n",
      "/opt/anaconda3/envs/metis/lib/python3.8/site-packages/sklearn/linear_model/_coordinate_descent.py:525: ConvergenceWarning: Objective did not converge. You might want to increase the number of iterations. Duality gap: 28872.14489763044, tolerance: 19852.022585632836\n",
      "  model = cd_fast.enet_coordinate_descent_gram(\n",
      "/opt/anaconda3/envs/metis/lib/python3.8/site-packages/sklearn/linear_model/_coordinate_descent.py:525: ConvergenceWarning: Objective did not converge. You might want to increase the number of iterations. Duality gap: 30839.907822996378, tolerance: 19852.022585632836\n",
      "  model = cd_fast.enet_coordinate_descent_gram(\n",
      "/opt/anaconda3/envs/metis/lib/python3.8/site-packages/sklearn/linear_model/_coordinate_descent.py:525: ConvergenceWarning: Objective did not converge. You might want to increase the number of iterations. Duality gap: 33608.480133235455, tolerance: 19852.022585632836\n",
      "  model = cd_fast.enet_coordinate_descent_gram(\n"
     ]
    },
    {
     "data": {
      "text/plain": [
       "LassoCV(alphas=array([1.00000000e-02, 1.04737090e-02, 1.09698580e-02, 1.14895100e-02,\n",
       "       1.20337784e-02, 1.26038293e-02, 1.32008840e-02, 1.38262217e-02,\n",
       "       1.44811823e-02, 1.51671689e-02, 1.58856513e-02, 1.66381689e-02,\n",
       "       1.74263339e-02, 1.82518349e-02, 1.91164408e-02, 2.00220037e-02,\n",
       "       2.09704640e-02, 2.19638537e-02, 2.30043012e-02, 2.40940356e-02,\n",
       "       2.52353917e-02, 2.64308149e-0...\n",
       "       3.44896226e+01, 3.61234270e+01, 3.78346262e+01, 3.96268864e+01,\n",
       "       4.15040476e+01, 4.34701316e+01, 4.55293507e+01, 4.76861170e+01,\n",
       "       4.99450512e+01, 5.23109931e+01, 5.47890118e+01, 5.73844165e+01,\n",
       "       6.01027678e+01, 6.29498899e+01, 6.59318827e+01, 6.90551352e+01,\n",
       "       7.23263390e+01, 7.57525026e+01, 7.93409667e+01, 8.30994195e+01,\n",
       "       8.70359136e+01, 9.11588830e+01, 9.54771611e+01, 1.00000000e+02]),\n",
       "        cv=5)"
      ]
     },
     "execution_count": 393,
     "metadata": {},
     "output_type": "execute_result"
    }
   ],
   "source": [
    "# Compare with Lasso \n",
    "\n",
    "std = StandardScaler()\n",
    "std.fit(X_train.values)\n",
    "X_tr = std.transform(X_train.values)\n",
    "X_te = std.transform(X_val.values)\n",
    "alphavec = 10**np.linspace(-2,2,200)\n",
    "\n",
    "lasso_model_1 = LassoCV(alphas = alphavec, cv=5) \n",
    "lasso_model_1.fit(X_tr, y_train)\n",
    "\n"
   ]
  },
  {
   "cell_type": "code",
   "execution_count": 160,
   "metadata": {},
   "outputs": [
    {
     "data": {
      "text/plain": [
       "11.357333583431052"
      ]
     },
     "execution_count": 160,
     "metadata": {},
     "output_type": "execute_result"
    }
   ],
   "source": [
    "lasso_model_1.alpha_\n"
   ]
  },
  {
   "cell_type": "code",
   "execution_count": 161,
   "metadata": {},
   "outputs": [
    {
     "data": {
      "text/plain": [
       "[('ROA', -0.0),\n",
       " ('Total Liabilities Net Minority Interest', 0.0),\n",
       " ('Total Equity Gross Minority Interest', 0.0),\n",
       " ('Common Stock Equity', 82.2633624547265),\n",
       " ('Tangible Book Value', 0.0),\n",
       " ('Invested Capital', 0.8870383153634291),\n",
       " ('End Cash Position', -0.0),\n",
       " ('Financing Cash Flow', -29.716285180812605),\n",
       " ('Operating Cash Flow', 0.0),\n",
       " ('Total Revenue', -0.0),\n",
       " ('Investing Cash Flow', -0.0),\n",
       " ('Tax Effect of Unusual Items', 0.0),\n",
       " ('Pretax Income', 502.7266749177894)]"
      ]
     },
     "execution_count": 161,
     "metadata": {},
     "output_type": "execute_result"
    }
   ],
   "source": [
    "list(zip(X_train.columns, lasso_model_1.coef_))"
   ]
  },
  {
   "cell_type": "code",
   "execution_count": 162,
   "metadata": {},
   "outputs": [
    {
     "data": {
      "text/plain": [
       "(0.9438950130518674, 0.6565727244845462)"
      ]
     },
     "execution_count": 162,
     "metadata": {},
     "output_type": "execute_result"
    }
   ],
   "source": [
    "(lasso_model_1.score(X_tr,y_train),lasso_model_1.score(X_te,y_val))"
   ]
  },
  {
   "cell_type": "code",
   "execution_count": 394,
   "metadata": {},
   "outputs": [
    {
     "data": {
      "text/plain": [
       "Lasso(alpha=60)"
      ]
     },
     "execution_count": 394,
     "metadata": {},
     "output_type": "execute_result"
    }
   ],
   "source": [
    "lasso_model_2 = Lasso(alpha = 60)\n",
    "lasso_model_2.fit(X_tr, y_train)"
   ]
  },
  {
   "cell_type": "code",
   "execution_count": 395,
   "metadata": {},
   "outputs": [
    {
     "data": {
      "text/plain": [
       "(0.9237270864431162, 0.6644549715118403)"
      ]
     },
     "execution_count": 395,
     "metadata": {},
     "output_type": "execute_result"
    }
   ],
   "source": [
    "(lasso_model_2.score(X_tr,y_train), lasso_model_2.score(X_te,y_val)) \n",
    "# Not as so good as the simple linear regression model"
   ]
  },
  {
   "cell_type": "code",
   "execution_count": 370,
   "metadata": {},
   "outputs": [
    {
     "data": {
      "text/plain": [
       "0.2592721149312759"
      ]
     },
     "execution_count": 370,
     "metadata": {},
     "output_type": "execute_result"
    }
   ],
   "source": [
    "(lasso_model_2.score(X_tr,y_train) - lasso_model_2.score(X_te,y_val))"
   ]
  },
  {
   "cell_type": "code",
   "execution_count": 371,
   "metadata": {},
   "outputs": [
    {
     "data": {
      "text/plain": [
       "[('ROA', 0.0),\n",
       " ('Total Liabilities Net Minority Interest', 0.0),\n",
       " ('Total Equity Gross Minority Interest', 0.0),\n",
       " ('Common Stock Equity', 0.0),\n",
       " ('Tangible Book Value', 0.0),\n",
       " ('Invested Capital', 0.0),\n",
       " ('End Cash Position', 0.0),\n",
       " ('Financing Cash Flow', -0.0),\n",
       " ('Operating Cash Flow', 56.104104571892854),\n",
       " ('Total Revenue', 0.0),\n",
       " ('Investing Cash Flow', -0.0),\n",
       " ('Tax Effect of Unusual Items', 0.0),\n",
       " ('Pretax Income', 455.1511077517689)]"
      ]
     },
     "execution_count": 371,
     "metadata": {},
     "output_type": "execute_result"
    }
   ],
   "source": [
    "list(zip(X_train.columns, lasso_model_2.coef_))"
   ]
  },
  {
   "cell_type": "code",
   "execution_count": 372,
   "metadata": {},
   "outputs": [
    {
     "data": {
      "text/plain": [
       "(0.9524850066983153, 0.6273584684428368)"
      ]
     },
     "execution_count": 372,
     "metadata": {},
     "output_type": "execute_result"
    }
   ],
   "source": [
    "# Ridge\n",
    "lr_model_ridge = RidgeCV(alphas = alphavec, cv=5)\n",
    "lr_model_ridge.fit(X_tr, y_train)\n",
    "(lr_model_ridge.score(X_tr,y_train),lr_model_ridge.score(X_te,y_val))"
   ]
  },
  {
   "cell_type": "markdown",
   "metadata": {},
   "source": [
    "## Compare MAE"
   ]
  },
  {
   "cell_type": "code",
   "execution_count": 396,
   "metadata": {},
   "outputs": [],
   "source": [
    "test_set_pred = lasso_model_2.predict(X_test.iloc[:,0:])"
   ]
  },
  {
   "cell_type": "code",
   "execution_count": 463,
   "metadata": {
    "ExecuteTime": {
     "end_time": "2020-10-10T23:09:24.249015Z",
     "start_time": "2020-10-10T23:09:24.235721Z"
    }
   },
   "outputs": [],
   "source": [
    "test_set_pred_lr = lr.predict(X_test.iloc[:,0:])"
   ]
  },
  {
   "cell_type": "code",
   "execution_count": 422,
   "metadata": {},
   "outputs": [
    {
     "data": {
      "text/plain": [
       "0.9342846358539598"
      ]
     },
     "execution_count": 422,
     "metadata": {},
     "output_type": "execute_result"
    }
   ],
   "source": [
    "r2_score(y_test, test_set_pred_lr)"
   ]
  },
  {
   "cell_type": "code",
   "execution_count": 449,
   "metadata": {},
   "outputs": [
    {
     "data": {
      "text/plain": [
       "45.602227166626676"
      ]
     },
     "execution_count": 449,
     "metadata": {},
     "output_type": "execute_result"
    }
   ],
   "source": [
    "# The MAE has improved a lot with the simple linear regression model\n",
    "\n",
    "def mae(y_true, y_pred):\n",
    "    return np.mean(np.abs(y_pred - y_true)) \n",
    "\n",
    "mae(y_test, test_set_pred_lr)"
   ]
  },
  {
   "cell_type": "code",
   "execution_count": 383,
   "metadata": {},
   "outputs": [
    {
     "data": {
      "text/plain": [
       "97922.79381325301"
      ]
     },
     "execution_count": 383,
     "metadata": {},
     "output_type": "execute_result"
    }
   ],
   "source": [
    "df_final['Diluted Average Shares'].mean() # Put MAE into context"
   ]
  },
  {
   "cell_type": "code",
   "execution_count": 466,
   "metadata": {
    "ExecuteTime": {
     "end_time": "2020-10-10T23:11:38.493126Z",
     "start_time": "2020-10-10T23:11:38.107215Z"
    }
   },
   "outputs": [
    {
     "data": {
      "image/png": "[encoded data removed]",
      "text/plain": [
       "<Figure size 432x288 with 1 Axes>"
      ]
     },
     "metadata": {},
     "output_type": "display_data"
    }
   ],
   "source": [
    "plt.scatter(test_set_pred_lr, y_test, alpha=.5, color = \"navy\")\n",
    "plt.plot(np.linspace(0,4000,1000), np.linspace(0,4000,1000));\n",
    "plt.savefig(\"linear_model_prediction.svg\")"
   ]
  },
  {
   "cell_type": "markdown",
   "metadata": {},
   "source": [
    "## Stats Model"
   ]
  },
  {
   "cell_type": "code",
   "execution_count": 420,
   "metadata": {
    "scrolled": true
   },
   "outputs": [
    {
     "name": "stdout",
     "output_type": "stream",
     "text": [
      "Residuals:\n",
      "       Min       1Q  Median       3Q        Max\n",
      "-7865.7988 -23.5732 -9.7096  27.8757  2712.7857\n",
      "\n",
      "\n",
      "Coefficients:\n",
      "            Estimate  Std. Error  t value   p value\n",
      "_intercept -9.710479   21.748106  -0.4465  0.655378\n",
      "x1          0.009853   21.757940   0.0005  0.999639\n",
      "x2         -0.000001   27.551144  -0.0000  1.000000\n",
      "x3         -0.000094  456.367537  -0.0000  1.000000\n",
      "x4          0.000130  557.994456   0.0000  1.000000\n",
      "x5         -0.000009   57.543012  -0.0000  1.000000\n",
      "x6         -0.000008  173.568098  -0.0000  1.000000\n",
      "x7          0.000036   45.316885   0.0000  0.999999\n",
      "x8         -0.000063   41.584981  -0.0000  0.999999\n",
      "x9         -0.000028  107.490622  -0.0000  1.000000\n",
      "x10        -0.000012   58.988755  -0.0000  1.000000\n",
      "x11        -0.000046   53.624881  -0.0000  0.999999\n",
      "x12        -0.000057   24.740340  -0.0000  0.999998\n",
      "x13         0.000734   35.218406   0.0000  0.999983\n",
      "---\n",
      "R-squared:  -0.01784,    Adjusted R-squared:  -0.03741\n",
      "F-statistic: -0.91 on 13 features\n"
     ]
    }
   ],
   "source": [
    "from regressors import stats\n",
    "stats.summary(lr,X_tr,y_train)"
   ]
  },
  {
   "cell_type": "code",
   "execution_count": 378,
   "metadata": {},
   "outputs": [
    {
     "name": "stdout",
     "output_type": "stream",
     "text": [
      "Residuals:\n",
      "       Min       1Q  Median      3Q        Max\n",
      "-1474.2593 -11.6737 -0.1839  15.204  1511.8838\n",
      "\n",
      "\n",
      "Coefficients:\n",
      "              Estimate  Std. Error  t value   p value\n",
      "_intercept   65.928908    5.953424  11.0741  0.000000\n",
      "x1            0.000000    5.956116   0.0000  1.000000\n",
      "x2            0.000000    7.541973   0.0000  1.000000\n",
      "x3            0.000000  124.928091   0.0000  1.000000\n",
      "x4            0.000000  152.747898   0.0000  1.000000\n",
      "x5            0.000000   15.752081   0.0000  1.000000\n",
      "x6            0.000000   47.513308   0.0000  1.000000\n",
      "x7            0.000000   12.405247   0.0000  1.000000\n",
      "x8           -0.000000   11.383659  -0.0000  1.000000\n",
      "x9           56.104105   29.424964   1.9067  0.056977\n",
      "x10           0.000000   16.147846   0.0000  1.000000\n",
      "x11          -0.000000   14.679515  -0.0000  1.000000\n",
      "x12           0.000000    6.772531   0.0000  1.000000\n",
      "x13         455.151108    9.640844  47.2107  0.000000\n",
      "---\n",
      "R-squared:  0.92373,    Adjusted R-squared:  0.92226\n",
      "F-statistic: 629.76 on 13 features\n"
     ]
    }
   ],
   "source": [
    "\n",
    "stats.summary(lasso_model_2,X_tr,y_train)"
   ]
  },
  {
   "cell_type": "markdown",
   "metadata": {},
   "source": [
    "## Residual Plot"
   ]
  },
  {
   "cell_type": "code",
   "execution_count": 437,
   "metadata": {},
   "outputs": [],
   "source": [
    "import scipy.stats as stats"
   ]
  },
  {
   "cell_type": "code",
   "execution_count": 429,
   "metadata": {},
   "outputs": [],
   "source": [
    "data = pd.DataFrame()"
   ]
  },
  {
   "cell_type": "code",
   "execution_count": 467,
   "metadata": {
    "ExecuteTime": {
     "end_time": "2020-10-10T23:14:48.538107Z",
     "start_time": "2020-10-10T23:14:48.502057Z"
    }
   },
   "outputs": [],
   "source": [
    "data['predict'] = test_set_pred\n",
    "data['resid'] = (test_set_pred - y_test)"
   ]
  },
  {
   "cell_type": "code",
   "execution_count": 468,
   "metadata": {
    "ExecuteTime": {
     "end_time": "2020-10-10T23:14:51.410820Z",
     "start_time": "2020-10-10T23:14:50.672121Z"
    }
   },
   "outputs": [
    {
     "data": {
      "image/png": "[encoded data removed]",
      "text/plain": [
       "<Figure size 1152x432 with 2 Axes>"
      ]
     },
     "metadata": {},
     "output_type": "display_data"
    }
   ],
   "source": [
    "fig, axes = plt.subplots(1, 2, figsize=(16, 6))\n",
    "\n",
    "sns.scatterplot(data=data, x='predict', y='resid', alpha=0.5, ax=axes[0], color = \"Navy\")\n",
    "stats.probplot(data['resid'], dist=\"norm\", plot=axes[1])\n",
    "\n",
    "axes[0].set_title(\"Residuals vs. Predictions\")\n",
    "axes[1].set_title(\"Residuals Q-Q plot\")\n",
    "\n",
    "plt.tight_layout()\n",
    "plt.savefig(\"Residuals Plot.svg\")"
   ]
  },
  {
   "cell_type": "code",
   "execution_count": 430,
   "metadata": {},
   "outputs": [],
   "source": [
    "data['predict_lr'] = test_set_pred_lr\n",
    "data['resid_lr'] = (test_set_pred_lr - y_test)"
   ]
  },
  {
   "cell_type": "code",
   "execution_count": 440,
   "metadata": {},
   "outputs": [
    {
     "data": {
      "image/png": "[encoded data removed]",
      "text/plain": [
       "<Figure size 1152x432 with 2 Axes>"
      ]
     },
     "metadata": {},
     "output_type": "display_data"
    }
   ],
   "source": [
    "fig, axes = plt.subplots(1, 2, figsize=(16, 6))\n",
    "\n",
    "sns.scatterplot(data=data, x='predict_lr', y='resid_lr', alpha=0.5, ax=axes[0], color = \"Navy\")\n",
    "stats.probplot(data['resid_lr'], dist=\"norm\", plot=axes[1])\n",
    "\n",
    "axes[0].set_title(\"Residuals vs. Predictions\")\n",
    "axes[1].set_title(\"Residuals Q-Q plot\")\n",
    "\n",
    "plt.tight_layout()\n",
    "plt.savefig(\"Residuals Plot_lr.svg\")"
   ]
  },
  {
   "cell_type": "markdown",
   "metadata": {},
   "source": [
    "## Cross Validation"
   ]
  },
  {
   "cell_type": "code",
   "execution_count": 459,
   "metadata": {},
   "outputs": [],
   "source": [
    "from sklearn.model_selection import cross_validate\n",
    "\n",
    "def cv_results(X, y, model=Lasso(normalize=True), scoring='r2', rounding=4, cv=5, minimize_score=False):\n",
    "    '''\n",
    "    For a set of features and target X, y, perform a 5 fold cross validation.\n",
    "    Fit and validate a model, and report results\n",
    "    Note: `sklearn.model_selection.cross_validate` defaults to 5 fold, 80/20 validation splits.\n",
    "    '''\n",
    "    \n",
    "    model_cv = cross_validate(model, X, y, cv=cv, return_train_score=True, \n",
    "                              scoring=scoring, return_estimator=True)\n",
    "\n",
    "    if minimize_score:\n",
    "        select = model_cv['test_score'].argmin()\n",
    "    else:\n",
    "        select = model_cv['test_score'].argmax()\n",
    "\n",
    "    final_model = model_cv['estimator'][select]\n",
    "    \n",
    "    # Capture the ratio between the train and test scores to understand possible under/over fitting\n",
    "    model_cv['train_test_score_ratio'] = model_cv['train_score'] / model_cv['test_score']\n",
    "    \n",
    "    mean_score = round(model_cv['test_score'].mean(), rounding)\n",
    "    min_score = round(model_cv['test_score'].min(), rounding)\n",
    "    max_score = round(model_cv['test_score'].max(), rounding)\n",
    "    \n",
    "    mean_ratio = round(model_cv['train_test_score_ratio'].mean(), rounding)\n",
    "    min_ratio = round(model_cv['train_test_score_ratio'].min(), rounding)\n",
    "    max_ratio = round(model_cv['train_test_score_ratio'].max(), rounding)\n",
    "    \n",
    "    # report results\n",
    "    print(f'Test {scoring} {\":\":<15} Mean = {mean_score}\\tRange = ({min_score}, {max_score})')\n",
    "    print(f'Train/Test {scoring} Ratio {\":\":<3} Mean = {mean_ratio}\\tRange = ({min_ratio}, {max_ratio})')\n",
    "    \n",
    "    print('\\nBest Model Feature coefficient results:')\n",
    "    for feature, coef in zip(X.columns, final_model.coef_):\n",
    "        print(f'{feature + \":\":<16} {coef:.2f}') "
   ]
  },
  {
   "cell_type": "code",
   "execution_count": 460,
   "metadata": {},
   "outputs": [
    {
     "name": "stdout",
     "output_type": "stream",
     "text": [
      "Test r2 :               Mean = 0.8433\tRange = (0.5535, 0.9588)\n",
      "Train/Test r2 Ratio :   Mean = 1.111\tRange = (0.9052, 1.6922)\n",
      "\n",
      "Best Model Feature coefficient results:\n",
      "ROA:             0.00\n",
      "Total Liabilities Net Minority Interest: 0.00\n",
      "Total Equity Gross Minority Interest: 0.00\n",
      "Common Stock Equity: 0.00\n",
      "Tangible Book Value: 0.00\n",
      "Invested Capital: 0.00\n",
      "End Cash Position: 0.00\n",
      "Financing Cash Flow: -0.00\n",
      "Operating Cash Flow: 0.00\n",
      "Total Revenue:   0.00\n",
      "Investing Cash Flow: -0.00\n",
      "Tax Effect of Unusual Items: 0.00\n",
      "Pretax Income:   0.00\n"
     ]
    }
   ],
   "source": [
    "cv_results(X,y) # Cross-validation Results"
   ]
  }
 ],
 "metadata": {
  "direction": "ltr",
  "kernelspec": {
   "display_name": "Python [conda env:metis] *",
   "language": "python",
   "name": "conda-env-metis-py"
  },
  "language_info": {
   "codemirror_mode": {
    "name": "ipython",
    "version": 3
   },
   "file_extension": ".py",
   "mimetype": "text/x-python",
   "name": "python",
   "nbconvert_exporter": "python",
   "pygments_lexer": "ipython3",
   "version": "3.8.5"
  },
  "toc": {
   "base_numbering": 1,
   "nav_menu": {},
   "number_sections": true,
   "sideBar": true,
   "skip_h1_title": false,
   "title_cell": "Table of Contents",
   "title_sidebar": "Contents",
   "toc_cell": false,
   "toc_position": {
    "height": "calc(100% - 180px)",
    "left": "10px",
    "top": "150px",
    "width": "332.594px"
   },
   "toc_section_display": true,
   "toc_window_display": true
  }
 },
 "nbformat": 4,
 "nbformat_minor": 4
}
